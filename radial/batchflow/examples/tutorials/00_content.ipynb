{
 "cells": [
  {
   "cell_type": "markdown",
   "metadata": {},
   "source": [
    "# Hello and welcome to BatchFlow tutorials!\n",
    "These tutorials are intended to help you obtain a good working knowledge of how to use BatchFlow library. Start slow without a rush and soon you'll be able to create flexible machine learning pipelines.\n",
    "\n",
    "0. [Batch operations](./01_batch_operations.ipynb) - a short guide on how to obtain a batch flow.\n",
    "0. [Pipeline operations](./02_pipeline_operations.ipynb) - pipelines how to.\n",
    "0. [Train a ready to use TensorFlow model](./03_rady_to_use_model_tf.ipynb). A fast intro into how to create and train ready to use models like ResNet, VGG and [many others](https://analysiscenter.github.io/batchflow/intro/model_zoo_tf.html).\n",
    "0. [Train a ready to use PyTorch model](./03_rady_to_use_model_torch.ipynb). A fast intro into how to create and train ready to use models like ResNet, VGG and [many others](https://analysiscenter.github.io/batchflow/intro/model_zoo_torch.html).\n",
    "0. [Linear models as an example](./04_linear_models_example.ipynb) - a longer immersion into models training and configuration.\n",
    "0. [Creating your own model](./05_creating_CNN.ipynb). This tutorial shows how to create and train a simple model to recognize the digits from MNIST database.\n",
    "0. [Working with images](./06_image_augmentation.ipynb). How to augment images with ImagesBatch actions.\n",
    "\n",
    "Also you might be interested in [the experiments](./../experiments/experiments.ipynb).\n",
    "\n",
    "For more advanced techniques on how to use the BatchFlow take a look at [cardio](https://github.com/analysiscenter/cardio/blob/master/tutorials) and [radio](https://github.com/analysiscenter/radio/blob/master/tutorials) frameworks."
   ]
  }
 ],
 "metadata": {
  "kernelspec": {
   "display_name": "Python 3",
   "language": "python",
   "name": "python3"
  },
  "language_info": {
   "codemirror_mode": {
    "name": "ipython",
    "version": 3
   },
   "file_extension": ".py",
   "mimetype": "text/x-python",
   "name": "python",
   "nbconvert_exporter": "python",
   "pygments_lexer": "ipython3",
   "version": "3.5.2"
  }
 },
 "nbformat": 4,
 "nbformat_minor": 2
}
