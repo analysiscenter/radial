{
 "cells": [
  {
   "cell_type": "markdown",
   "metadata": {},
   "source": [
    "# Convolutional Neural Networks With BatchFlow"
   ]
  },
  {
   "cell_type": "markdown",
   "metadata": {},
   "source": [
    "Now it's time to talk about convolutional neural networks and in this notebook you will find out how to do:\n",
    "* data augmentation\n",
    "* early stopping\n",
    "* learning rate decay."
   ]
  },
  {
   "cell_type": "code",
   "execution_count": 1,
   "metadata": {
    "scrolled": false
   },
   "outputs": [],
   "source": [
    "import sys\n",
    "import warnings\n",
    "warnings.filterwarnings(\"ignore\")\n",
    "\n",
    "import numpy as np\n",
    "import PIL\n",
    "\n",
    "from matplotlib import pyplot as plt\n",
    "from tqdm import tqdm_notebook as tqn\n",
    "%matplotlib inline\n",
    "\n",
    "# the following line is not required if BatchFlow is installed as a python package.\n",
    "sys.path.append('../..')\n",
    "from batchflow import B, V, F, R, P, action, inbatch_parallel, ImagesBatch\n",
    "from batchflow.opensets import MNIST\n",
    "from batchflow.models.tf import TFModel\n",
    "from batchflow.models.metrics import ClassificationMetrics\n",
    "from batchflow.batch_image import transform_actions\n",
    "from batchflow import best_practice\n",
    "\n",
    "sys.path.append('../utils')\n",
    "import utils\n",
    "\n",
    "plt.style.use('seaborn-poster')\n",
    "plt.style.use('ggplot')"
   ]
  },
  {
   "cell_type": "markdown",
   "metadata": {},
   "source": [
    "Instead of generating data, you can implement a basic batch class with a preloaded [MNIST](https://analysiscenter.github.io/batchflow/api/batchflow.opensets.html#mnist) dataset."
   ]
  },
  {
   "cell_type": "code",
   "execution_count": 2,
   "metadata": {},
   "outputs": [],
   "source": [
    "@transform_actions(prefix='_', suffix='_', wrapper='apply_transform')\n",
    "class MnistBatch(ImagesBatch):\n",
    "    \"\"\" Mnist batch and models \"\"\"\n",
    "\n",
    "    components = 'images', 'labels'\n",
    "\n",
    "    def _shift_flattened_(self, image, max_margin=8):\n",
    "        \"\"\" Apply random shift to a flattened image\n",
    "\n",
    "        Parameters\n",
    "        ----------\n",
    "        max_margin: int\n",
    "            Max value of margin that image may be shifted\n",
    "\n",
    "        Returns\n",
    "        -------\n",
    "        flattened shifted image \"\"\"\n",
    "        padded = np.pad(self._to_array_(image),\n",
    "                        pad_width=[[max_margin, max_margin], [max_margin, max_margin], [0, 0]],\n",
    "                        mode='minimum')\n",
    "        left_lower = np.random.randint(2 * max_margin, size=2)\n",
    "        slicing = (slice(left_lower[0], left_lower[0] + 28),\n",
    "                   slice(left_lower[1], left_lower[1] + 28))\n",
    "        return self._to_pil_(padded[slicing])"
   ]
  },
  {
   "cell_type": "markdown",
   "metadata": {},
   "source": [
    "Let's load data and create the dataset:"
   ]
  },
  {
   "cell_type": "code",
   "execution_count": 3,
   "metadata": {},
   "outputs": [
    {
     "name": "stdout",
     "output_type": "stream",
     "text": [
      "Downloading http://yann.lecun.com/exdb/mnist/train-images-idx3-ubyte.gz\n",
      "Downloading http://yann.lecun.com/exdb/mnist/train-labels-idx1-ubyte.gz\n",
      "Downloading http://yann.lecun.com/exdb/mnist/t10k-images-idx3-ubyte.gz\n",
      "Extracting /tmp/train-images-idx3-ubyte.gz\n",
      "Extracting /tmp/t10k-images-idx3-ubyte.gz\n",
      "Downloading http://yann.lecun.com/exdb/mnist/t10k-labels-idx1-ubyte.gz\n",
      "Extracting /tmp/train-labels-idx1-ubyte.gz\n",
      "Extracting /tmp/t10k-labels-idx1-ubyte.gz\n"
     ]
    }
   ],
   "source": [
    "mnist = MNIST(batch_class=MnistBatch)"
   ]
  },
  {
   "cell_type": "code",
   "execution_count": 4,
   "metadata": {},
   "outputs": [],
   "source": [
    "class ConvModel(TFModel):\n",
    "    \"\"\" A simple model with 3 conv layers with kernels 7x7, 5x5 and 3x3 \"\"\"\n",
    "    @classmethod\n",
    "    def default_config(cls):\n",
    "        \"\"\" Default parameters for conv model.\n",
    "\n",
    "        Returns\n",
    "        -------\n",
    "        config : dict\n",
    "            default parameters to network\n",
    "        \"\"\"\n",
    "        config = TFModel.default_config()\n",
    "        config['body'].update(dict(layout='nc nac nac n', filters=[16, 32, 64], kernel_size=[7, 5, 3], strides=2))\n",
    "        config['head'].update(dict(layout='Pfa'))\n",
    "        return config"
   ]
  },
  {
   "cell_type": "markdown",
   "metadata": {},
   "source": [
    "As we already learned from the previous tutorials, first of all you have to define config and create train and test pipelines. \n",
    "\n",
    "Let's create a config for a model. If you open the file with the [model](./../utils/simple_conv_model.py) you can see [__default_config__](https://analysiscenter.github.io/batchflow/api/batchflow.models.tf.base.html#batchflow.models.tf.base.TFModel.default_config). It is a function, that allows to add the default configuration to the model.\n",
    "\n",
    "But if you want to override default config you can add parameters in model config. For example:\n",
    "\n",
    "ConvModel has dict __config__ with key __'body'__. You can override it by adding in __model_config__ key __'body'__ with dict of parameters of body function.\n",
    "\n",
    "Models are split in three parts:\n",
    "* __initial_block__ - block containing the input layers.\n",
    "* __body__ - the main part of the model\n",
    "* __head__ - outputs layers, like global average pooling or dense layers.\n",
    "\n",
    "Or add useful params by typing in a __model_config__ key like __'body/layout'__ and params to this key. Similar way use it in the key __'initial_block/inputs'__ or __'head/units'__. In [docs](https://analysiscenter.github.io/batchflow/intro/tf_models.html#model-structure) you can read more."
   ]
  },
  {
   "cell_type": "code",
   "execution_count": 5,
   "metadata": {},
   "outputs": [],
   "source": [
    "model_config = {\n",
    "    'inputs': dict(images={'shape': (28, 28, 1)},\n",
    "                   labels={'classes': 10}),\n",
    "    'loss': 'ce',\n",
    "    'decay': ('exp', {'learning_rate': 0.001,\n",
    "                      'decay_steps': 150,\n",
    "                      'decay_rate': 0.96}),\n",
    "    'optimizer': 'RMSProp',\n",
    "    'initial_block/inputs': 'images',\n",
    "    'head/units': 10,\n",
    "    'output': dict(predicted=['proba', 'labels'])\n",
    "}"
   ]
  },
  {
   "cell_type": "markdown",
   "metadata": {},
   "source": [
    "And don't forget about feed dict"
   ]
  },
  {
   "cell_type": "code",
   "execution_count": 6,
   "metadata": {},
   "outputs": [],
   "source": [
    "data_dict = {\n",
    "    'images': B('images'),\n",
    "    'labels': B('labels')\n",
    "}"
   ]
  },
  {
   "cell_type": "markdown",
   "metadata": {},
   "source": [
    "When config is defined, next step is to create a pipeline. Note that __random_rotate__ and __random_scale__ are methods of the __ImagesBatch__ class(parent of our class). You can see all avalible augmentations in [images tutorial](07_image_augmentation_examples.ipynb).\n",
    "\n",
    "In contrast to them __shift_flattned_pic__ is a function from [batch class](./../utils/secondbatch.py). It is worth mentioning because it runs in parallel. About parallel method read [docs](https://analysiscenter.github.io/batchflow/intro/parallel.html)."
   ]
  },
  {
   "cell_type": "code",
   "execution_count": 7,
   "metadata": {},
   "outputs": [],
   "source": [
    "def factor_sampler(size, p_square = 0.5):\n",
    "    if np.random.binomial(1, p_square):\n",
    "        return np.random.uniform(0.5, 1.5, (size,))\n",
    "    return np.random.uniform(0.5, 1.5, (size,2))"
   ]
  },
  {
   "cell_type": "code",
   "execution_count": 8,
   "metadata": {
    "scrolled": false
   },
   "outputs": [],
   "source": [
    "train_pipeline = (\n",
    "    mnist.train.p\n",
    "    .init_variable('predictions')\n",
    "    .init_variable('metrics', init_on_each_run=None)\n",
    "    .shift_flattened()\n",
    "    .rotate(angle=P(R('uniform',-10, 10)), p=0.8)\n",
    "    .crop(shape=(28, 28), origin='center')\n",
    "    .scale(factor=P(R(factor_sampler)), preserve_shape=True, p=0.8)\n",
    "    .to_array()\n",
    "    .multiply(multiplier=1/255., preserve_type=False)\n",
    "    .init_model('dynamic', ConvModel, 'conv', config=model_config)\n",
    "    .to_array()\n",
    "    .train_model('conv', fetches='predictions', feed_dict=data_dict, save_to=V('predictions'))\n",
    "    .gather_metrics(ClassificationMetrics, targets=B('labels'), predictions=V('predictions'),\n",
    "                    fmt='logits', axis=-1, save_to=V('metrics'), mode='a')\n",
    ")"
   ]
  },
  {
   "cell_type": "markdown",
   "metadata": {},
   "source": [
    "And test on the augmented data"
   ]
  },
  {
   "cell_type": "code",
   "execution_count": 9,
   "metadata": {},
   "outputs": [],
   "source": [
    "validation_pipeline = (\n",
    "    mnist.test.p\n",
    "    .init_variable('predictions')\n",
    "    .init_variable('metrics', init_on_each_run=None)\n",
    "    .import_model('conv', train_pipeline)\n",
    "    .shift_flattened()\n",
    "    .rotate(angle=P(R('uniform',-10, 10)), p=0.8)\n",
    "    .crop(shape=(28, 28), origin='center')\n",
    "    .scale(factor=P(R(factor_sampler)), preserve_shape=True, p=0.8) \n",
    "    .to_array()\n",
    "    .multiply(multiplier=1/255., preserve_type=False)\n",
    "    .predict_model('conv', fetches='predictions', feed_dict=data_dict, save_to=V('predictions'))\n",
    "    .gather_metrics(ClassificationMetrics, targets=B('labels'), predictions=V('predictions'),\n",
    "                    fmt='logits', axis=-1, save_to=V('metrics'), mode='a')\n",
    ")"
   ]
  },
  {
   "cell_type": "markdown",
   "metadata": {},
   "source": [
    "We introduce an early stopping to terminate the model training when an average accuracy for a few last epochs will exceed 90 percent."
   ]
  },
  {
   "cell_type": "code",
   "execution_count": 10,
   "metadata": {},
   "outputs": [
    {
     "data": {
      "application/vnd.jupyter.widget-view+json": {
       "model_id": "c55914fe9d874077898dbee6986058dc",
       "version_major": 2,
       "version_minor": 0
      },
      "text/html": [
       "<p>Failed to display Jupyter Widget of type <code>HBox</code>.</p>\n",
       "<p>\n",
       "  If you're reading this message in the Jupyter Notebook or JupyterLab Notebook, it may mean\n",
       "  that the widgets JavaScript is still loading. If this message persists, it\n",
       "  likely means that the widgets JavaScript library is either not installed or\n",
       "  not enabled. See the <a href=\"https://ipywidgets.readthedocs.io/en/stable/user_install.html\">Jupyter\n",
       "  Widgets Documentation</a> for setup instructions.\n",
       "</p>\n",
       "<p>\n",
       "  If you're reading this message in another frontend (for example, a static\n",
       "  rendering on GitHub or <a href=\"https://nbviewer.jupyter.org/\">NBViewer</a>),\n",
       "  it may mean that your frontend doesn't currently support widgets.\n",
       "</p>\n"
      ],
      "text/plain": [
       "HBox(children=(IntProgress(value=0, max=500), HTML(value='')))"
      ]
     },
     "metadata": {},
     "output_type": "display_data"
    },
    {
     "name": "stdout",
     "output_type": "stream",
     "text": [
      "\n"
     ]
    }
   ],
   "source": [
    "MAX_ITER = 500\n",
    "window = 20\n",
    "accuracy = 0\n",
    "batch_size = 128\n",
    "\n",
    "for curr_iter in tqn(range(1, MAX_ITER + 1)):\n",
    "\n",
    "    train_pipeline.next_batch(batch_size, n_epochs=None)\n",
    "    validation_pipeline.next_batch(batch_size, n_epochs=None)\n",
    "\n",
    "    if curr_iter % window == 0:\n",
    "        metrics = validation_pipeline.get_variable('metrics')\n",
    "        accuracy = metrics[-window:].evaluate('accuracy')\n",
    "\n",
    "    #Early stopping   \n",
    "    if accuracy > 0.9:\n",
    "        print('Early stop on {} iter. Acc: {}'.format(curr_iter, stats[-1]))\n",
    "        break"
   ]
  },
  {
   "cell_type": "markdown",
   "metadata": {},
   "source": [
    "Let's take a look at the predictions now."
   ]
  },
  {
   "cell_type": "code",
   "execution_count": 11,
   "metadata": {},
   "outputs": [],
   "source": [
    "test_pipeline = (mnist.test.p\n",
    "                       .import_model('conv', train_pipeline)\n",
    "                       .shift_flattened()\n",
    "                       .rotate(angle=P(R('uniform',-10, 10)), p=0.8)\n",
    "                       .crop(shape=(28, 28), origin='center')\n",
    "                       .scale(factor=P(R(factor_sampler)), preserve_shape=True, p=0.8) \n",
    "                       .to_array()\n",
    "                       .multiply(multiplier=1/255., preserve_type=False)\n",
    "                       .init_variable('answers', init_on_each_run=list)\n",
    "                       .init_variable('img', init_on_each_run=list)\n",
    "                       .init_variable('predict', init_on_each_run=list)\n",
    "                       .init_variable('proba', init_on_each_run=list)\n",
    "                       .predict_model('conv', \n",
    "                                      fetches=['labels', \n",
    "                                               'images', \n",
    "                                               'predicted_labels', \n",
    "                                               'predicted_proba'],\n",
    "                                      feed_dict=data_dict,\n",
    "                                      save_to=[V('answers'),\n",
    "                                               V('img'), \n",
    "                                               V('predict'), \n",
    "                                               V('proba')],\n",
    "                                      mode='w'))"
   ]
  },
  {
   "cell_type": "markdown",
   "metadata": {},
   "source": [
    "It's always interesting to look at the images, so let's draw them."
   ]
  },
  {
   "cell_type": "code",
   "execution_count": 12,
   "metadata": {
    "scrolled": false
   },
   "outputs": [
    {
     "data": {
      "image/png": "[encoded data removed]",
      "text/plain": [
       "<Figure size 1152x1152 with 12 Axes>"
      ]
     },
     "metadata": {},
     "output_type": "display_data"
    }
   ],
   "source": [
    "_, ax = plt.subplots(3, 4, figsize=(16, 16))\n",
    "ax = ax.reshape(-1)\n",
    "\n",
    "\n",
    "for item in range(12):\n",
    "    test_pipeline.next_batch(1, n_epochs=None, shuffle=True)\n",
    "    answer= test_pipeline.get_variable('answers')\n",
    "    img = test_pipeline.get_variable('img')\n",
    "    predict = test_pipeline.get_variable('predict')\n",
    "    proba = test_pipeline.get_variable('proba')\n",
    "    ax[item].imshow(img[-1].reshape(-1, 28))\n",
    "    ax[item].set_xlabel('Prediction: {} with {:.2f}% \\n Real answer: {}'.format(\n",
    "                             predict[-1],\n",
    "                             proba[-1][np.argmax(proba[-1])] * 100,\n",
    "                             answer[-1]),\n",
    "                             fontsize=18)\n",
    "    ax[item].grid()\n",
    "plt.tight_layout(pad=0.4, w_pad=0., h_pad=1.0)\n",
    "plt.show()"
   ]
  },
  {
   "cell_type": "markdown",
   "metadata": {},
   "source": [
    "## Conclusion\n",
    "\n",
    "Today you have learnt how to:\n",
    "* create convolutional neural network with the BatchFlow.\n",
    "* easily load MNIST data without writing your own loading functions.\n",
    "* perforn data augmentation with dataset.\n",
    "* configure the model using model config.\n",
    "\n",
    "And found out that network can be more robust with data augmentations (like scale and rotate). "
   ]
  },
  {
   "cell_type": "markdown",
   "metadata": {},
   "source": [
    "## And what's next?\n",
    "Because now you know how to work with convolutional models, you can:\n",
    "* create a more sophisticated model\n",
    "* change our model's config.\n",
    "\n",
    "Your goal is 0.95 on the test data!\n",
    "\n",
    "Good luck!\n",
    "\n",
    "See [image augmentation tutorial](./06_image_augmentation.ipynb) for advanced augmentation methods or return to the [table of contents](./00_content.ipynb)."
   ]
  }
 ],
 "metadata": {
  "kernelspec": {
   "display_name": "Python 3",
   "language": "python",
   "name": "python3"
  },
  "language_info": {
   "codemirror_mode": {
    "name": "ipython",
    "version": 3
   },
   "file_extension": ".py",
   "mimetype": "text/x-python",
   "name": "python",
   "nbconvert_exporter": "python",
   "pygments_lexer": "ipython3",
   "version": "3.5.2"
  }
 },
 "nbformat": 4,
 "nbformat_minor": 2
}
