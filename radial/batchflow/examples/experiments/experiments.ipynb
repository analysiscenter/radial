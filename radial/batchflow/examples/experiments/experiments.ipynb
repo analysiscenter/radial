{
 "cells": [
  {
   "cell_type": "markdown",
   "metadata": {},
   "source": [
    "# Hello and welcome to the Dataset experiments library!\n",
    "\n",
    "We have implemented a few of very interesting articles on neural networks:\n",
    "0. [Zeroing of weights](./zeroing_of_weights/zeroing_of_weights.ipynb).\n",
    "0. [ResNet with stochastic depth](./stochastic_depth/stochastic_depth.ipynb).\n",
    "0. [Squeeze and excitation block](./squeeze_and_excitation/squeeze_and_excitation.ipynb).\n",
    "0. [FreezeOut](./freezeout/FreezeOut.ipynb).\n",
    "0. The impact of [augmentation](./augmentation/augmentation.ipynb) on network quality.\n",
    "0. [A comparison of the distributions](./weights_distributions/weights_distributions.ipynb) of the weights of the two ResNet models.\n",
    "\n",
    "To get a deeper understanding of Dataset library have a look at [the tutorials](./../tutorials/00_content.ipynb)."
   ]
  }
 ],
 "metadata": {
  "kernelspec": {
   "display_name": "Python 3",
   "language": "python",
   "name": "python3"
  },
  "language_info": {
   "codemirror_mode": {
    "name": "ipython",
    "version": 3
   },
   "file_extension": ".py",
   "mimetype": "text/x-python",
   "name": "python",
   "nbconvert_exporter": "python",
   "pygments_lexer": "ipython3",
   "version": "3.6.4"
  }
 },
 "nbformat": 4,
 "nbformat_minor": 2
}
