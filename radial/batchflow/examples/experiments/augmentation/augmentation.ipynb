{
 "cells": [
  {
   "cell_type": "markdown",
   "metadata": {},
   "source": [
    "## Is Augmentation Necessary?\n",
    "In this notebook, we will check how the network trained on ordinary data copes with the augmented data and what will happen if it is learned from the augmented data.\n",
    "\n",
    "How the implement class with the neural network you'll see in [this](./../../utils/simple_conv_model.py) file."
   ]
  },
  {
   "cell_type": "code",
   "execution_count": 1,
   "metadata": {
    "scrolled": true
   },
   "outputs": [
    {
     "name": "stderr",
     "output_type": "stream",
     "text": [
      "/home/anton/anaconda3/envs/tensorflow/lib/python3.6/site-packages/h5py/__init__.py:36: FutureWarning: Conversion of the second argument of issubdtype from `float` to `np.floating` is deprecated. In future, it will be treated as `np.float64 == np.dtype(float).type`.\n",
      "  from ._conv import register_converters as _register_converters\n"
     ]
    }
   ],
   "source": [
    "import sys\n",
    "\n",
    "import numpy as np\n",
    "import matplotlib.pyplot as plt\n",
    "from tqdm import tqdm_notebook as tqn\n",
    "%matplotlib inline\n",
    "\n",
    "sys.path.append('../../..')\n",
    "sys.path.append('../../utils')\n",
    "\n",
    "import utils\n",
    "from secondbatch import MnistBatch\n",
    "from simple_conv_model import ConvModel\n",
    "from batchflow import V, B\n",
    "from batchflow.opensets import MNIST"
   ]
  },
  {
   "cell_type": "markdown",
   "metadata": {},
   "source": [
    "Create batch class depended from MnistBatch"
   ]
  },
  {
   "cell_type": "code",
   "execution_count": 2,
   "metadata": {},
   "outputs": [
    {
     "name": "stdout",
     "output_type": "stream",
     "text": [
      "Downloading http://yann.lecun.com/exdb/mnist/train-images-idx3-ubyte.gz\n",
      "Downloading http://yann.lecun.com/exdb/mnist/train-labels-idx1-ubyte.gz\n",
      "Extracting /tmp/train-images-idx3-ubyte.gz\n",
      "Extracting /tmp/train-labels-idx1-ubyte.gz\n",
      "Downloading http://yann.lecun.com/exdb/mnist/t10k-images-idx3-ubyte.gz\n",
      "Downloading http://yann.lecun.com/exdb/mnist/t10k-labels-idx1-ubyte.gz\n",
      "Extracting /tmp/t10k-images-idx3-ubyte.gz\n",
      "Extracting /tmp/t10k-labels-idx1-ubyte.gz\n"
     ]
    }
   ],
   "source": [
    "mnistset = MNIST(batch_class=MnistBatch)"
   ]
  },
  {
   "cell_type": "markdown",
   "metadata": {
    "collapsed": true
   },
   "source": [
    "Already familiar to us the construction to create the pipelines. These pipelines train NN on simple MNIST images, without shift."
   ]
  },
  {
   "cell_type": "code",
   "execution_count": 3,
   "metadata": {
    "scrolled": true
   },
   "outputs": [],
   "source": [
    "normal_train_ppl = (\n",
    "    mnistset.train.p\n",
    "    .init_model('dynamic',\n",
    "                ConvModel,\n",
    "                'conv',\n",
    "                config={'inputs': dict(images={'shape': (28, 28, 1)},\n",
    "                                       labels={'classes': (10), \n",
    "                                               'transform': 'ohe', \n",
    "                                               'name': 'targets'}),\n",
    "                        'loss': 'ce',\n",
    "                        'optimizer':'Adam',\n",
    "                        'input_block/inputs': 'images',\n",
    "                        'head/units': 10,\n",
    "                        'output': dict(ops=['labels', \n",
    "                                            'proba', \n",
    "                                            'accuracy'])})\n",
    "    .train_model('conv',\n",
    "                feed_dict={'images': B('images'),\n",
    "                           'labels': B('labels')})\n",
    ")"
   ]
  },
  {
   "cell_type": "code",
   "execution_count": 4,
   "metadata": {},
   "outputs": [],
   "source": [
    "normal_test_ppl = (\n",
    "    mnistset.test.p\n",
    "    .import_model('conv', normal_train_ppl)\n",
    "    .init_variable('test_accuracy', init_on_each_run=int)\n",
    "    .predict_model('conv', \n",
    "                   fetches='output_accuracy',\n",
    "                   feed_dict={'images': B('images'),\n",
    "                              'labels': B('labels')},\n",
    "                   save_to=V('test_accuracy'), \n",
    "                   mode='w'))"
   ]
  },
  {
   "cell_type": "markdown",
   "metadata": {},
   "source": [
    "Train the model by using __next_batch__ method"
   ]
  },
  {
   "cell_type": "code",
   "execution_count": 5,
   "metadata": {
    "scrolled": true
   },
   "outputs": [
    {
     "data": {
      "application/vnd.jupyter.widget-view+json": {
       "model_id": "fa5c4514fea4490387b4f5ccdf5be35e",
       "version_major": 2,
       "version_minor": 0
      },
      "text/html": [
       "<p>Failed to display Jupyter Widget of type <code>HBox</code>.</p>\n",
       "<p>\n",
       "  If you're reading this message in the Jupyter Notebook or JupyterLab Notebook, it may mean\n",
       "  that the widgets JavaScript is still loading. If this message persists, it\n",
       "  likely means that the widgets JavaScript library is either not installed or\n",
       "  not enabled. See the <a href=\"https://ipywidgets.readthedocs.io/en/stable/user_install.html\">Jupyter\n",
       "  Widgets Documentation</a> for setup instructions.\n",
       "</p>\n",
       "<p>\n",
       "  If you're reading this message in another frontend (for example, a static\n",
       "  rendering on GitHub or <a href=\"https://nbviewer.jupyter.org/\">NBViewer</a>),\n",
       "  it may mean that your frontend doesn't currently support widgets.\n",
       "</p>\n"
      ],
      "text/plain": [
       "HBox(children=(IntProgress(value=0, max=600), HTML(value='')))"
      ]
     },
     "metadata": {},
     "output_type": "display_data"
    },
    {
     "name": "stdout",
     "output_type": "stream",
     "text": [
      "\n"
     ]
    }
   ],
   "source": [
    "batch_size = 400\n",
    "for i in tqn(range(600)):\n",
    "    normal_train_ppl.next_batch(batch_size, n_epochs=None)\n",
    "    normal_test_ppl.next_batch(batch_size, n_epochs=None)"
   ]
  },
  {
   "cell_type": "markdown",
   "metadata": {},
   "source": [
    "Get variable from pipeline and print accuracy on data without shift"
   ]
  },
  {
   "cell_type": "code",
   "execution_count": 6,
   "metadata": {},
   "outputs": [
    {
     "name": "stdout",
     "output_type": "stream",
     "text": [
      "Accuracy on normal data: 98.50%\n"
     ]
    }
   ],
   "source": [
    "acc = normal_test_ppl.get_variable('test_accuracy')\n",
    "print('Accuracy on normal data: {:.2%}'.format(acc))"
   ]
  },
  {
   "cell_type": "markdown",
   "metadata": {},
   "source": [
    "Now check, how change accuracy, if the first model testing on shift data"
   ]
  },
  {
   "cell_type": "code",
   "execution_count": 7,
   "metadata": {
    "scrolled": true
   },
   "outputs": [],
   "source": [
    "shift_test_ppl= (\n",
    "    mnistset.test.p\n",
    "    .import_model('conv', normal_train_ppl)\n",
    "    .shift_flattened_pic()\n",
    "    .init_variable('predict', init_on_each_run=int)\n",
    "    .predict_model('conv', \n",
    "                   fetches='output_accuracy',\n",
    "                   feed_dict={'images': B('images'),\n",
    "                              'labels': B('labels')},\n",
    "                    save_to=V('predict'), \n",
    "                    mode='w')\n",
    "    .run(batch_size, n_epochs=1)\n",
    ")"
   ]
  },
  {
   "cell_type": "code",
   "execution_count": 8,
   "metadata": {},
   "outputs": [
    {
     "name": "stdout",
     "output_type": "stream",
     "text": [
      "Accuracy with shift: 44.50%\n"
     ]
    }
   ],
   "source": [
    "print('Accuracy with shift: {:.2%}'.format(shift_test_ppl.get_variable('predict')))"
   ]
  },
  {
   "cell_type": "markdown",
   "metadata": {},
   "source": [
    "In order for the model to be able to predict the augmentation data, we will teach it on such data"
   ]
  },
  {
   "cell_type": "code",
   "execution_count": 9,
   "metadata": {},
   "outputs": [],
   "source": [
    "shift_train_ppl =  (\n",
    "    mnistset.train.p\n",
    "    .shift_flattened_pic()\n",
    "    .init_model('dynamic',\n",
    "                ConvModel,\n",
    "                'conv',\n",
    "                config={'inputs': dict(images={'shape': (28, 28, 1)},\n",
    "                                       labels={'classes': (10), \n",
    "                                               'transform': 'ohe', \n",
    "                                               'name': 'targets'}),\n",
    "                        'loss': 'ce',\n",
    "                        'optimizer':'Adam',\n",
    "                        'input_block/inputs': 'images',\n",
    "                        'head/units': 10,\n",
    "                        'output': dict(ops=['labels', \n",
    "                                            'proba',\n",
    "                                            'accuracy'])})\n",
    "    .train_model('conv',\n",
    "                 feed_dict={'images': B('images'),\n",
    "                            'labels': B('labels')})\n",
    ")"
   ]
  },
  {
   "cell_type": "code",
   "execution_count": 10,
   "metadata": {
    "scrolled": true
   },
   "outputs": [
    {
     "data": {
      "application/vnd.jupyter.widget-view+json": {
       "model_id": "67cc12f0af8945db8409b3101b5ab12c",
       "version_major": 2,
       "version_minor": 0
      },
      "text/html": [
       "<p>Failed to display Jupyter Widget of type <code>HBox</code>.</p>\n",
       "<p>\n",
       "  If you're reading this message in the Jupyter Notebook or JupyterLab Notebook, it may mean\n",
       "  that the widgets JavaScript is still loading. If this message persists, it\n",
       "  likely means that the widgets JavaScript library is either not installed or\n",
       "  not enabled. See the <a href=\"https://ipywidgets.readthedocs.io/en/stable/user_install.html\">Jupyter\n",
       "  Widgets Documentation</a> for setup instructions.\n",
       "</p>\n",
       "<p>\n",
       "  If you're reading this message in another frontend (for example, a static\n",
       "  rendering on GitHub or <a href=\"https://nbviewer.jupyter.org/\">NBViewer</a>),\n",
       "  it may mean that your frontend doesn't currently support widgets.\n",
       "</p>\n"
      ],
      "text/plain": [
       "HBox(children=(IntProgress(value=0, max=600), HTML(value='')))"
      ]
     },
     "metadata": {},
     "output_type": "display_data"
    },
    {
     "name": "stdout",
     "output_type": "stream",
     "text": [
      "\n"
     ]
    }
   ],
   "source": [
    "for i in tqn(range(600)):\n",
    "    shift_train_ppl.next_batch(batch_size, n_epochs=None)"
   ]
  },
  {
   "cell_type": "markdown",
   "metadata": {},
   "source": [
    "And now check, how change accuracy on shift data"
   ]
  },
  {
   "cell_type": "code",
   "execution_count": 11,
   "metadata": {},
   "outputs": [],
   "source": [
    "shift_test_ppl = (\n",
    "    mnistset.test.p\n",
    "    .import_model('conv', shift_train_ppl)\n",
    "    .shift_flattened_pic()\n",
    "    .init_variable('acc', init_on_each_run=list)\n",
    "    .init_variable('img', init_on_each_run=list)\n",
    "    .init_variable('predict', init_on_each_run=list)\n",
    "    .predict_model('conv', \n",
    "                   fetches=['output_accuracy', 'inputs', 'output_proba'],\n",
    "                   feed_dict={'images': B('images'),\n",
    "                              'labels': B('labels')},\n",
    "                   save_to=[V('acc'), V('img'), V('predict')],\n",
    "                   mode='a')\n",
    "    .run(1, n_epochs=1)\n",
    ")"
   ]
  },
  {
   "cell_type": "code",
   "execution_count": 12,
   "metadata": {},
   "outputs": [
    {
     "name": "stdout",
     "output_type": "stream",
     "text": [
      "Accuracy with shift: 97.04%\n"
     ]
    }
   ],
   "source": [
    "print('Accuracy with shift: {:.2%}'.format(np.mean(shift_test_ppl.get_variable('acc'))))"
   ]
  },
  {
   "cell_type": "markdown",
   "metadata": {},
   "source": [
    "It's really better than before.\n",
    "\n",
    "It is interesting, on what figures we are mistaken?"
   ]
  },
  {
   "cell_type": "code",
   "execution_count": 13,
   "metadata": {},
   "outputs": [],
   "source": [
    "acc = shift_test_ppl.get_variable('acc')\n",
    "img = shift_test_ppl.get_variable('img')\n",
    "predict = shift_test_ppl.get_variable('predict')"
   ]
  },
  {
   "cell_type": "code",
   "execution_count": 14,
   "metadata": {
    "scrolled": false
   },
   "outputs": [
    {
     "data": {
      "image/png": "[encoded data removed]",
      "text/plain": [
       "<matplotlib.figure.Figure at 0x7fcd1c7e5b70>"
      ]
     },
     "metadata": {},
     "output_type": "display_data"
    }
   ],
   "source": [
    "_, ax = plt.subplots(3, 4, figsize=(16, 16))\n",
    "ax = ax.reshape(-1)\n",
    "for i in range(12):\n",
    "    index = np.where(np.array(acc) == 0)[0][i]\n",
    "    ax[i].imshow(img[index]['images'].reshape(-1,28))\n",
    "    ax[i].set_xlabel('Predict: {}'.format(np.argmax(predict[index][0])), fontsize=18)\n",
    "    ax[i].grid()"
   ]
  },
  {
   "cell_type": "markdown",
   "metadata": {},
   "source": [
    "In most cases, the model is mistaken for examples in which the figures are heavily shifted, some of them are even hardly recognizable by eye."
   ]
  },
  {
   "cell_type": "markdown",
   "metadata": {},
   "source": [
    "### Сonclusion:\n",
    "* The network is not trained on the augmented data can not predict such figures with good quality. Therefore training on augmentation data are necessary.\n",
    "\n",
    "If you still have not completed our tutorial, you can fix it right [now](./../../tutorial/00_description.ipynb)!\n",
    "Read and apply another experiments:\n",
    "* next [experiment](./../weights_distributions/weights_distributions.ipynb)\n",
    "* previous [experiment](./../freezeout/FreezeOut.ipynb)\n",
    "* return to the [table of contents](./../experiments_description.ipynb)."
   ]
  }
 ],
 "metadata": {
  "kernelspec": {
   "display_name": "Python 3",
   "language": "python",
   "name": "python3"
  },
  "language_info": {
   "codemirror_mode": {
    "name": "ipython",
    "version": 3
   },
   "file_extension": ".py",
   "mimetype": "text/x-python",
   "name": "python",
   "nbconvert_exporter": "python",
   "pygments_lexer": "ipython3",
   "version": "3.6.4"
  }
 },
 "nbformat": 4,
 "nbformat_minor": 2
}
