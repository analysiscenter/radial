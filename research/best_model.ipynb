{
 "cells": [
  {
   "cell_type": "markdown",
   "metadata": {},
   "source": [
    "# Предсказание модели"
   ]
  },
  {
   "cell_type": "code",
   "execution_count": 20,
   "metadata": {},
   "outputs": [],
   "source": [
    "import os\n",
    "import sys\n",
    "from copy import deepcopy\n",
    "from collections import defaultdict\n",
    "from itertools import combinations\n",
    "sys.path.insert(0, os.path.join('..'))\n",
    "\n",
    "import numpy as np\n",
    "import pandas as pd\n",
    "import seaborn as sns\n",
    "import matplotlib.pyplot as plt\n",
    "\n",
    "from radial import calculate_metrics\n",
    "\n",
    "from radial.batchflow import Dataset, FilesIndex, Pipeline, R, B, V, C\n",
    "from radial.batchflow.models.tf import ResNet, ResNeXt18\n",
    "\n",
    "from radial.batchflow.research import Research, Option\n",
    "from radial.batchflow.research.research import Executable\n",
    "\n",
    "from radial.core import RadialBatch\n",
    "from radial.core.pipelines import create_preprocess_pipeline, create_train_pipeline\n",
    "\n",
    "from research_utils import *\n",
    "plt.style.use('ggplot')\n",
    "%matplotlib inline\n",
    "\n",
    "import warnings\n",
    "warnings.filterwarnings('ignore')"
   ]
  },
  {
   "cell_type": "code",
   "execution_count": 5,
   "metadata": {},
   "outputs": [],
   "source": [
    "N_SAMPLES = 100\n",
    "\n",
    "model_config = {\n",
    "    'inputs': dict(points=dict(shape=(N_SAMPLES, 2)),\n",
    "                   targets=dict(name='target', shape=1)),\n",
    "    'initial_block/inputs': 'points',\n",
    "    'head': dict(layout='f',\n",
    "                 units=1),\n",
    "    'body/num_blocks': [1, 1, 1],\n",
    "    'body/filters': [4, 8, 16],\n",
    "    'initial_block/filters': 4,\n",
    "    'loss': 'mse',\n",
    "    'optimizer': 'Adam'\n",
    "}"
   ]
  },
  {
   "cell_type": "code",
   "execution_count": 6,
   "metadata": {},
   "outputs": [],
   "source": [
    "ds_train = Dataset(FilesIndex(path=\"./data_splited/train_isol/*\"), batch_class=RadialBatch)\n",
    "ds_test = Dataset(FilesIndex(path=\"./data_splited/test_isol/*\"), batch_class=RadialBatch)"
   ]
  },
  {
   "cell_type": "code",
   "execution_count": 7,
   "metadata": {},
   "outputs": [],
   "source": [
    "prep_pipeline = (Pipeline().load(fmt='npz')\n",
    "                    .drop_negative(src=['time', 'derivative'])\n",
    "                    .normalize(src=['time', 'derivative', 'target'],\n",
    "                               dst=['time', 'derivative', 'target'],\n",
    "                               src_range=[None, None, 'derivative_q'],\n",
    "                               dst_range=[None, 'derivative_q', None])\n",
    "                    .get_samples(N_SAMPLES, n_samples=1, sampler=np.random.random, src=['time', 'derivative'])\n",
    "                    .make_points(src=['time', 'derivative'], dst=['points'])\n",
    "                    .make_target(src='target')\n",
    "                )\n",
    "\n",
    "train_pipeline = create_train_pipeline(ResNet, model_config, prep_pipeline) << ds_train"
   ]
  },
  {
   "cell_type": "code",
   "execution_count": 8,
   "metadata": {},
   "outputs": [
    {
     "name": "stderr",
     "output_type": "stream",
     "text": [
      "  0%|          | 0/1800 [00:00<?, ?it/s]"
     ]
    },
    {
     "name": "stdout",
     "output_type": "stream",
     "text": [
      "WARNING:tensorflow:From /usr/local/lib/python3.5/dist-packages/tensorflow/python/util/deprecation.py:497: calling conv1d (from tensorflow.python.ops.nn_ops) with data_format=NHWC is deprecated and will be removed in a future version.\n",
      "Instructions for updating:\n",
      "`NHWC` for data_format is deprecated, use `NWC` instead\n"
     ]
    },
    {
     "name": "stderr",
     "output_type": "stream",
     "text": [
      "100%|██████████| 1800/1800 [13:22<00:00,  2.28it/s]\n"
     ]
    },
    {
     "data": {
      "text/plain": [
       "<radial.batchflow.batchflow.pipeline.Pipeline at 0x7f39edd324a8>"
      ]
     },
     "execution_count": 8,
     "metadata": {},
     "output_type": "execute_result"
    }
   ],
   "source": [
    "train_pipeline.run(50, n_epochs=300, drop_last=True, shuffle=True, bar=True)"
   ]
  },
  {
   "cell_type": "code",
   "execution_count": 9,
   "metadata": {},
   "outputs": [],
   "source": [
    "results = defaultdict(lambda: defaultdict(list))\n",
    "test_pipeline = prep_pipeline + (Pipeline()\n",
    "                        .init_variable('predictions', init_on_each_run=list)\n",
    "                        .init_variable('targets', init_on_each_run=list)\n",
    "                        .import_model('model', train_pipeline)\n",
    "                        .init_variable('ind', init_on_each_run=list)\n",
    "                        .update_variable('ind', B('indices'), mode='e')\n",
    "                        .predict_model('model', fetches='predictions',\n",
    "                                                feed_dict={'points': B('points'),\n",
    "                                                           'targets': B('target')},\n",
    "                                        save_to=B('predictions'), mode='w')\n",
    "                        .denormalize_component(src=['predictions', 'target'], \n",
    "                                               dst=['denorm_predictions', 'denorm_target'],\n",
    "                                               src_range=['derivative_q', 'derivative_q'])\n",
    "                        .update_variable('predictions', B('denorm_predictions'), mode='e')\n",
    "                        .update_variable('targets', B('denorm_target'), mode='e') << ds_test\n",
    ")"
   ]
  },
  {
   "cell_type": "code",
   "execution_count": 10,
   "metadata": {},
   "outputs": [
    {
     "name": "stderr",
     "output_type": "stream",
     "text": [
      "100%|█████████▉| 8999/9000 [02:21<00:00, 63.14it/s]\n"
     ]
    },
    {
     "data": {
      "text/plain": [
       "<radial.batchflow.batchflow.pipeline.Pipeline at 0x7f39dfb52dd8>"
      ]
     },
     "execution_count": 10,
     "metadata": {},
     "output_type": "execute_result"
    }
   ],
   "source": [
    "test_pipeline.run(1, n_epochs=100, drop_last=True, bar=True)"
   ]
  },
  {
   "cell_type": "code",
   "execution_count": 11,
   "metadata": {},
   "outputs": [],
   "source": [
    "for i in range(len(test_pipeline.get_variable('ind'))):\n",
    "    results[test_pipeline.get_variable('ind')[i]]['pred'].append(np.ravel(test_pipeline.get_variable('predictions')[i])[0])\n",
    "    results[test_pipeline.get_variable('ind')[i]]['true'] = test_pipeline.get_variable('targets')[i]"
   ]
  },
  {
   "cell_type": "code",
   "execution_count": 12,
   "metadata": {},
   "outputs": [],
   "source": [
    "true = []\n",
    "pred = []\n",
    "for key in results.keys():\n",
    "    results[key]['pred'] = np.mean(results[key]['pred'])\n",
    "    true.append(results[key]['true'][0])\n",
    "    pred.append(results[key]['pred'])"
   ]
  },
  {
   "cell_type": "code",
   "execution_count": 13,
   "metadata": {},
   "outputs": [],
   "source": [
    "log_true = np.log10(true)"
   ]
  },
  {
   "cell_type": "code",
   "execution_count": 14,
   "metadata": {},
   "outputs": [],
   "source": [
    "log_pred = np.log10(pred)"
   ]
  },
  {
   "cell_type": "code",
   "execution_count": 21,
   "metadata": {},
   "outputs": [
    {
     "name": "stdout",
     "output_type": "stream",
     "text": [
      "MAE: 0.1683\n",
      "MAPE: 0.124\n",
      "Percentage of error less than 30%: 90.0%\n"
     ]
    },
    {
     "data": {
      "image/png": "[encoded data removed]",
      "text/plain": [
       "<Figure size 576x432 with 1 Axes>"
      ]
     },
     "metadata": {},
     "output_type": "display_data"
    }
   ],
   "source": [
    "calculate_metrics(log_true, log_pred, 50)"
   ]
  }
 ],
 "metadata": {
  "kernelspec": {
   "display_name": "Python 3",
   "language": "python",
   "name": "python3"
  },
  "language_info": {
   "codemirror_mode": {
    "name": "ipython",
    "version": 3
   },
   "file_extension": ".py",
   "mimetype": "text/x-python",
   "name": "python",
   "nbconvert_exporter": "python",
   "pygments_lexer": "ipython3",
   "version": "3.5.2"
  }
 },
 "nbformat": 4,
 "nbformat_minor": 2
}
