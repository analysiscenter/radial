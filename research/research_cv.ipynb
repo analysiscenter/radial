{
 "cells": [
  {
   "cell_type": "markdown",
   "metadata": {},
   "source": [
    "## Research and cross validation"
   ]
  },
  {
   "cell_type": "code",
   "execution_count": 6,
   "metadata": {},
   "outputs": [],
   "source": [
    "plt.style.use('dark_background')"
   ]
  },
  {
   "cell_type": "code",
   "execution_count": 1,
   "metadata": {},
   "outputs": [],
   "source": [
    "import os\n",
    "# os.environ['KMP_DUPLICATE_LIB_OK']='True'\n",
    "import sys\n",
    "from copy import deepcopy\n",
    "from itertools import combinations\n",
    "sys.path.insert(0, os.path.join('..'))\n",
    "\n",
    "import numpy as np\n",
    "import pandas as pd\n",
    "import seaborn as sns\n",
    "import matplotlib.pyplot as plt\n",
    "\n",
    "from radial.batchflow import Dataset, FilesIndex, Pipeline, R, B, V, C\n",
    "from radial.batchflow.models.tf import TFModel\n",
    "\n",
    "from radial.batchflow.research import Research, Option\n",
    "from radial.batchflow.research.research import Executable\n",
    "\n",
    "from radial.core import RadialBatch, RadialImagesBatch\n",
    "from radial.core.pipelines import create_load_ppl\n",
    "\n",
    "from research_utils import *\n",
    "plt.style.use('ggplot')\n",
    "%matplotlib inline"
   ]
  },
  {
   "cell_type": "markdown",
   "metadata": {},
   "source": [
    "## Подготовка данных\n",
    "если хотите обучать пайплайны по кросс валидации, напишите количество бинов в `cross_val` иначе будет происходить стандартное разделение на train/test."
   ]
  },
  {
   "cell_type": "code",
   "execution_count": 2,
   "metadata": {},
   "outputs": [],
   "source": [
    "cross_val = 2\n",
    "path = 'january/train_npz/*.npz'\n",
    "\n",
    "dataset = create_datasets(path, RadialImagesBatch, cross_val)"
   ]
  },
  {
   "cell_type": "markdown",
   "metadata": {},
   "source": [
    "# Создание пайплайнов\n",
    "Напиши сюда свой конфиг и свои пайпалйны."
   ]
  },
  {
   "cell_type": "code",
   "execution_count": 3,
   "metadata": {},
   "outputs": [],
   "source": [
    "N_SAMPLES = 50\n",
    "\n",
    "# model_config = {\n",
    "#     'inputs': dict(points=dict(shape=(2, N_SAMPLES)),\n",
    "#                    targets=dict(name='target', shape=1)),\n",
    "#     'initial_block/inputs': 'points',\n",
    "#     'head': dict(layout='f',\n",
    "#                  units=1),\n",
    "#     'body/num_blocks': C('num_blocks'),\n",
    "#     'body/filters': C('bla'),\n",
    "#     'initial_block/filters': C('filters'),\n",
    "#     'loss': 'mse',\n",
    "#     'optimizer': 'Adam'\n",
    "# }\n",
    "\n",
    "model_config = {\n",
    "    'inputs': dict(images=dict(shape=(180, 270, 1)),\n",
    "                             labels={'shape': (1), 'name': 'targets'}),\n",
    "    'body': dict(layout='cpna cpna cpna cpna', filters=[16, 32, 64, 128 ],\n",
    "                 strides=2, pool_strides=2, kernel_size=3),\n",
    "    'head': dict(layout='Pf', units=1),\n",
    "    'initial_block/inputs': 'images',\n",
    "    'loss': 'mse',\n",
    "#     'optimizer': 'Adam'}\n",
    "    'optimizer': C('optimizer_variant')}"
   ]
  },
  {
   "cell_type": "code",
   "execution_count": 5,
   "metadata": {},
   "outputs": [],
   "source": [
    "B_SIZE = 16\n",
    "# тут создаем пайплайны для трейна и теста ресерча, без загрузки данных.\n",
    "# NOTE: не забудте добавить run с параметром lazy=True!\n",
    "\n",
    "# prep_pipeline = create_preprocess_pipeline(N_SAMPLES, np.random.random)\n",
    "# train_pipeline = create_train_pipeline(C('model'), model_config, prep_pipeline).run(B_SIZE, n_epochs=None, drop_last=True, lazy=True)\n",
    "\n",
    "# test_pipeline = prep_pipeline + (Pipeline()\n",
    "#                         .init_variable('predictions', init_on_each_run=list)\n",
    "#                         .init_variable('targets', init_on_each_run=list)\n",
    "#                         .import_model('model', C('import_from'))\n",
    "#                         .update_variable('targets', B('target'), mode='e')\n",
    "#                         .predict_model('model', fetches='predictions',\n",
    "#                                                 feed_dict={'points': B('points'),\n",
    "#                                                            'targets': B('target')},\n",
    "#                                         save_to=V('predictions'), mode='e')\n",
    "#                         .run(B_SIZE, n_epochs=1, drop_last=True, lazy=True)\n",
    "# )\n",
    "\n",
    "image_index = FilesIndex(path='january/image_data/*.png', no_ext=True)\n",
    "load_ppl = create_load_ppl(image_index)\n",
    "\n",
    "\n",
    "train_pipeline = (load_ppl + \n",
    "                  Pipeline()\n",
    "                  .init_variable('loss', init_on_each_run=0)\n",
    "                  .init_variable('loss_history', init_on_each_run=list)\n",
    "                  .init_model('dynamic', TFModel, 'model', config=model_config)\n",
    "                  .train_model('model', fetches='loss',\n",
    "                               feed_dict={'images': B('images'),\n",
    "                                          'labels': B('target')}, \n",
    "                               save_to=V('loss'), mode='w')\n",
    "                  .update_variable('loss_history', V('loss'), mode='a')).run(B_SIZE, n_epochs=None, drop_last=True, lazy=True)\n",
    "\n",
    "\n",
    "test_pipeline = (load_ppl + \n",
    "                 Pipeline()\n",
    "                  .init_variable('loss', init_on_each_run=0)\n",
    "                  .init_variable('loss_history', init_on_each_run=list)\n",
    "                  .init_variable('targets', init_on_each_run=list)\n",
    "                  .init_variable('predictions', init_on_each_run=list)\n",
    "                  .import_model('model', C('import_from'))\n",
    "                  .train_model('model', fetches=['loss', 'predictions'],\n",
    "                               feed_dict={'images': B('images'),\n",
    "                                          'labels': B('target')}, \n",
    "                               save_to=[V('loss'), B('predictions')], mode='w')\n",
    "                  .update_variable('loss_history', V('loss'), mode='a')\n",
    "                  .denormalize(src='predictions', dst='denorm_predictions',\n",
    "                               src_range='derivative_range')\n",
    "                  .update_variable('targets', B('log_target'), mode='e')\n",
    "                  .update_variable('predictions', B('denorm_predictions'), mode='e')\n",
    "                ).run(B_SIZE, n_epochs=1, drop_last=True, lazy=True)"
   ]
  },
  {
   "cell_type": "markdown",
   "metadata": {},
   "source": [
    "# Метрики\n",
    "По дефолту будем считать метрики mape и котежеков-like"
   ]
  },
  {
   "cell_type": "code",
   "execution_count": 6,
   "metadata": {},
   "outputs": [],
   "source": [
    "def get_mape(iteration, experiment, pipeline):\n",
    "    \"\"\" Calculate mean absolute percentage error.\"\"\"\n",
    "    _ = iteration\n",
    "    pipeline = experiment[pipeline].pipeline\n",
    "    y_pred = np.array(pipeline.get_variable('predictions')).reshape(-1)\n",
    "    y_true = np.array(pipeline.get_variable('targets')).reshape(-1)\n",
    "    return np.mean(np.abs(y_true-y_pred)/y_true)\n",
    "\n",
    "def get_mape30(iteration, experiment, pipeline):\n",
    "    \"\"\" Calculate percentage of mean absolute percentage error which less than 30%.\"\"\"\n",
    "    _ = iteration\n",
    "    pipeline = experiment[pipeline].pipeline\n",
    "    y_pred = np.array(pipeline.get_variable('predictions')).reshape(-1)\n",
    "    y_true = np.array(pipeline.get_variable('targets')).reshape(-1)\n",
    "    ape = np.abs(y_true-y_pred)/y_true\n",
    "    return np.mean(ape < 0.3)*100\n",
    "\n",
    "# сохраним обученные модели\n",
    "def save_model(iteration, experiment, pipeline, model_name, path='./'):\n",
    "    \"\"\" Save model to a path.\"\"\"\n",
    "    path = os.path.join(path, experiment[pipeline].config.alias(as_string=True) + '_' + str(iteration))\n",
    "    pipeline = experiment[pipeline].pipeline\n",
    "    pipeline.save_model(model_name, path)\n",
    "    return\n",
    "\n",
    "def get_ape(iteration, experiment, pipeline):\n",
    "    \"\"\" Calculate percentage of absolute percentage error.\"\"\"\n",
    "    _ = iteration\n",
    "    pipeline = experiment[pipeline].pipeline\n",
    "    y_pred = np.array(pipeline.get_variable('predictions')).reshape(-1)\n",
    "    y_true = np.array(pipeline.get_variable('targets')).reshape(-1)\n",
    "    return np.abs(y_true-y_pred)/y_true"
   ]
  },
  {
   "cell_type": "markdown",
   "metadata": {},
   "source": [
    "## Создание Research\n",
    "Тут напиши свой объект research и набор параметров."
   ]
  },
  {
   "cell_type": "code",
   "execution_count": 7,
   "metadata": {},
   "outputs": [],
   "source": [
    "# измени на свои параметры\n",
    "# opts = Option('model', [ResNet18]) \\\n",
    "#        * Option('filters', [2, 4, 8]) * Option('bla', [[8, 16, 32]]) * Option('num_blocks', [[1, 1, 1]])\n",
    "opts = Option('optimizer_variant', ['Adam', \n",
    "                                    ('Momentum', {'use_nesterov': True, 'learning_rate': 0.01, 'momentum': 0.5})])\n",
    "research = (Research()\n",
    "            .pipeline(train_pipeline, variables='loss', name='train', logging=True)\n",
    "            .pipeline(test_pipeline, name='test', execute='%5',\n",
    "                      run=True, import_from='train', logging=True)    \n",
    "            .grid(opts)\n",
    "            .function(get_mape, returns='metrics', name='test_mape',\n",
    "                      execute='%5', pipeline='test')\n",
    "            .function(get_mape30, returns='metrics', name='test_mape30',\n",
    "                      execute='%5', pipeline='test')\n",
    "            .function(get_ape, returns='metrics', name='test_ape',\n",
    "                     execute=-1, pipeline='test')\n",
    "            .function(save_model, execute=-1, pipeline='train',\n",
    "                      model_name='model', path='saved_models/')\n",
    ")"
   ]
  },
  {
   "cell_type": "markdown",
   "metadata": {},
   "source": [
    "Запуск ресерча происходит при помощи функции `execute_research_with_cv`. Скорее всего тебе не придется менять никакие параметры кроме `n_reps` и `n_iters`. "
   ]
  },
  {
   "cell_type": "code",
   "execution_count": 8,
   "metadata": {},
   "outputs": [
    {
     "name": "stdout",
     "output_type": "stream",
     "text": [
      "number of bins:  2\n",
      "Research ./research_cv/research_cv_0 is starting...\n"
     ]
    },
    {
     "name": "stderr",
     "output_type": "stream",
     "text": [
      "  0%|          | 0/400 [00:00<?, ?it/s]"
     ]
    },
    {
     "name": "stdout",
     "output_type": "stream",
     "text": [
      "Distributor has 4 jobs with 100 iterations. Totally: 400\n"
     ]
    },
    {
     "name": "stderr",
     "output_type": "stream",
     "text": [
      "100%|██████████| 400/400 [00:01<00:00, 213.14it/s]\n"
     ]
    },
    {
     "name": "stdout",
     "output_type": "stream",
     "text": [
      "Research ./research_cv/research_cv_1 is starting...\n"
     ]
    },
    {
     "name": "stderr",
     "output_type": "stream",
     "text": [
      "  0%|          | 0/400 [00:00<?, ?it/s]"
     ]
    },
    {
     "name": "stdout",
     "output_type": "stream",
     "text": [
      "Distributor has 4 jobs with 100 iterations. Totally: 400\n"
     ]
    },
    {
     "name": "stderr",
     "output_type": "stream",
     "text": [
      "100%|██████████| 400/400 [00:01<00:00, 256.73it/s]\n"
     ]
    }
   ],
   "source": [
    "res = execute_research_with_cv(train_pipeline, test_pipeline, research, dataset, n_reps=2, n_iters=100, cross_val=cross_val)"
   ]
  },
  {
   "cell_type": "markdown",
   "metadata": {},
   "source": [
    "## Обработка результатов\n",
    "С помощью функций `draw_history` можно рисовать графики лосса и метрик. С помощью функции `draw_histogram` можно нарисовать гисторгамму mape."
   ]
  },
  {
   "cell_type": "code",
   "execution_count": 12,
   "metadata": {},
   "outputs": [
    {
     "ename": "AttributeError",
     "evalue": "'NoneType' object has no attribute 'columns'",
     "output_type": "error",
     "traceback": [
      "\u001b[0;31m---------------------------------------------------------------------------\u001b[0m",
      "\u001b[0;31mAttributeError\u001b[0m                            Traceback (most recent call last)",
      "\u001b[0;32m<ipython-input-12-bc704edaffd8>\u001b[0m in \u001b[0;36m<module>\u001b[0;34m()\u001b[0m\n\u001b[0;32m----> 1\u001b[0;31m \u001b[0mdraw_history\u001b[0m\u001b[0;34m(\u001b[0m\u001b[0mresearch\u001b[0m\u001b[0;34m=\u001b[0m\u001b[0mres\u001b[0m\u001b[0;34m,\u001b[0m \u001b[0mnames\u001b[0m\u001b[0;34m=\u001b[0m\u001b[0;34m[\u001b[0m\u001b[0;34m'train'\u001b[0m\u001b[0;34m,\u001b[0m \u001b[0;34m'test_mape'\u001b[0m\u001b[0;34m,\u001b[0m \u001b[0;34m'test_mape30'\u001b[0m\u001b[0;34m]\u001b[0m\u001b[0;34m,\u001b[0m \u001b[0mtypes_var\u001b[0m\u001b[0;34m=\u001b[0m\u001b[0;34m[\u001b[0m\u001b[0;34m'loss'\u001b[0m\u001b[0;34m,\u001b[0m \u001b[0;34m'metrics'\u001b[0m\u001b[0;34m]\u001b[0m\u001b[0;34m,\u001b[0m \u001b[0mcross_val\u001b[0m\u001b[0;34m=\u001b[0m\u001b[0mcross_val\u001b[0m\u001b[0;34m,\u001b[0m \u001b[0maggr\u001b[0m\u001b[0;34m=\u001b[0m\u001b[0;32mFalse\u001b[0m\u001b[0;34m,\u001b[0m \u001b[0miter_start\u001b[0m\u001b[0;34m=\u001b[0m\u001b[0;36m1\u001b[0m\u001b[0;34m)\u001b[0m\u001b[0;34m\u001b[0m\u001b[0m\n\u001b[0m",
      "\u001b[0;32m/notebooks/radial/research/research_utils.py\u001b[0m in \u001b[0;36mdraw_history\u001b[0;34m(research, names, types_var, cross_val, aggr, iter_start)\u001b[0m\n\u001b[1;32m    215\u001b[0m     \u001b[0mgrouped\u001b[0m \u001b[0;34m=\u001b[0m \u001b[0;34m[\u001b[0m\u001b[0mall_names\u001b[0m\u001b[0;34m.\u001b[0m\u001b[0mget\u001b[0m\u001b[0;34m(\u001b[0m\u001b[0mname\u001b[0m\u001b[0;34m)\u001b[0m \u001b[0;32mfor\u001b[0m \u001b[0mname\u001b[0m \u001b[0;32min\u001b[0m \u001b[0mnames\u001b[0m\u001b[0;34m]\u001b[0m\u001b[0;34m\u001b[0m\u001b[0m\n\u001b[1;32m    216\u001b[0m     \u001b[0;32mfor\u001b[0m \u001b[0mname\u001b[0m\u001b[0;34m,\u001b[0m \u001b[0mdframe\u001b[0m \u001b[0;32min\u001b[0m \u001b[0mzip\u001b[0m\u001b[0;34m(\u001b[0m\u001b[0mnames\u001b[0m\u001b[0;34m,\u001b[0m \u001b[0mgrouped\u001b[0m\u001b[0;34m)\u001b[0m\u001b[0;34m:\u001b[0m\u001b[0;34m\u001b[0m\u001b[0m\n\u001b[0;32m--> 217\u001b[0;31m         \u001b[0mnan_col\u001b[0m \u001b[0;34m=\u001b[0m \u001b[0mdframe\u001b[0m\u001b[0;34m.\u001b[0m\u001b[0mcolumns\u001b[0m\u001b[0;34m[\u001b[0m\u001b[0mdframe\u001b[0m\u001b[0;34m.\u001b[0m\u001b[0misna\u001b[0m\u001b[0;34m(\u001b[0m\u001b[0;34m)\u001b[0m\u001b[0;34m.\u001b[0m\u001b[0many\u001b[0m\u001b[0;34m(\u001b[0m\u001b[0;34m)\u001b[0m\u001b[0;34m]\u001b[0m\u001b[0;34m.\u001b[0m\u001b[0mtolist\u001b[0m\u001b[0;34m(\u001b[0m\u001b[0;34m)\u001b[0m\u001b[0;34m\u001b[0m\u001b[0m\n\u001b[0m\u001b[1;32m    218\u001b[0m         \u001b[0mdtype\u001b[0m \u001b[0;34m=\u001b[0m \u001b[0mtypes_var\u001b[0m\u001b[0;34m[\u001b[0m\u001b[0;36m0\u001b[0m\u001b[0;34m]\u001b[0m\u001b[0;34m\u001b[0m\u001b[0m\n\u001b[1;32m    219\u001b[0m         \u001b[0;32mfor\u001b[0m \u001b[0mdtp\u001b[0m \u001b[0;32min\u001b[0m \u001b[0mtypes_var\u001b[0m\u001b[0;34m:\u001b[0m\u001b[0;34m\u001b[0m\u001b[0m\n",
      "\u001b[0;31mAttributeError\u001b[0m: 'NoneType' object has no attribute 'columns'"
     ]
    }
   ],
   "source": [
    "draw_history(research=res, names=['train', 'test_mape', 'test_mape30'], types_var=['loss', 'metrics'], cross_val=cross_val, aggr=False, iter_start=1)"
   ]
  },
  {
   "cell_type": "code",
   "execution_count": 12,
   "metadata": {},
   "outputs": [
    {
     "data": {
      "image/png": "[encoded data removed]",
      "text/plain": [
       "<Figure size 720x504 with 1 Axes>"
      ]
     },
     "metadata": {
      "needs_background": "light"
     },
     "output_type": "display_data"
    }
   ],
   "source": [
    "draw_hisogram(res, name='test_ape', type_var='metrics', cross_val=cross_val)"
   ]
  }
 ],
 "metadata": {
  "kernelspec": {
   "display_name": "Python 3",
   "language": "python",
   "name": "python3"
  },
  "language_info": {
   "codemirror_mode": {
    "name": "ipython",
    "version": 3
   },
   "file_extension": ".py",
   "mimetype": "text/x-python",
   "name": "python",
   "nbconvert_exporter": "python",
   "pygments_lexer": "ipython3",
   "version": "3.5.2"
  }
 },
 "nbformat": 4,
 "nbformat_minor": 2
}
