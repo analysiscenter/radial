{
 "cells": [
  {
   "cell_type": "code",
   "execution_count": 43,
   "metadata": {},
   "outputs": [
    {
     "name": "stdout",
     "output_type": "stream",
     "text": [
      "Tue Jan 29 06:05:06 2019       \n",
      "+-----------------------------------------------------------------------------+\n",
      "| NVIDIA-SMI 410.79       Driver Version: 410.79       CUDA Version: 10.0     |\n",
      "|-------------------------------+----------------------+----------------------+\n",
      "| GPU  Name        Persistence-M| Bus-Id        Disp.A | Volatile Uncorr. ECC |\n",
      "| Fan  Temp  Perf  Pwr:Usage/Cap|         Memory-Usage | GPU-Util  Compute M. |\n",
      "|===============================+======================+======================|\n",
      "|   0  Tesla K80           Off  | 00000000:00:04.0 Off |                    0 |\n",
      "| N/A   36C    P0    55W / 149W |  10954MiB / 11441MiB |      0%      Default |\n",
      "+-------------------------------+----------------------+----------------------+\n",
      "                                                                               \n",
      "+-----------------------------------------------------------------------------+\n",
      "| Processes:                                                       GPU Memory |\n",
      "|  GPU       PID   Type   Process name                             Usage      |\n",
      "|=============================================================================|\n",
      "+-----------------------------------------------------------------------------+\n"
     ]
    }
   ],
   "source": [
    "!nvidia-smi"
   ]
  },
  {
   "cell_type": "code",
   "execution_count": 86,
   "metadata": {},
   "outputs": [
    {
     "name": "stdout",
     "output_type": "stream",
     "text": [
      "env: CUDA_VISIBLE_DEVICES=0\n"
     ]
    }
   ],
   "source": [
    "%env CUDA_VISIBLE_DEVICES=0"
   ]
  },
  {
   "cell_type": "code",
   "execution_count": 87,
   "metadata": {},
   "outputs": [],
   "source": [
    "import sys\n",
    "from functools import wraps\n",
    "\n",
    "sys.path.append('..')\n",
    "\n",
    "import tensorflow as tf\n",
    "import numpy as np\n",
    "import matplotlib.pyplot as plt\n",
    "from tqdm import tqdm_notebook as tqdm\n",
    "\n",
    "from radial.batchflow import Dataset, FilesIndex, Pipeline, action, inbatch_parallel, B, V, C, ImagesBatch, DatasetIndex, Batch\n",
    "import radial.batchflow as ds\n",
    "from radial.batchflow.models.tf import TFModel, VGG7, ResNet18\n",
    "from radial import RadialBatch, RadialImagesBatch"
   ]
  },
  {
   "cell_type": "code",
   "execution_count": 88,
   "metadata": {},
   "outputs": [],
   "source": [
    "# plt.style.use('dark_background')"
   ]
  },
  {
   "cell_type": "code",
   "execution_count": 89,
   "metadata": {},
   "outputs": [],
   "source": [
    "# import random\n",
    "\n",
    "# class TmpBatch(ImagesBatch, RadialBatch):\n",
    "#     @property\n",
    "#     def components(self):\n",
    "#         \"\"\"tuple of str: Data components names.\"\"\"\n",
    "#         return \"time\", \"derivative\", \"rig_type\", \"target\", \"predictions\", \"images\"\n",
    "\n",
    "# #     @action\n",
    "# #     def expand_dims(self, components=None):\n",
    "# #         setattr(self, components, getattr(self, components).reshape((-1, 1)).astype(np.float32))\n",
    "# #         return self\n",
    "    \n",
    "#     @action\n",
    "#     def load(self, fmt=None, components=None, *args, **kwargs):\n",
    "#         components = [components] if isinstance(components, str) else components\n",
    "\n",
    "#         if fmt == 'npz' or fmt == 'csv':\n",
    "# #             print('here')\n",
    "#             RadialBatch.load(self, fmt=fmt, components=components, *args, **kwargs)\n",
    "#         elif fmt == 'image':\n",
    "#             ImagesBatch.load(self, fmt=fmt, components=components, *args, **kwargs)\n",
    "# #         else:\n",
    "# #             Batch.load(self, fmt=fmt, components=components, *args, **kwargs)\n",
    "#         return self\n",
    "\n"
   ]
  },
  {
   "cell_type": "code",
   "execution_count": 90,
   "metadata": {},
   "outputs": [],
   "source": [
    "train_index = FilesIndex(path='january/train_npz/*.npz', no_ext=True)\n",
    "train_set = Dataset(train_index, batch_class=RadialImagesBatch)\n",
    "\n",
    "test_index = FilesIndex(path='january/npz_with_predictions/*.npz', no_ext=True)\n",
    "test_set = Dataset(train_index, batch_class=RadialImagesBatch)"
   ]
  },
  {
   "cell_type": "code",
   "execution_count": 91,
   "metadata": {},
   "outputs": [],
   "source": [
    "IMAGE_DIR = 'bold_data/*.png'"
   ]
  },
  {
   "cell_type": "code",
   "execution_count": 92,
   "metadata": {},
   "outputs": [],
   "source": [
    "image_index = FilesIndex(path=IMAGE_DIR, no_ext=True)"
   ]
  },
  {
   "cell_type": "code",
   "execution_count": 93,
   "metadata": {},
   "outputs": [],
   "source": [
    "def log(*args):\n",
    "    return np.array(list(map(np.log10, args)))"
   ]
  },
  {
   "cell_type": "code",
   "execution_count": 94,
   "metadata": {},
   "outputs": [],
   "source": [
    "# train_index = FilesIndex(path='january/bw_train/*.png', no_ext=True)\n",
    "# train_set = Dataset(train_index, batch_class=TmpBatch)\n"
   ]
  },
  {
   "cell_type": "code",
   "execution_count": 95,
   "metadata": {},
   "outputs": [],
   "source": [
    "load_ppl = (Pipeline()\n",
    "                .load(fmt='npz')\n",
    "                .drop_negative()\n",
    "                .apply_transform(log, src=['time', 'derivative', 'target'], dst=['log_time', 'log_derivative', 'log_target'])\n",
    "                .normalize(src=['log_time', 'log_derivative'], dst=['log_norm_time', 'log_norm_derivative'],\\\n",
    "                           dst_range=[None, 'derivative_range'])\n",
    "                .normalize(src='log_target', dst='log_norm_target', src_range='derivative_range')\n",
    "                .load(fmt='image', src=image_index, components='images')\n",
    "                .resize((300, 200))\n",
    "                .crop(origin='center', shape=(270, 180))\n",
    "                .to_array()\n",
    "                .multiply(1/255.)\n",
    "                .load(fmt='csv', src='january/targets.csv', components='target', index_col='index')\n",
    "                .expand_dims(src='log_norm_target')\n",
    "                .expand_dims(src='target')\n",
    "           )"
   ]
  },
  {
   "cell_type": "code",
   "execution_count": 96,
   "metadata": {},
   "outputs": [
    {
     "data": {
      "text/plain": [
       "array([[0.56620593],\n",
       "       [0.46064031]])"
      ]
     },
     "execution_count": 96,
     "metadata": {},
     "output_type": "execute_result"
    }
   ],
   "source": [
    "btch = (load_ppl << train_set).next_batch(2)\n",
    "btch.target"
   ]
  },
  {
   "cell_type": "code",
   "execution_count": 97,
   "metadata": {},
   "outputs": [
    {
     "data": {
      "text/plain": [
       "array([[0.5662059307050681],\n",
       "       [0.4606403064353336]], dtype=object)"
      ]
     },
     "execution_count": 97,
     "metadata": {},
     "output_type": "execute_result"
    }
   ],
   "source": [
    "btch.log_norm_target"
   ]
  },
  {
   "cell_type": "code",
   "execution_count": 98,
   "metadata": {},
   "outputs": [],
   "source": [
    "img = (load_ppl << train_set).next_batch(2).images"
   ]
  },
  {
   "cell_type": "code",
   "execution_count": 99,
   "metadata": {},
   "outputs": [
    {
     "data": {
      "text/plain": [
       "(180, 270, 1)"
      ]
     },
     "execution_count": 99,
     "metadata": {},
     "output_type": "execute_result"
    }
   ],
   "source": [
    "img[0].shape"
   ]
  },
  {
   "cell_type": "code",
   "execution_count": 100,
   "metadata": {},
   "outputs": [
    {
     "data": {
      "text/plain": [
       "array([[0.56620593],\n",
       "       [0.46064031]])"
      ]
     },
     "execution_count": 100,
     "metadata": {},
     "output_type": "execute_result"
    }
   ],
   "source": [
    "(load_ppl << train_set).next_batch(2).target"
   ]
  },
  {
   "cell_type": "code",
   "execution_count": 101,
   "metadata": {},
   "outputs": [],
   "source": [
    "ppl = load_ppl << train_set"
   ]
  },
  {
   "cell_type": "code",
   "execution_count": 102,
   "metadata": {},
   "outputs": [],
   "source": [
    "btch = ppl.next_batch(2)"
   ]
  },
  {
   "cell_type": "code",
   "execution_count": 103,
   "metadata": {},
   "outputs": [
    {
     "data": {
      "text/plain": [
       "<matplotlib.collections.LineCollection at 0x7fc4a0e99748>"
      ]
     },
     "execution_count": 103,
     "metadata": {},
     "output_type": "execute_result"
    },
    {
     "data": {
      "image/png": "[encoded data removed]",
      "text/plain": [
       "<Figure size 432x288 with 1 Axes>"
      ]
     },
     "metadata": {},
     "output_type": "display_data"
    }
   ],
   "source": [
    "plt.scatter(btch.log_norm_time[0], btch.log_norm_derivative[0])\n",
    "plt.hlines(btch.log_norm_target[0], 0, 1, color='r')"
   ]
  },
  {
   "cell_type": "code",
   "execution_count": 104,
   "metadata": {},
   "outputs": [
    {
     "data": {
      "image/png": "[encoded data removed]",
      "text/plain": [
       "<Figure size 432x288 with 1 Axes>"
      ]
     },
     "metadata": {},
     "output_type": "display_data"
    }
   ],
   "source": [
    "plt.imshow(btch.images[0, :, :, 0],  cmap=\"gray\")\n",
    "plt.show()"
   ]
  },
  {
   "cell_type": "code",
   "execution_count": 105,
   "metadata": {},
   "outputs": [],
   "source": [
    "model_config = {\n",
    "    'inputs': dict(images=dict(shape=B('image_shape')),\n",
    "                             labels={'shape': (1), 'name': 'targets'}),\n",
    "    'body': dict(layout='cpna cpna cpna cpna cpna cpna cpna', filters=[16, 16, 16, 32, 64, 128, 128],\n",
    "                 strides=1, pool_strides=2, kernel_size=[22, 22, 11, 9, 7, 3, 3], dilation_rate=[2, 2, 1, 1, 1, 1, 1]),\n",
    "    'head': dict(layout='Pf', units=1),\n",
    "    'initial_block/inputs': 'images',\n",
    "    'loss': 'mse',\n",
    "    'optimizer': 'Adam'}\n",
    "#     'optimizer': ('Momentum', {'use_nesterov': True, 'learning_rate': 0.01, 'momentum': 0.5})}"
   ]
  },
  {
   "cell_type": "code",
   "execution_count": 106,
   "metadata": {},
   "outputs": [],
   "source": [
    "train_template = (Pipeline()\n",
    "                  .init_variable('loss', init_on_each_run=0)\n",
    "                  .init_variable('loss_history', init_on_each_run=list)\n",
    "                  .init_model('dynamic', TFModel, 'image_model', config=model_config)\n",
    "#                   .to_array()\n",
    "                  .train_model('image_model', fetches='loss',\n",
    "                               feed_dict={'images': B('images'),\n",
    "                                          'labels': B('target')}, \n",
    "                               save_to=V('loss'), mode='w')\n",
    "                  .update_variable('loss_history', V('loss'), mode='a'))\n",
    "\n",
    "train_pipeline = (load_ppl + train_template) << train_set\n",
    "\n",
    "test_template = (Pipeline()\n",
    "                  .init_variable('loss', init_on_each_run=0)\n",
    "                  .init_variable('loss_history', init_on_each_run=list)\n",
    "                  .import_model('image_model', train_pipeline)\n",
    "#                   .to_array()\n",
    "                  .predict_model('image_model', fetches=['loss', 'predictions'],\n",
    "                               feed_dict={'images': B('images'),\n",
    "                                          'labels': B('target')}, \n",
    "                               save_to=[V('loss'), B('predictions')], mode='w')\n",
    "                  .update_variable('loss_history', V('loss'), mode='a')\n",
    "                )"
   ]
  },
  {
   "cell_type": "code",
   "execution_count": 107,
   "metadata": {
    "scrolled": false
   },
   "outputs": [],
   "source": [
    "test_pipeline = (load_ppl + test_template) << test_set"
   ]
  },
  {
   "cell_type": "code",
   "execution_count": 108,
   "metadata": {},
   "outputs": [],
   "source": [
    "train_pipeline.get_variable('loss_history')"
   ]
  },
  {
   "cell_type": "code",
   "execution_count": 109,
   "metadata": {},
   "outputs": [],
   "source": [
    "# train_pipeline.reset_iter()    "
   ]
  },
  {
   "cell_type": "code",
   "execution_count": 110,
   "metadata": {},
   "outputs": [],
   "source": [
    "# train_pipeline.next_batch(16, shuffle=True, n_epochs=10, drop_last=False, bar=True)\n",
    "# train_pipeline.next_batch(16, shuffle=True, n_epochs=10, drop_last=False, bar=True)\n",
    "\n",
    "# train_pipeline.next_batch(16, shuffle=True, n_epochs=10, drop_last=False, bar=True)\n",
    "# train_pipeline.next_batch(16, shuffle=True, n_epochs=10, drop_last=False, bar=True)"
   ]
  },
  {
   "cell_type": "code",
   "execution_count": 111,
   "metadata": {},
   "outputs": [],
   "source": [
    "(train_pipeline.get_variable('loss_history'))"
   ]
  },
  {
   "cell_type": "code",
   "execution_count": 112,
   "metadata": {},
   "outputs": [
    {
     "name": "stderr",
     "output_type": "stream",
     "text": [
      "\n",
      "\n",
      "  0%|          | 1/9223372036854775807 [10:28<1610743378139092964:41:36, 628.69s/it]\n",
      "\n",
      "\n",
      "  1%|          | 2/292 [00:02<05:27,  1.13s/it]\u001b[A\u001b[A\n",
      "\n",
      "  1%|          | 3/292 [00:02<04:17,  1.12it/s]\u001b[A\u001b[A\n",
      "\n",
      "  1%|▏         | 4/292 [00:02<03:28,  1.38it/s]\u001b[A\u001b[A\n",
      "\n",
      "  2%|▏         | 5/292 [00:03<02:53,  1.65it/s]\u001b[A\u001b[A\n",
      "\n",
      "  2%|▏         | 6/292 [00:03<02:29,  1.92it/s]\u001b[A\u001b[A\n",
      "\n",
      "  2%|▏         | 7/292 [00:03<02:12,  2.15it/s]\u001b[A\u001b[A\n",
      "\n",
      "  3%|▎         | 8/292 [00:04<01:59,  2.37it/s]\u001b[A\u001b[A\n",
      "\n",
      "  3%|▎         | 9/292 [00:04<01:50,  2.56it/s]\u001b[A\u001b[A\n",
      "\n",
      "  3%|▎         | 10/292 [00:04<01:44,  2.70it/s]\u001b[A\u001b[A\n",
      "\n",
      "  4%|▍         | 11/292 [00:05<01:39,  2.82it/s]\u001b[A\u001b[A\n",
      "\n",
      "  4%|▍         | 12/292 [00:05<01:35,  2.92it/s]\u001b[A\u001b[A\n",
      "\n",
      "  4%|▍         | 13/292 [00:05<01:33,  2.98it/s]\u001b[A\u001b[A\n",
      "\n",
      "  5%|▍         | 14/292 [00:06<01:31,  3.03it/s]\u001b[A\u001b[A\n",
      "\n",
      "  5%|▌         | 15/292 [00:06<01:31,  3.04it/s]\u001b[A\u001b[A\n",
      "\n",
      "  5%|▌         | 16/292 [00:06<01:30,  3.06it/s]\u001b[A\u001b[A\n",
      "\n",
      "  6%|▌         | 17/292 [00:07<01:29,  3.09it/s]\u001b[A\u001b[A\n",
      "\n",
      "  6%|▌         | 18/292 [00:07<01:28,  3.10it/s]\u001b[A\u001b[A\n",
      "\n",
      "  7%|▋         | 19/292 [00:07<01:28,  3.10it/s]\u001b[A\u001b[A\n",
      "\n",
      "  7%|▋         | 20/292 [00:08<01:27,  3.12it/s]\u001b[A\u001b[A\n",
      "\n",
      "  7%|▋         | 21/292 [00:08<01:26,  3.12it/s]\u001b[A\u001b[A\n",
      "\n",
      "  8%|▊         | 22/292 [00:08<01:26,  3.12it/s]\u001b[A\u001b[A\n",
      "\n",
      "  8%|▊         | 23/292 [00:09<01:27,  3.09it/s]\u001b[A\u001b[A\n",
      "\n",
      "  8%|▊         | 24/292 [00:09<01:27,  3.06it/s]\u001b[A\u001b[A\n",
      "\n",
      "  9%|▊         | 25/292 [00:09<01:27,  3.06it/s]\u001b[A\u001b[A\n",
      "\n",
      "  9%|▉         | 26/292 [00:10<01:26,  3.06it/s]\u001b[A\u001b[A\n",
      "\n",
      "  9%|▉         | 27/292 [00:10<01:26,  3.08it/s]\u001b[A\u001b[A\n",
      "\n",
      " 10%|▉         | 28/292 [00:10<01:26,  3.06it/s]\u001b[A\u001b[A\n",
      "\n",
      " 10%|▉         | 29/292 [00:11<01:25,  3.07it/s]\u001b[A\u001b[A\n",
      "\n",
      " 10%|█         | 30/292 [00:11<01:25,  3.07it/s]\u001b[A\u001b[A\n",
      "\n",
      " 11%|█         | 31/292 [00:11<01:25,  3.04it/s]\u001b[A\u001b[A\n",
      "\n",
      " 11%|█         | 32/292 [00:11<01:25,  3.05it/s]\u001b[A\u001b[A\n",
      "\n",
      " 11%|█▏        | 33/292 [00:12<01:24,  3.06it/s]\u001b[A\u001b[A\n",
      "\n",
      " 12%|█▏        | 34/292 [00:12<01:24,  3.05it/s]\u001b[A\u001b[A\n",
      "\n",
      " 12%|█▏        | 35/292 [00:12<01:24,  3.04it/s]\u001b[A\u001b[A\n",
      "\n",
      " 12%|█▏        | 36/292 [00:13<01:24,  3.04it/s]\u001b[A\u001b[A\n",
      "\n",
      " 13%|█▎        | 37/292 [00:13<01:23,  3.07it/s]\u001b[A\u001b[A\n",
      "\n",
      " 13%|█▎        | 38/292 [00:13<01:22,  3.07it/s]\u001b[A\u001b[A\n",
      "\n",
      " 13%|█▎        | 39/292 [00:14<01:22,  3.07it/s]\u001b[A\u001b[A\n",
      "\n",
      " 14%|█▎        | 40/292 [00:14<01:21,  3.08it/s]\u001b[A\u001b[A\n",
      "\n",
      " 14%|█▍        | 41/292 [00:14<01:20,  3.12it/s]\u001b[A\u001b[A\n",
      "\n",
      " 14%|█▍        | 42/292 [00:15<01:20,  3.11it/s]\u001b[A\u001b[A\n",
      "\n",
      " 15%|█▍        | 43/292 [00:15<01:19,  3.12it/s]\u001b[A\u001b[A\n",
      "\n",
      " 15%|█▌        | 44/292 [00:15<01:19,  3.12it/s]\u001b[A\u001b[A\n",
      "\n",
      " 15%|█▌        | 45/292 [00:16<01:19,  3.12it/s]\u001b[A\u001b[A\n",
      "\n",
      " 16%|█▌        | 46/292 [00:16<01:18,  3.14it/s]\u001b[A\u001b[A\n",
      "\n",
      " 16%|█▌        | 47/292 [00:16<01:17,  3.14it/s]\u001b[A\u001b[A\n",
      "\n",
      " 16%|█▋        | 48/292 [00:17<01:17,  3.13it/s]\u001b[A\u001b[A\n",
      "\n",
      " 17%|█▋        | 49/292 [00:17<01:18,  3.10it/s]\u001b[A\u001b[A\n",
      "\n",
      " 17%|█▋        | 50/292 [00:17<01:18,  3.10it/s]\u001b[A\u001b[A\n",
      "\n",
      " 17%|█▋        | 51/292 [00:18<01:18,  3.08it/s]\u001b[A\u001b[A\n",
      "\n",
      " 18%|█▊        | 52/292 [00:18<01:18,  3.06it/s]\u001b[A\u001b[A\n",
      "\n",
      " 18%|█▊        | 53/292 [00:18<01:17,  3.09it/s]\u001b[A\u001b[A\n",
      "\n",
      " 18%|█▊        | 54/292 [00:19<01:16,  3.09it/s]\u001b[A\u001b[A\n",
      "\n",
      " 19%|█▉        | 55/292 [00:19<01:16,  3.12it/s]\u001b[A\u001b[A\n",
      "\n",
      " 19%|█▉        | 56/292 [00:19<01:15,  3.12it/s]\u001b[A\u001b[A\n",
      "\n",
      " 20%|█▉        | 57/292 [00:20<01:15,  3.11it/s]\u001b[A\u001b[A\n",
      "\n",
      " 20%|█▉        | 58/292 [00:20<01:15,  3.11it/s]\u001b[A\u001b[A\n",
      "\n",
      " 20%|██        | 59/292 [00:20<01:14,  3.12it/s]\u001b[A\u001b[A\n",
      "\n",
      " 21%|██        | 60/292 [00:21<01:14,  3.12it/s]\u001b[A\u001b[A\n",
      "\n",
      " 21%|██        | 61/292 [00:21<01:13,  3.13it/s]\u001b[A\u001b[A\n",
      "\n",
      " 21%|██        | 62/292 [00:21<01:13,  3.13it/s]\u001b[A\u001b[A\n",
      "\n",
      " 22%|██▏       | 63/292 [00:21<01:13,  3.12it/s]\u001b[A\u001b[A\n",
      "\n",
      " 22%|██▏       | 64/292 [00:22<01:13,  3.12it/s]\u001b[A\u001b[A\n",
      "\n",
      " 22%|██▏       | 65/292 [00:22<01:12,  3.12it/s]\u001b[A\u001b[A\n",
      "\n",
      " 23%|██▎       | 66/292 [00:22<01:12,  3.10it/s]\u001b[A\u001b[A\n",
      "\n",
      " 23%|██▎       | 67/292 [00:23<01:12,  3.10it/s]\u001b[A\u001b[A\n",
      "\n",
      " 23%|██▎       | 68/292 [00:23<01:11,  3.11it/s]\u001b[A\u001b[A\n",
      "\n",
      " 24%|██▎       | 69/292 [00:23<01:11,  3.12it/s]\u001b[A\u001b[A\n",
      "\n",
      " 24%|██▍       | 70/292 [00:24<01:11,  3.12it/s]\u001b[A\u001b[A\n",
      "\n",
      " 24%|██▍       | 71/292 [00:24<01:24,  2.62it/s]\u001b[A\u001b[A\n",
      "\n",
      " 25%|██▍       | 72/292 [00:25<01:19,  2.76it/s]\u001b[A\u001b[A\n",
      "\n",
      " 25%|██▌       | 73/292 [00:25<01:16,  2.88it/s]\u001b[A\u001b[A\n",
      "\n",
      " 25%|██▌       | 74/292 [00:25<01:14,  2.94it/s]\u001b[A\u001b[A\n",
      "\n",
      " 26%|██▌       | 75/292 [00:26<01:12,  2.98it/s]\u001b[A\u001b[A\n",
      "\n",
      " 26%|██▌       | 76/292 [00:26<01:12,  3.00it/s]\u001b[A\u001b[A\n",
      "\n",
      " 26%|██▋       | 77/292 [00:26<01:10,  3.04it/s]\u001b[A\u001b[A\n",
      "\n",
      " 27%|██▋       | 78/292 [00:27<01:10,  3.04it/s]\u001b[A\u001b[A\n",
      "\n",
      " 27%|██▋       | 79/292 [00:27<01:09,  3.05it/s]\u001b[A\u001b[A\n",
      "\n",
      " 27%|██▋       | 80/292 [00:27<01:08,  3.08it/s]\u001b[A\u001b[A\n",
      "\n",
      " 28%|██▊       | 81/292 [00:27<01:08,  3.09it/s]\u001b[A\u001b[A\n",
      "\n",
      " 28%|██▊       | 82/292 [00:28<01:07,  3.11it/s]\u001b[A\u001b[A\n",
      "\n",
      " 28%|██▊       | 83/292 [00:28<01:06,  3.12it/s]\u001b[A\u001b[A\n",
      "\n",
      " 29%|██▉       | 84/292 [00:28<01:06,  3.14it/s]\u001b[A\u001b[A\n",
      "\n",
      " 29%|██▉       | 85/292 [00:29<01:05,  3.14it/s]\u001b[A\u001b[A\n",
      "\n",
      " 29%|██▉       | 86/292 [00:29<01:05,  3.15it/s]\u001b[A\u001b[A\n",
      "\n",
      " 30%|██▉       | 87/292 [00:29<01:05,  3.15it/s]\u001b[A\u001b[A\n",
      "\n",
      " 30%|███       | 88/292 [00:30<01:04,  3.15it/s]\u001b[A\u001b[A\n",
      "\n",
      " 30%|███       | 89/292 [00:30<01:04,  3.14it/s]\u001b[A\u001b[A\n",
      "\n",
      " 31%|███       | 90/292 [00:30<01:04,  3.13it/s]\u001b[A\u001b[A\n",
      "\n",
      " 31%|███       | 91/292 [00:31<01:04,  3.14it/s]\u001b[A\u001b[A\n",
      "\n",
      " 32%|███▏      | 92/292 [00:31<01:03,  3.15it/s]\u001b[A\u001b[A\n",
      "\n",
      " 32%|███▏      | 93/292 [00:31<01:03,  3.14it/s]\u001b[A\u001b[A\n",
      "\n",
      " 32%|███▏      | 94/292 [00:32<01:03,  3.11it/s]\u001b[A\u001b[A\n",
      "\n",
      " 33%|███▎      | 95/292 [00:32<01:03,  3.11it/s]\u001b[A\u001b[A\n",
      "\n",
      " 33%|███▎      | 96/292 [00:32<01:02,  3.12it/s]\u001b[A\u001b[A\n",
      "\n",
      " 33%|███▎      | 97/292 [00:33<01:03,  3.08it/s]\u001b[A\u001b[A\n",
      "\n",
      " 34%|███▎      | 98/292 [00:33<01:03,  3.07it/s]\u001b[A\u001b[A\n",
      "\n",
      " 34%|███▍      | 99/292 [00:33<01:03,  3.06it/s]\u001b[A\u001b[A\n",
      "\n",
      " 34%|███▍      | 100/292 [00:34<01:02,  3.06it/s]\u001b[A\u001b[A\n",
      "\n",
      " 35%|███▍      | 101/292 [00:34<01:01,  3.09it/s]\u001b[A\u001b[A\n",
      "\n",
      " 35%|███▍      | 102/292 [00:34<01:01,  3.11it/s]\u001b[A\u001b[A\n",
      "\n",
      " 35%|███▌      | 103/292 [00:35<01:00,  3.11it/s]\u001b[A\u001b[A\n",
      "\n",
      " 36%|███▌      | 104/292 [00:35<01:00,  3.09it/s]\u001b[A\u001b[A\n",
      "\n",
      " 36%|███▌      | 105/292 [00:35<01:01,  3.06it/s]\u001b[A\u001b[A\n",
      "\n",
      " 36%|███▋      | 106/292 [00:36<01:00,  3.07it/s]\u001b[A\u001b[A\n",
      "\n",
      " 37%|███▋      | 107/292 [00:36<01:00,  3.06it/s]\u001b[A\u001b[A\n",
      "\n",
      " 37%|███▋      | 108/292 [00:36<00:59,  3.07it/s]\u001b[A\u001b[A\n",
      "\n",
      " 37%|███▋      | 109/292 [00:36<00:59,  3.09it/s]\u001b[A\u001b[A\n",
      "\n",
      " 38%|███▊      | 110/292 [00:37<00:58,  3.09it/s]\u001b[A\u001b[A\n",
      "\n",
      " 38%|███▊      | 111/292 [00:37<00:58,  3.09it/s]\u001b[A\u001b[A\n",
      "\n",
      " 38%|███▊      | 112/292 [00:37<00:57,  3.13it/s]\u001b[A\u001b[A\n",
      "\n",
      " 39%|███▊      | 113/292 [00:38<00:57,  3.12it/s]\u001b[A\u001b[A\n",
      "\n",
      " 39%|███▉      | 114/292 [00:38<00:57,  3.12it/s]\u001b[A\u001b[A\n",
      "\n",
      " 39%|███▉      | 115/292 [00:38<00:56,  3.12it/s]\u001b[A\u001b[A\n",
      "\n",
      " 40%|███▉      | 116/292 [00:39<00:56,  3.13it/s]\u001b[A\u001b[A\n",
      "\n",
      " 40%|████      | 117/292 [00:39<00:55,  3.14it/s]\u001b[A\u001b[A\n",
      "\n",
      " 40%|████      | 118/292 [00:39<00:55,  3.15it/s]\u001b[A\u001b[A\n",
      "\n",
      " 41%|████      | 119/292 [00:40<00:55,  3.12it/s]\u001b[A\u001b[A\n",
      "\n",
      " 41%|████      | 120/292 [00:40<00:55,  3.11it/s]\u001b[A\u001b[A\n",
      "\n",
      " 41%|████▏     | 121/292 [00:40<00:54,  3.11it/s]\u001b[A\u001b[A\n",
      "\n",
      " 42%|████▏     | 122/292 [00:41<00:54,  3.09it/s]\u001b[A\u001b[A\n",
      "\n",
      " 42%|████▏     | 123/292 [00:41<00:54,  3.09it/s]\u001b[A\u001b[A\n",
      "\n",
      " 42%|████▏     | 124/292 [00:41<00:54,  3.09it/s]\u001b[A\u001b[A\n",
      "\n",
      " 43%|████▎     | 125/292 [00:42<00:54,  3.08it/s]\u001b[A\u001b[A\n",
      "\n",
      " 43%|████▎     | 126/292 [00:42<00:53,  3.10it/s]\u001b[A\u001b[A\n",
      "\n",
      " 43%|████▎     | 127/292 [00:42<00:53,  3.11it/s]\u001b[A\u001b[A\n",
      "\n",
      " 44%|████▍     | 128/292 [00:43<00:52,  3.12it/s]\u001b[A\u001b[A\n",
      "\n",
      " 44%|████▍     | 129/292 [00:43<00:52,  3.11it/s]\u001b[A\u001b[A\n",
      "\n",
      " 45%|████▍     | 130/292 [00:43<00:51,  3.13it/s]\u001b[A\u001b[A\n",
      "\n",
      " 45%|████▍     | 131/292 [00:44<00:51,  3.11it/s]\u001b[A\u001b[A\n",
      "\n",
      " 45%|████▌     | 132/292 [00:44<00:51,  3.10it/s]\u001b[A\u001b[A\n",
      "\n",
      " 46%|████▌     | 133/292 [00:44<00:51,  3.09it/s]\u001b[A\u001b[A\n",
      "\n",
      " 46%|████▌     | 134/292 [00:45<00:51,  3.08it/s]\u001b[A\u001b[A\n",
      "\n",
      " 46%|████▌     | 135/292 [00:45<00:50,  3.09it/s]\u001b[A\u001b[A\n",
      "\n",
      " 47%|████▋     | 136/292 [00:45<00:50,  3.08it/s]\u001b[A\u001b[A\n",
      "\n",
      " 47%|████▋     | 137/292 [00:45<00:50,  3.09it/s]\u001b[A\u001b[A\n",
      "\n",
      " 47%|████▋     | 138/292 [00:46<00:49,  3.13it/s]\u001b[A\u001b[A\n",
      "\n",
      " 48%|████▊     | 139/292 [00:46<00:48,  3.13it/s]\u001b[A\u001b[A\n",
      "\n",
      " 48%|████▊     | 140/292 [00:46<00:48,  3.14it/s]\u001b[A\u001b[A\n",
      "\n",
      " 48%|████▊     | 141/292 [00:47<00:47,  3.15it/s]\u001b[A\u001b[A\n",
      "\n",
      " 49%|████▊     | 142/292 [00:47<00:47,  3.14it/s]\u001b[A\u001b[A\n",
      "\n",
      " 49%|████▉     | 143/292 [00:47<00:47,  3.11it/s]\u001b[A\u001b[A\n",
      "\n",
      " 49%|████▉     | 144/292 [00:48<00:47,  3.10it/s]\u001b[A\u001b[A\n",
      "\n",
      " 50%|████▉     | 145/292 [00:48<00:47,  3.11it/s]\u001b[A\u001b[A\n",
      "\n",
      " 50%|█████     | 146/292 [00:48<00:47,  3.10it/s]\u001b[A\u001b[A\n",
      "\n",
      " 50%|█████     | 147/292 [00:49<00:46,  3.12it/s]\u001b[A\u001b[A\n",
      "\n",
      " 51%|█████     | 148/292 [00:49<00:46,  3.11it/s]\u001b[A\u001b[A\n",
      "\n",
      " 51%|█████     | 149/292 [00:49<00:46,  3.10it/s]\u001b[A\u001b[A\n",
      "\n",
      " 51%|█████▏    | 150/292 [00:50<00:45,  3.10it/s]\u001b[A\u001b[A\n",
      "\n",
      " 52%|█████▏    | 151/292 [00:50<00:45,  3.08it/s]\u001b[A\u001b[A\n",
      "\n",
      " 52%|█████▏    | 152/292 [00:50<00:45,  3.07it/s]\u001b[A\u001b[A\n",
      "\n",
      " 52%|█████▏    | 153/292 [00:51<00:45,  3.08it/s]\u001b[A\u001b[A\n",
      "\n",
      " 53%|█████▎    | 154/292 [00:51<00:44,  3.09it/s]\u001b[A\u001b[A\n",
      "\n",
      " 53%|█████▎    | 155/292 [00:51<00:44,  3.07it/s]\u001b[A\u001b[A\n",
      "\n",
      " 53%|█████▎    | 156/292 [00:52<00:44,  3.07it/s]\u001b[A\u001b[A\n",
      "\n",
      " 54%|█████▍    | 157/292 [00:52<00:43,  3.10it/s]\u001b[A\u001b[A\n",
      "\n",
      " 54%|█████▍    | 158/292 [00:52<00:43,  3.10it/s]\u001b[A\u001b[A\n",
      "\n",
      " 54%|█████▍    | 159/292 [00:53<00:42,  3.11it/s]\u001b[A\u001b[A\n",
      "\n",
      " 55%|█████▍    | 160/292 [00:53<00:42,  3.12it/s]\u001b[A\u001b[A\n",
      "\n",
      " 55%|█████▌    | 161/292 [00:53<00:41,  3.13it/s]\u001b[A\u001b[A\n",
      "\n",
      " 55%|█████▌    | 162/292 [00:54<00:41,  3.12it/s]\u001b[A\u001b[A\n",
      "\n",
      " 56%|█████▌    | 163/292 [00:54<00:41,  3.13it/s]\u001b[A\u001b[A\n",
      "\n",
      " 56%|█████▌    | 164/292 [00:54<00:40,  3.12it/s]\u001b[A\u001b[A\n",
      "\n",
      " 57%|█████▋    | 165/292 [00:54<00:40,  3.12it/s]\u001b[A\u001b[A\n",
      "\n",
      " 57%|█████▋    | 166/292 [00:55<00:40,  3.12it/s]\u001b[A\u001b[A\n",
      "\n",
      " 57%|█████▋    | 167/292 [00:55<00:40,  3.12it/s]\u001b[A\u001b[A\n",
      "\n",
      " 58%|█████▊    | 168/292 [00:55<00:39,  3.12it/s]\u001b[A\u001b[A\n",
      "\n",
      " 58%|█████▊    | 169/292 [00:56<00:39,  3.11it/s]\u001b[A\u001b[A\n",
      "\n",
      " 58%|█████▊    | 170/292 [00:56<00:39,  3.12it/s]\u001b[A\u001b[A\n",
      "\n",
      " 59%|█████▊    | 171/292 [00:56<00:38,  3.13it/s]\u001b[A\u001b[A\n",
      "\n",
      " 59%|█████▉    | 172/292 [00:57<00:38,  3.13it/s]\u001b[A\u001b[A\n",
      "\n",
      " 59%|█████▉    | 173/292 [00:57<00:37,  3.14it/s]\u001b[A\u001b[A\n",
      "\n",
      " 60%|█████▉    | 174/292 [00:57<00:37,  3.14it/s]\u001b[A\u001b[A\n",
      "\n",
      " 60%|█████▉    | 175/292 [00:58<00:37,  3.14it/s]\u001b[A\u001b[A\n",
      "\n",
      " 60%|██████    | 176/292 [00:58<00:36,  3.15it/s]\u001b[A\u001b[A\n",
      "\n",
      " 61%|██████    | 177/292 [00:58<00:36,  3.14it/s]\u001b[A\u001b[A\n",
      "\n",
      " 61%|██████    | 178/292 [00:59<00:36,  3.12it/s]\u001b[A\u001b[A\n",
      "\n",
      " 61%|██████▏   | 179/292 [00:59<00:36,  3.10it/s]\u001b[A\u001b[A\n",
      "\n",
      " 62%|██████▏   | 180/292 [00:59<00:36,  3.11it/s]\u001b[A\u001b[A\n",
      "\n",
      " 62%|██████▏   | 181/292 [01:00<00:35,  3.08it/s]\u001b[A\u001b[A\n",
      "\n",
      " 62%|██████▏   | 182/292 [01:00<00:35,  3.08it/s]\u001b[A\u001b[A\n",
      "\n",
      " 63%|██████▎   | 183/292 [01:00<00:35,  3.08it/s]\u001b[A\u001b[A\n",
      "\n",
      " 63%|██████▎   | 184/292 [01:01<00:34,  3.10it/s]\u001b[A\u001b[A\n",
      "\n",
      " 63%|██████▎   | 185/292 [01:01<00:34,  3.11it/s]\u001b[A\u001b[A\n",
      "\n",
      " 64%|██████▎   | 186/292 [01:01<00:34,  3.09it/s]\u001b[A\u001b[A\n",
      "\n",
      " 64%|██████▍   | 187/292 [01:02<00:33,  3.11it/s]\u001b[A\u001b[A\n",
      "\n",
      " 64%|██████▍   | 188/292 [01:02<00:33,  3.10it/s]\u001b[A\u001b[A\n",
      "\n",
      " 65%|██████▍   | 189/292 [01:02<00:33,  3.12it/s]\u001b[A\u001b[A\n",
      "\n",
      " 65%|██████▌   | 190/292 [01:03<00:32,  3.12it/s]\u001b[A\u001b[A\n",
      "\n",
      " 65%|██████▌   | 191/292 [01:03<00:32,  3.11it/s]\u001b[A\u001b[A\n",
      "\n",
      " 66%|██████▌   | 192/292 [01:03<00:32,  3.11it/s]\u001b[A\u001b[A\n",
      "\n",
      " 66%|██████▌   | 193/292 [01:03<00:31,  3.12it/s]\u001b[A\u001b[A\n",
      "\n",
      " 66%|██████▋   | 194/292 [01:04<00:31,  3.12it/s]\u001b[A\u001b[A\n",
      "\n",
      " 67%|██████▋   | 195/292 [01:04<00:31,  3.12it/s]\u001b[A\u001b[A\n",
      "\n",
      " 67%|██████▋   | 196/292 [01:04<00:30,  3.12it/s]\u001b[A\u001b[A\n",
      "\n",
      " 67%|██████▋   | 197/292 [01:05<00:30,  3.13it/s]\u001b[A\u001b[A\n",
      "\n",
      " 68%|██████▊   | 198/292 [01:05<00:30,  3.13it/s]\u001b[A\u001b[A\n",
      "\n",
      " 68%|██████▊   | 199/292 [01:05<00:29,  3.10it/s]\u001b[A\u001b[A\n",
      "\n",
      " 68%|██████▊   | 200/292 [01:06<00:29,  3.11it/s]\u001b[A\u001b[A\n",
      "\n",
      " 69%|██████▉   | 201/292 [01:06<00:29,  3.10it/s]\u001b[A\u001b[A\n",
      "\n",
      " 69%|██████▉   | 202/292 [01:06<00:29,  3.09it/s]\u001b[A\u001b[A\n",
      "\n",
      " 70%|██████▉   | 203/292 [01:07<00:29,  3.07it/s]\u001b[A\u001b[A\n",
      "\n",
      " 70%|██████▉   | 204/292 [01:07<00:28,  3.08it/s]\u001b[A\u001b[A\n",
      "\n",
      " 70%|███████   | 205/292 [01:07<00:28,  3.08it/s]\u001b[A\u001b[A\n",
      "\n",
      " 71%|███████   | 206/292 [01:08<00:27,  3.08it/s]\u001b[A\u001b[A\n",
      "\n",
      " 71%|███████   | 207/292 [01:08<00:27,  3.07it/s]\u001b[A\u001b[A\n",
      "\n",
      " 71%|███████   | 208/292 [01:08<00:27,  3.09it/s]\u001b[A\u001b[A\n",
      "\n",
      " 72%|███████▏  | 209/292 [01:09<00:26,  3.09it/s]\u001b[A\u001b[A\n",
      "\n",
      " 72%|███████▏  | 210/292 [01:09<00:26,  3.11it/s]\u001b[A\u001b[A\n",
      "\n",
      " 72%|███████▏  | 211/292 [01:09<00:26,  3.10it/s]\u001b[A\u001b[A\n",
      "\n",
      " 73%|███████▎  | 212/292 [01:10<00:25,  3.10it/s]\u001b[A\u001b[A\n",
      "\n",
      " 73%|███████▎  | 213/292 [01:10<00:25,  3.06it/s]\u001b[A\u001b[A\n",
      "\n",
      " 73%|███████▎  | 214/292 [01:10<00:25,  3.06it/s]\u001b[A\u001b[A\n",
      "\n",
      " 74%|███████▎  | 215/292 [01:11<00:24,  3.09it/s]\u001b[A\u001b[A\n",
      "\n",
      " 74%|███████▍  | 216/292 [01:11<00:24,  3.09it/s]\u001b[A\u001b[A\n",
      "\n",
      " 74%|███████▍  | 217/292 [01:11<00:24,  3.07it/s]\u001b[A\u001b[A\n",
      "\n",
      " 75%|███████▍  | 218/292 [01:12<00:24,  3.08it/s]\u001b[A\u001b[A\n",
      "\n",
      " 75%|███████▌  | 219/292 [01:12<00:23,  3.07it/s]\u001b[A\u001b[A\n",
      "\n",
      " 75%|███████▌  | 220/292 [01:12<00:23,  3.04it/s]\u001b[A\u001b[A\n",
      "\n",
      " 76%|███████▌  | 221/292 [01:13<00:23,  3.04it/s]\u001b[A\u001b[A\n",
      "\n",
      " 76%|███████▌  | 222/292 [01:13<00:23,  3.04it/s]\u001b[A\u001b[A\n",
      "\n",
      " 76%|███████▋  | 223/292 [01:13<00:22,  3.02it/s]\u001b[A\u001b[A\n",
      "\n",
      " 77%|███████▋  | 224/292 [01:14<00:22,  3.02it/s]\u001b[A\u001b[A\n",
      "\n",
      " 77%|███████▋  | 225/292 [01:14<00:22,  3.04it/s]\u001b[A\u001b[A\n",
      "\n",
      " 77%|███████▋  | 226/292 [01:14<00:21,  3.08it/s]\u001b[A\u001b[A\n",
      "\n",
      " 78%|███████▊  | 227/292 [01:15<00:21,  3.07it/s]\u001b[A\u001b[A\n",
      "\n",
      " 78%|███████▊  | 228/292 [01:15<00:20,  3.06it/s]\u001b[A\u001b[A\n",
      "\n",
      " 78%|███████▊  | 229/292 [01:15<00:20,  3.07it/s]\u001b[A\u001b[A\n",
      "\n",
      " 79%|███████▉  | 230/292 [01:16<00:19,  3.10it/s]\u001b[A\u001b[A\n",
      "\n",
      " 79%|███████▉  | 231/292 [01:16<00:19,  3.09it/s]\u001b[A\u001b[A\n",
      "\n",
      " 79%|███████▉  | 232/292 [01:16<00:19,  3.10it/s]\u001b[A\u001b[A\n",
      "\n",
      " 80%|███████▉  | 233/292 [01:16<00:18,  3.11it/s]\u001b[A\u001b[A\n",
      "\n",
      " 80%|████████  | 234/292 [01:17<00:18,  3.12it/s]\u001b[A\u001b[A\n",
      "\n",
      " 80%|████████  | 235/292 [01:17<00:18,  3.12it/s]\u001b[A\u001b[A\n",
      "\n",
      " 81%|████████  | 236/292 [01:17<00:18,  3.08it/s]\u001b[A\u001b[A\n",
      "\n",
      " 81%|████████  | 237/292 [01:18<00:17,  3.07it/s]\u001b[A\u001b[A\n",
      "\n",
      " 82%|████████▏ | 238/292 [01:18<00:17,  3.06it/s]\u001b[A\u001b[A\n",
      "\n",
      " 82%|████████▏ | 239/292 [01:18<00:17,  3.05it/s]\u001b[A\u001b[A\n",
      "\n",
      " 82%|████████▏ | 240/292 [01:19<00:16,  3.08it/s]\u001b[A\u001b[A\n",
      "\n",
      " 83%|████████▎ | 241/292 [01:19<00:16,  3.10it/s]\u001b[A\u001b[A\n",
      "\n",
      " 83%|████████▎ | 242/292 [01:19<00:16,  3.11it/s]\u001b[A\u001b[A\n",
      "\n",
      " 83%|████████▎ | 243/292 [01:20<00:15,  3.10it/s]\u001b[A\u001b[A\n",
      "\n",
      " 84%|████████▎ | 244/292 [01:20<00:15,  3.11it/s]\u001b[A\u001b[A\n",
      "\n",
      " 84%|████████▍ | 245/292 [01:20<00:15,  3.11it/s]\u001b[A\u001b[A\n",
      "\n",
      " 84%|████████▍ | 246/292 [01:21<00:14,  3.11it/s]\u001b[A\u001b[A\n",
      "\n",
      " 85%|████████▍ | 247/292 [01:21<00:14,  3.12it/s]\u001b[A\u001b[A\n",
      "\n",
      " 85%|████████▍ | 248/292 [01:21<00:14,  3.11it/s]\u001b[A\u001b[A\n",
      "\n",
      " 85%|████████▌ | 249/292 [01:22<00:13,  3.09it/s]\u001b[A\u001b[A\n",
      "\n",
      " 86%|████████▌ | 250/292 [01:22<00:13,  3.04it/s]\u001b[A\u001b[A\n",
      "\n",
      " 86%|████████▌ | 251/292 [01:22<00:13,  3.02it/s]\u001b[A\u001b[A\n",
      "\n",
      " 86%|████████▋ | 252/292 [01:23<00:13,  3.02it/s]\u001b[A\u001b[A\n",
      "\n",
      " 87%|████████▋ | 253/292 [01:23<00:12,  3.03it/s]\u001b[A\u001b[A\n",
      "\n",
      " 87%|████████▋ | 254/292 [01:23<00:12,  3.03it/s]\u001b[A\u001b[A\n",
      "\n",
      " 87%|████████▋ | 255/292 [01:24<00:12,  3.03it/s]\u001b[A\u001b[A\n",
      "\n",
      " 88%|████████▊ | 256/292 [01:24<00:11,  3.04it/s]\u001b[A\u001b[A\n",
      "\n",
      " 88%|████████▊ | 257/292 [01:24<00:11,  3.03it/s]\u001b[A\u001b[A\n",
      "\n",
      " 88%|████████▊ | 258/292 [01:25<00:11,  3.04it/s]\u001b[A\u001b[A\n",
      "\n",
      " 89%|████████▊ | 259/292 [01:25<00:10,  3.05it/s]\u001b[A\u001b[A\n",
      "\n",
      " 89%|████████▉ | 260/292 [01:25<00:10,  3.07it/s]\u001b[A\u001b[A\n",
      "\n",
      " 89%|████████▉ | 261/292 [01:26<00:10,  3.08it/s]\u001b[A\u001b[A\n",
      "\n",
      " 90%|████████▉ | 262/292 [01:26<00:09,  3.08it/s]\u001b[A\u001b[A\n",
      "\n",
      " 90%|█████████ | 263/292 [01:26<00:09,  3.06it/s]\u001b[A\u001b[A\n",
      "\n",
      " 90%|█████████ | 264/292 [01:27<00:09,  3.08it/s]\u001b[A\u001b[A\n",
      "\n",
      " 91%|█████████ | 265/292 [01:27<00:08,  3.09it/s]\u001b[A\u001b[A\n",
      "\n",
      " 91%|█████████ | 266/292 [01:27<00:08,  3.09it/s]\u001b[A\u001b[A\n",
      "\n",
      " 91%|█████████▏| 267/292 [01:28<00:08,  3.09it/s]\u001b[A\u001b[A\n",
      "\n",
      " 92%|█████████▏| 268/292 [01:28<00:07,  3.06it/s]\u001b[A\u001b[A\n",
      "\n",
      " 92%|█████████▏| 269/292 [01:28<00:07,  3.05it/s]\u001b[A\u001b[A\n",
      "\n",
      " 92%|█████████▏| 270/292 [01:29<00:07,  3.04it/s]\u001b[A\u001b[A\n",
      "\n",
      " 93%|█████████▎| 271/292 [01:29<00:06,  3.05it/s]\u001b[A\u001b[A\n",
      "\n",
      " 93%|█████████▎| 272/292 [01:29<00:06,  3.05it/s]\u001b[A\u001b[A\n",
      "\n",
      " 93%|█████████▎| 273/292 [01:30<00:06,  3.06it/s]\u001b[A\u001b[A\n",
      "\n",
      " 94%|█████████▍| 274/292 [01:30<00:05,  3.05it/s]\u001b[A\u001b[A\n",
      "\n",
      " 94%|█████████▍| 275/292 [01:30<00:05,  3.06it/s]\u001b[A\u001b[A\n",
      "\n",
      " 95%|█████████▍| 276/292 [01:30<00:05,  3.05it/s]\u001b[A\u001b[A\n",
      "\n",
      " 95%|█████████▍| 277/292 [01:31<00:04,  3.07it/s]\u001b[A\u001b[A\n",
      "\n",
      " 95%|█████████▌| 278/292 [01:31<00:04,  3.06it/s]\u001b[A\u001b[A\n",
      "\n",
      " 96%|█████████▌| 279/292 [01:31<00:04,  3.02it/s]\u001b[A\u001b[A\n",
      "\n",
      " 96%|█████████▌| 280/292 [01:32<00:04,  2.99it/s]\u001b[A\u001b[A\n",
      "\n",
      " 96%|█████████▌| 281/292 [01:32<00:03,  3.02it/s]\u001b[A\u001b[A\n",
      "\n",
      " 97%|█████████▋| 282/292 [01:32<00:03,  3.06it/s]\u001b[A\u001b[A\n",
      "\n",
      " 97%|█████████▋| 283/292 [01:33<00:02,  3.06it/s]\u001b[A\u001b[A\n",
      "\n",
      " 97%|█████████▋| 284/292 [01:33<00:02,  3.06it/s]\u001b[A\u001b[A\n",
      "\n",
      " 98%|█████████▊| 285/292 [01:33<00:02,  3.07it/s]\u001b[A\u001b[A\n",
      "\n",
      " 98%|█████████▊| 286/292 [01:34<00:01,  3.08it/s]\u001b[A\u001b[A\n",
      "\n",
      " 98%|█████████▊| 287/292 [01:34<00:01,  3.12it/s]\u001b[A\u001b[A\n",
      "\n",
      " 99%|█████████▊| 288/292 [01:34<00:01,  3.11it/s]\u001b[A\u001b[A\n",
      "\n",
      " 99%|█████████▉| 289/292 [01:35<00:00,  3.10it/s]\u001b[A\u001b[A\n",
      "\n",
      " 99%|█████████▉| 290/292 [01:35<00:00,  3.07it/s]\u001b[A\u001b[A\n",
      "\n",
      "100%|█████████▉| 291/292 [01:35<00:00,  3.05it/s]\u001b[A\u001b[A\n",
      "\n",
      "\u001b[A\u001b[A\n",
      "\n",
      "  0%|          | 0/292 [00:00<?, ?it/s]\u001b[A\u001b[A\n",
      "\n",
      "  1%|          | 2/292 [00:00<00:45,  6.43it/s]\u001b[A\u001b[A\n",
      "\n",
      "  1%|          | 3/292 [00:00<00:53,  5.38it/s]\u001b[A\u001b[A\n",
      "\n",
      "  1%|▏         | 4/292 [00:00<00:59,  4.83it/s]\u001b[A\u001b[A\n",
      "\n",
      "  2%|▏         | 5/292 [00:01<01:04,  4.45it/s]\u001b[A\u001b[A\n",
      "\n",
      "  2%|▏         | 6/292 [00:01<01:07,  4.21it/s]\u001b[A\u001b[A\n",
      "\n",
      "  2%|▏         | 7/292 [00:01<01:10,  4.05it/s]\u001b[A\u001b[A\n",
      "\n",
      "  3%|▎         | 8/292 [00:01<01:12,  3.94it/s]\u001b[A\u001b[A\n",
      "\n",
      "  3%|▎         | 9/292 [00:02<01:13,  3.87it/s]\u001b[A\u001b[A\n",
      "\n",
      "  3%|▎         | 10/292 [00:02<01:14,  3.80it/s]\u001b[A\u001b[A\n",
      "\n",
      "  4%|▍         | 11/292 [00:02<01:15,  3.71it/s]\u001b[A\u001b[A\n",
      "\n",
      "  4%|▍         | 12/292 [00:03<01:16,  3.68it/s]\u001b[A\u001b[A\n",
      "\n",
      "  4%|▍         | 13/292 [00:03<01:15,  3.67it/s]\u001b[A\u001b[A\n",
      "\n",
      "  5%|▍         | 14/292 [00:03<01:15,  3.66it/s]\u001b[A\u001b[A\n",
      "\n",
      "  5%|▌         | 15/292 [00:03<01:15,  3.68it/s]\u001b[A\u001b[A\n",
      "\n",
      "  5%|▌         | 16/292 [00:04<01:14,  3.71it/s]\u001b[A\u001b[A\n",
      "\n",
      "  6%|▌         | 17/292 [00:04<01:13,  3.74it/s]\u001b[A\u001b[A\n",
      "\n",
      "  6%|▌         | 18/292 [00:04<01:12,  3.77it/s]\u001b[A\u001b[A\n",
      "\n",
      "  7%|▋         | 19/292 [00:04<01:13,  3.72it/s]\u001b[A\u001b[A\n",
      "\n",
      "  7%|▋         | 20/292 [00:05<01:14,  3.68it/s]\u001b[A\u001b[A\n",
      "\n",
      "  7%|▋         | 21/292 [00:05<01:13,  3.67it/s]\u001b[A\u001b[A\n",
      "\n",
      "  8%|▊         | 22/292 [00:05<01:13,  3.67it/s]\u001b[A\u001b[A\n",
      "\n",
      "  8%|▊         | 23/292 [00:05<01:14,  3.63it/s]\u001b[A\u001b[A\n",
      "\n",
      "  8%|▊         | 24/292 [00:06<01:14,  3.62it/s]\u001b[A\u001b[A\n",
      "\n",
      "  9%|▊         | 25/292 [00:06<01:13,  3.65it/s]\u001b[A\u001b[A\n",
      "\n",
      "  9%|▉         | 26/292 [00:06<01:11,  3.70it/s]\u001b[A\u001b[A\n",
      "\n",
      "  9%|▉         | 27/292 [00:07<01:12,  3.68it/s]\u001b[A\u001b[A\n",
      "\n",
      " 10%|▉         | 28/292 [00:07<01:12,  3.65it/s]\u001b[A\u001b[A\n",
      "\n",
      " 10%|▉         | 29/292 [00:07<01:12,  3.65it/s]\u001b[A\u001b[A\n",
      "\n",
      " 10%|█         | 30/292 [00:07<01:12,  3.64it/s]\u001b[A\u001b[A\n",
      "\n",
      " 11%|█         | 31/292 [00:08<01:11,  3.63it/s]\u001b[A\u001b[A\n",
      "\n",
      " 11%|█         | 32/292 [00:08<01:11,  3.66it/s]\u001b[A\u001b[A\n",
      "\n",
      " 11%|█▏        | 33/292 [00:08<01:10,  3.67it/s]\u001b[A\u001b[A\n",
      "\n",
      " 12%|█▏        | 34/292 [00:08<01:09,  3.69it/s]\u001b[A\u001b[A\n",
      "\n",
      " 12%|█▏        | 35/292 [00:09<01:08,  3.73it/s]\u001b[A\u001b[A\n",
      "\n",
      " 12%|█▏        | 36/292 [00:09<01:08,  3.73it/s]\u001b[A\u001b[A\n",
      "\n",
      " 13%|█▎        | 37/292 [00:09<01:08,  3.73it/s]\u001b[A\u001b[A\n",
      "\n",
      " 13%|█▎        | 38/292 [00:10<01:07,  3.74it/s]\u001b[A\u001b[A\n",
      "\n",
      " 13%|█▎        | 39/292 [00:10<01:07,  3.76it/s]\u001b[A\u001b[A\n",
      "\n",
      " 14%|█▎        | 40/292 [00:10<01:06,  3.76it/s]\u001b[A\u001b[A\n",
      "\n",
      " 14%|█▍        | 41/292 [00:10<01:06,  3.78it/s]\u001b[A\u001b[A\n",
      "\n",
      " 14%|█▍        | 42/292 [00:11<01:06,  3.79it/s]\u001b[A\u001b[A\n",
      "\n",
      " 15%|█▍        | 43/292 [00:11<01:05,  3.79it/s]\u001b[A\u001b[A\n",
      "\n",
      " 15%|█▌        | 44/292 [00:11<01:05,  3.77it/s]\u001b[A\u001b[A\n",
      "\n",
      " 15%|█▌        | 45/292 [00:11<01:05,  3.76it/s]\u001b[A\u001b[A\n",
      "\n",
      " 16%|█▌        | 46/292 [00:12<01:04,  3.78it/s]\u001b[A\u001b[A\n",
      "\n",
      " 16%|█▌        | 47/292 [00:12<01:04,  3.81it/s]\u001b[A\u001b[A\n",
      "\n",
      " 16%|█▋        | 48/292 [00:12<01:04,  3.80it/s]\u001b[A\u001b[A\n",
      "\n",
      " 17%|█▋        | 49/292 [00:12<01:04,  3.75it/s]\u001b[A\u001b[A\n",
      "\n",
      " 17%|█▋        | 50/292 [00:13<01:05,  3.72it/s]\u001b[A\u001b[A\n",
      "\n",
      " 17%|█▋        | 51/292 [00:13<01:04,  3.73it/s]\u001b[A\u001b[A\n",
      "\n",
      " 18%|█▊        | 52/292 [00:13<01:04,  3.72it/s]\u001b[A\u001b[A\n",
      "\n",
      " 18%|█▊        | 53/292 [00:14<01:04,  3.72it/s]\u001b[A\u001b[A\n",
      "\n",
      " 18%|█▊        | 54/292 [00:14<01:03,  3.72it/s]\u001b[A\u001b[A\n",
      "\n",
      " 19%|█▉        | 55/292 [00:14<01:03,  3.73it/s]\u001b[A\u001b[A\n",
      "\n",
      " 19%|█▉        | 56/292 [00:14<01:03,  3.71it/s]\u001b[A\u001b[A\n",
      "\n",
      " 20%|█▉        | 57/292 [00:15<01:03,  3.72it/s]\u001b[A\u001b[A\n",
      "\n",
      " 20%|█▉        | 58/292 [00:15<01:02,  3.74it/s]\u001b[A\u001b[A\n",
      "\n",
      " 20%|██        | 59/292 [00:15<01:02,  3.74it/s]\u001b[A\u001b[A\n",
      "\n",
      " 21%|██        | 60/292 [00:15<01:02,  3.72it/s]\u001b[A\u001b[A\n",
      "\n",
      " 21%|██        | 61/292 [00:16<01:01,  3.75it/s]\u001b[A\u001b[A\n",
      "\n",
      " 21%|██        | 62/292 [00:16<01:01,  3.75it/s]\u001b[A\u001b[A\n",
      "\n",
      " 22%|██▏       | 63/292 [00:16<01:00,  3.75it/s]\u001b[A\u001b[A\n",
      "\n",
      " 22%|██▏       | 64/292 [00:16<01:00,  3.76it/s]\u001b[A\u001b[A\n",
      "\n",
      " 22%|██▏       | 65/292 [00:17<01:00,  3.76it/s]\u001b[A\u001b[A\n",
      "\n",
      " 23%|██▎       | 66/292 [00:17<00:59,  3.79it/s]\u001b[A\u001b[A\n",
      "\n",
      " 23%|██▎       | 67/292 [00:17<00:59,  3.80it/s]\u001b[A\u001b[A\n",
      "\n",
      " 23%|██▎       | 68/292 [00:18<00:59,  3.79it/s]\u001b[A\u001b[A\n",
      "\n",
      " 24%|██▎       | 69/292 [00:18<00:59,  3.78it/s]\u001b[A\u001b[A\n",
      "\n",
      " 24%|██▍       | 70/292 [00:18<00:58,  3.78it/s]\u001b[A\u001b[A\n",
      "\n",
      " 24%|██▍       | 71/292 [00:18<00:58,  3.79it/s]\u001b[A\u001b[A\n",
      "\n",
      " 25%|██▍       | 72/292 [00:19<00:58,  3.79it/s]\u001b[A\u001b[A\n",
      "\n",
      " 25%|██▌       | 73/292 [00:19<00:57,  3.80it/s]\u001b[A\u001b[A\n",
      "\n",
      " 25%|██▌       | 74/292 [00:19<00:57,  3.80it/s]\u001b[A\u001b[A\n",
      "\n",
      " 26%|██▌       | 75/292 [00:19<00:57,  3.77it/s]\u001b[A\u001b[A\n",
      "\n",
      " 26%|██▌       | 76/292 [00:20<00:57,  3.76it/s]\u001b[A\u001b[A\n",
      "\n",
      " 26%|██▋       | 77/292 [00:20<00:57,  3.77it/s]\u001b[A\u001b[A\n",
      "\n",
      " 27%|██▋       | 78/292 [00:20<00:56,  3.78it/s]\u001b[A\u001b[A\n",
      "\n",
      " 27%|██▋       | 79/292 [00:20<00:56,  3.76it/s]\u001b[A\u001b[A\n",
      "\n",
      " 27%|██▋       | 80/292 [00:21<00:56,  3.76it/s]\u001b[A\u001b[A\n",
      "\n",
      " 28%|██▊       | 81/292 [00:21<00:56,  3.70it/s]\u001b[A\u001b[A\n",
      "\n",
      " 28%|██▊       | 82/292 [00:21<00:57,  3.66it/s]\u001b[A\u001b[A\n",
      "\n",
      " 28%|██▊       | 83/292 [00:22<00:56,  3.69it/s]\u001b[A\u001b[A\n",
      "\n",
      " 29%|██▉       | 84/292 [00:22<00:56,  3.67it/s]\u001b[A\u001b[A\n",
      "\n",
      " 29%|██▉       | 85/292 [00:22<00:56,  3.69it/s]\u001b[A\u001b[A\n",
      "\n",
      " 29%|██▉       | 86/292 [00:22<00:55,  3.72it/s]\u001b[A\u001b[A\n",
      "\n",
      " 30%|██▉       | 87/292 [00:23<00:55,  3.72it/s]\u001b[A\u001b[A\n",
      "\n",
      " 30%|███       | 88/292 [00:23<00:54,  3.74it/s]\u001b[A\u001b[A\n",
      "\n",
      " 30%|███       | 89/292 [00:23<00:54,  3.73it/s]\u001b[A\u001b[A\n",
      "\n",
      " 31%|███       | 90/292 [00:23<00:53,  3.75it/s]\u001b[A\u001b[A\n",
      "\n",
      " 31%|███       | 91/292 [00:24<00:53,  3.75it/s]\u001b[A\u001b[A\n",
      "\n",
      " 32%|███▏      | 92/292 [00:24<00:53,  3.74it/s]\u001b[A\u001b[A\n",
      "\n",
      " 32%|███▏      | 93/292 [00:24<00:53,  3.72it/s]\u001b[A\u001b[A\n",
      "\n",
      " 32%|███▏      | 94/292 [00:24<00:52,  3.74it/s]\u001b[A\u001b[A\n",
      "\n",
      " 33%|███▎      | 95/292 [00:25<00:52,  3.76it/s]\u001b[A\u001b[A\n",
      "\n",
      " 33%|███▎      | 96/292 [00:25<00:51,  3.77it/s]\u001b[A\u001b[A\n",
      "\n",
      " 33%|███▎      | 97/292 [00:25<00:51,  3.77it/s]\u001b[A\u001b[A\n",
      "\n",
      " 34%|███▎      | 98/292 [00:26<00:51,  3.75it/s]\u001b[A\u001b[A\n",
      "\n",
      " 34%|███▍      | 99/292 [00:26<00:51,  3.74it/s]\u001b[A\u001b[A\n",
      "\n",
      " 34%|███▍      | 100/292 [00:26<00:52,  3.69it/s]\u001b[A\u001b[A\n",
      "\n",
      " 35%|███▍      | 101/292 [00:26<00:52,  3.66it/s]\u001b[A\u001b[A\n",
      "\n",
      " 35%|███▍      | 102/292 [00:27<00:53,  3.58it/s]\u001b[A\u001b[A\n",
      "\n",
      " 35%|███▌      | 103/292 [00:27<00:53,  3.54it/s]\u001b[A\u001b[A\n",
      "\n",
      " 36%|███▌      | 104/292 [00:27<00:52,  3.55it/s]\u001b[A\u001b[A\n",
      "\n",
      " 36%|███▌      | 105/292 [00:28<00:52,  3.58it/s]\u001b[A\u001b[A\n",
      "\n",
      " 36%|███▋      | 106/292 [00:28<00:52,  3.58it/s]\u001b[A\u001b[A\n",
      "\n",
      " 37%|███▋      | 107/292 [00:28<00:51,  3.59it/s]\u001b[A\u001b[A\n",
      "\n",
      " 37%|███▋      | 108/292 [00:28<00:51,  3.60it/s]\u001b[A\u001b[A\n",
      "\n",
      " 37%|███▋      | 109/292 [00:29<00:50,  3.60it/s]\u001b[A\u001b[A\n",
      "\n",
      " 38%|███▊      | 110/292 [00:29<00:50,  3.60it/s]\u001b[A\u001b[A\n",
      "\n",
      " 38%|███▊      | 111/292 [00:29<00:49,  3.63it/s]\u001b[A\u001b[A\n",
      "\n",
      " 38%|███▊      | 112/292 [00:29<00:49,  3.65it/s]\u001b[A\u001b[A\n",
      "\n",
      " 39%|███▊      | 113/292 [00:30<00:48,  3.68it/s]\u001b[A\u001b[A\n",
      "\n",
      " 39%|███▉      | 114/292 [00:30<00:47,  3.71it/s]\u001b[A\u001b[A\n",
      "\n",
      " 39%|███▉      | 115/292 [00:30<00:47,  3.74it/s]\u001b[A\u001b[A\n",
      "\n",
      " 40%|███▉      | 116/292 [00:30<00:46,  3.78it/s]\u001b[A\u001b[A\n",
      "\n",
      " 40%|████      | 117/292 [00:31<00:46,  3.80it/s]\u001b[A\u001b[A\n",
      "\n",
      " 40%|████      | 118/292 [00:31<00:45,  3.82it/s]\u001b[A\u001b[A\n",
      "\n",
      " 41%|████      | 119/292 [00:31<00:45,  3.83it/s]\u001b[A\u001b[A\n",
      "\n",
      " 41%|████      | 120/292 [00:32<00:44,  3.83it/s]\u001b[A\u001b[A\n",
      "\n",
      " 41%|████▏     | 121/292 [00:32<00:44,  3.83it/s]\u001b[A\u001b[A\n",
      "\n",
      " 42%|████▏     | 122/292 [00:32<00:44,  3.85it/s]\u001b[A\u001b[A\n",
      "\n",
      " 42%|████▏     | 123/292 [00:32<00:43,  3.85it/s]\u001b[A\u001b[A\n",
      "\n",
      " 42%|████▏     | 124/292 [00:33<00:43,  3.82it/s]\u001b[A\u001b[A\n",
      "\n",
      " 43%|████▎     | 125/292 [00:33<00:43,  3.82it/s]\u001b[A\u001b[A\n",
      "\n",
      " 43%|████▎     | 126/292 [00:33<00:43,  3.84it/s]\u001b[A\u001b[A\n",
      "\n",
      " 43%|████▎     | 127/292 [00:33<00:43,  3.82it/s]\u001b[A\u001b[A\n",
      "\n",
      " 44%|████▍     | 128/292 [00:34<00:43,  3.78it/s]\u001b[A\u001b[A\n",
      "\n",
      " 44%|████▍     | 129/292 [00:34<00:42,  3.80it/s]\u001b[A\u001b[A\n",
      "\n",
      " 45%|████▍     | 130/292 [00:34<00:42,  3.82it/s]\u001b[A\u001b[A\n",
      "\n",
      " 45%|████▍     | 131/292 [00:34<00:42,  3.81it/s]\u001b[A\u001b[A\n",
      "\n",
      " 45%|████▌     | 132/292 [00:35<00:41,  3.82it/s]\u001b[A\u001b[A\n",
      "\n",
      " 46%|████▌     | 133/292 [00:35<00:41,  3.80it/s]\u001b[A\u001b[A\n",
      "\n",
      " 46%|████▌     | 134/292 [00:35<00:41,  3.84it/s]\u001b[A\u001b[A\n",
      "\n",
      " 46%|████▌     | 135/292 [00:35<00:40,  3.84it/s]\u001b[A\u001b[A\n",
      "\n",
      " 47%|████▋     | 136/292 [00:36<00:40,  3.84it/s]\u001b[A\u001b[A\n",
      "\n",
      " 47%|████▋     | 137/292 [00:36<00:40,  3.84it/s]\u001b[A\u001b[A\n",
      "\n",
      " 47%|████▋     | 138/292 [00:36<00:39,  3.88it/s]\u001b[A\u001b[A\n",
      "\n",
      " 48%|████▊     | 139/292 [00:36<00:39,  3.83it/s]\u001b[A\u001b[A\n",
      "\n",
      " 48%|████▊     | 140/292 [00:37<00:39,  3.82it/s]\u001b[A\u001b[A\n",
      "\n",
      " 48%|████▊     | 141/292 [00:37<00:39,  3.81it/s]\u001b[A\u001b[A\n",
      "\n",
      " 49%|████▊     | 142/292 [00:37<00:39,  3.79it/s]\u001b[A\u001b[A\n",
      "\n",
      " 49%|████▉     | 143/292 [00:38<00:39,  3.78it/s]\u001b[A\u001b[A\n",
      "\n",
      " 49%|████▉     | 144/292 [00:38<00:39,  3.77it/s]\u001b[A\u001b[A\n",
      "\n",
      " 50%|████▉     | 145/292 [00:38<00:38,  3.79it/s]\u001b[A\u001b[A\n",
      "\n",
      " 50%|█████     | 146/292 [00:38<00:38,  3.80it/s]\u001b[A\u001b[A\n",
      "\n",
      " 50%|█████     | 147/292 [00:39<00:38,  3.80it/s]\u001b[A\u001b[A\n",
      "\n",
      " 51%|█████     | 148/292 [00:39<00:37,  3.80it/s]\u001b[A\u001b[A\n",
      "\n",
      " 51%|█████     | 149/292 [00:39<00:37,  3.81it/s]\u001b[A\u001b[A\n",
      "\n",
      " 51%|█████▏    | 150/292 [00:39<00:37,  3.81it/s]\u001b[A\u001b[A\n",
      "\n",
      " 52%|█████▏    | 151/292 [00:40<00:37,  3.80it/s]\u001b[A\u001b[A\n",
      "\n",
      " 52%|█████▏    | 152/292 [00:40<00:36,  3.81it/s]\u001b[A\u001b[A\n",
      "\n",
      " 52%|█████▏    | 153/292 [00:40<00:36,  3.78it/s]\u001b[A\u001b[A\n",
      "\n",
      " 53%|█████▎    | 154/292 [00:40<00:36,  3.80it/s]\u001b[A\u001b[A\n",
      "\n",
      " 53%|█████▎    | 155/292 [00:41<00:36,  3.79it/s]\u001b[A\u001b[A\n",
      "\n",
      " 53%|█████▎    | 156/292 [00:41<00:35,  3.81it/s]\u001b[A\u001b[A\n",
      "\n",
      " 54%|█████▍    | 157/292 [00:41<00:35,  3.83it/s]\u001b[A\u001b[A\n",
      "\n",
      " 54%|█████▍    | 158/292 [00:41<00:34,  3.83it/s]\u001b[A\u001b[A\n",
      "\n",
      " 54%|█████▍    | 159/292 [00:42<00:34,  3.83it/s]\u001b[A\u001b[A\n",
      "\n",
      " 55%|█████▍    | 160/292 [00:42<00:34,  3.83it/s]\u001b[A\u001b[A\n",
      "\n",
      " 55%|█████▌    | 161/292 [00:42<00:34,  3.83it/s]\u001b[A\u001b[A\n",
      "\n",
      " 55%|█████▌    | 162/292 [00:43<00:33,  3.84it/s]\u001b[A\u001b[A\n",
      "\n",
      " 56%|█████▌    | 163/292 [00:43<00:33,  3.83it/s]\u001b[A\u001b[A\n",
      "\n",
      " 56%|█████▌    | 164/292 [00:43<00:33,  3.82it/s]\u001b[A\u001b[A\n",
      "\n",
      " 57%|█████▋    | 165/292 [00:43<00:33,  3.82it/s]\u001b[A\u001b[A\n",
      "\n",
      " 57%|█████▋    | 166/292 [00:44<00:32,  3.85it/s]\u001b[A\u001b[A\n",
      "\n",
      " 57%|█████▋    | 167/292 [00:44<00:32,  3.83it/s]\u001b[A\u001b[A\n",
      "\n",
      " 58%|█████▊    | 168/292 [00:44<00:32,  3.84it/s]\u001b[A\u001b[A\n",
      "\n",
      " 58%|█████▊    | 169/292 [00:44<00:31,  3.88it/s]\u001b[A\u001b[A\n",
      "\n",
      " 58%|█████▊    | 170/292 [00:45<00:31,  3.86it/s]\u001b[A\u001b[A\n",
      "\n",
      " 59%|█████▊    | 171/292 [00:45<00:31,  3.81it/s]\u001b[A\u001b[A\n",
      "\n",
      " 59%|█████▉    | 172/292 [00:45<00:31,  3.82it/s]\u001b[A\u001b[A\n",
      "\n",
      " 59%|█████▉    | 173/292 [00:45<00:31,  3.83it/s]\u001b[A\u001b[A\n",
      "\n",
      " 60%|█████▉    | 174/292 [00:46<00:30,  3.84it/s]\u001b[A\u001b[A\n",
      "\n",
      " 60%|█████▉    | 175/292 [00:46<00:30,  3.83it/s]\u001b[A\u001b[A\n",
      "\n",
      " 60%|██████    | 176/292 [00:46<00:30,  3.84it/s]\u001b[A\u001b[A\n",
      "\n",
      " 61%|██████    | 177/292 [00:46<00:29,  3.85it/s]\u001b[A\u001b[A\n",
      "\n",
      " 61%|██████    | 178/292 [00:47<00:29,  3.87it/s]\u001b[A\u001b[A\n",
      "\n",
      " 61%|██████▏   | 179/292 [00:47<00:29,  3.85it/s]\u001b[A\u001b[A\n",
      "\n",
      " 62%|██████▏   | 180/292 [00:47<00:28,  3.87it/s]\u001b[A\u001b[A\n",
      "\n",
      " 62%|██████▏   | 181/292 [00:47<00:28,  3.84it/s]\u001b[A\u001b[A\n",
      "\n",
      " 62%|██████▏   | 182/292 [00:48<00:28,  3.80it/s]\u001b[A\u001b[A\n",
      "\n",
      " 63%|██████▎   | 183/292 [00:48<00:28,  3.80it/s]\u001b[A\u001b[A\n",
      "\n",
      " 63%|██████▎   | 184/292 [00:48<00:28,  3.81it/s]\u001b[A\u001b[A\n",
      "\n",
      " 63%|██████▎   | 185/292 [00:49<00:28,  3.81it/s]\u001b[A\u001b[A\n",
      "\n",
      " 64%|██████▎   | 186/292 [00:49<00:27,  3.80it/s]\u001b[A\u001b[A\n",
      "\n",
      " 64%|██████▍   | 187/292 [00:49<00:27,  3.82it/s]\u001b[A\u001b[A\n",
      "\n",
      " 64%|██████▍   | 188/292 [00:49<00:27,  3.83it/s]\u001b[A\u001b[A\n",
      "\n",
      " 65%|██████▍   | 189/292 [00:50<00:26,  3.84it/s]\u001b[A\u001b[A\n",
      "\n",
      " 65%|██████▌   | 190/292 [00:50<00:26,  3.83it/s]\u001b[A\u001b[A\n",
      "\n",
      " 65%|██████▌   | 191/292 [00:50<00:26,  3.82it/s]\u001b[A\u001b[A\n",
      "\n",
      " 66%|██████▌   | 192/292 [00:50<00:26,  3.81it/s]\u001b[A\u001b[A\n",
      "\n",
      " 66%|██████▌   | 193/292 [00:51<00:25,  3.82it/s]\u001b[A\u001b[A\n",
      "\n",
      " 66%|██████▋   | 194/292 [00:51<00:25,  3.82it/s]\u001b[A\u001b[A\n",
      "\n",
      " 67%|██████▋   | 195/292 [00:51<00:25,  3.82it/s]\u001b[A\u001b[A\n",
      "\n",
      " 67%|██████▋   | 196/292 [00:51<00:25,  3.83it/s]\u001b[A\u001b[A\n",
      "\n",
      " 67%|██████▋   | 197/292 [00:52<00:24,  3.85it/s]\u001b[A\u001b[A\n",
      "\n",
      " 68%|██████▊   | 198/292 [00:52<00:24,  3.85it/s]\u001b[A\u001b[A\n",
      "\n",
      " 68%|██████▊   | 199/292 [00:52<00:24,  3.83it/s]\u001b[A\u001b[A\n",
      "\n",
      " 68%|██████▊   | 200/292 [00:52<00:24,  3.82it/s]\u001b[A\u001b[A\n",
      "\n",
      " 69%|██████▉   | 201/292 [00:53<00:23,  3.82it/s]\u001b[A\u001b[A\n",
      "\n",
      " 69%|██████▉   | 202/292 [00:53<00:23,  3.81it/s]\u001b[A\u001b[A\n",
      "\n",
      " 70%|██████▉   | 203/292 [00:53<00:23,  3.82it/s]\u001b[A\u001b[A\n",
      "\n",
      " 70%|██████▉   | 204/292 [00:53<00:22,  3.84it/s]\u001b[A\u001b[A\n",
      "\n",
      " 70%|███████   | 205/292 [00:54<00:22,  3.84it/s]\u001b[A\u001b[A\n",
      "\n",
      " 71%|███████   | 206/292 [00:54<00:22,  3.83it/s]\u001b[A\u001b[A\n",
      "\n",
      " 71%|███████   | 207/292 [00:54<00:21,  3.87it/s]\u001b[A\u001b[A\n",
      "\n",
      " 71%|███████   | 208/292 [00:55<00:21,  3.84it/s]\u001b[A\u001b[A\n",
      "\n",
      " 72%|███████▏  | 209/292 [00:55<00:21,  3.86it/s]\u001b[A\u001b[A\n",
      "\n",
      " 72%|███████▏  | 210/292 [00:55<00:21,  3.86it/s]\u001b[A\u001b[A\n",
      "\n",
      " 72%|███████▏  | 211/292 [00:55<00:21,  3.83it/s]\u001b[A\u001b[A\n",
      "\n",
      " 73%|███████▎  | 212/292 [00:56<00:21,  3.80it/s]\u001b[A\u001b[A\n",
      "\n",
      " 73%|███████▎  | 213/292 [00:56<00:20,  3.78it/s]\u001b[A\u001b[A\n",
      "\n",
      " 73%|███████▎  | 214/292 [00:56<00:20,  3.77it/s]\u001b[A\u001b[A\n",
      "\n",
      " 74%|███████▎  | 215/292 [00:56<00:20,  3.75it/s]\u001b[A\u001b[A\n",
      "\n",
      " 74%|███████▍  | 216/292 [00:57<00:20,  3.79it/s]\u001b[A\u001b[A\n",
      "\n",
      " 74%|███████▍  | 217/292 [00:57<00:19,  3.80it/s]\u001b[A\u001b[A\n",
      "\n",
      " 75%|███████▍  | 218/292 [00:57<00:19,  3.82it/s]\u001b[A\u001b[A\n",
      "\n",
      " 75%|███████▌  | 219/292 [00:57<00:19,  3.83it/s]\u001b[A\u001b[A\n",
      "\n",
      " 75%|███████▌  | 220/292 [00:58<00:18,  3.82it/s]\u001b[A\u001b[A\n",
      "\n",
      " 76%|███████▌  | 221/292 [00:58<00:18,  3.85it/s]\u001b[A\u001b[A\n",
      "\n",
      " 76%|███████▌  | 222/292 [00:58<00:18,  3.85it/s]\u001b[A\u001b[A\n",
      "\n",
      " 76%|███████▋  | 223/292 [00:58<00:17,  3.84it/s]\u001b[A\u001b[A\n",
      "\n",
      " 77%|███████▋  | 224/292 [00:59<00:17,  3.85it/s]\u001b[A\u001b[A\n",
      "\n",
      " 77%|███████▋  | 225/292 [00:59<00:17,  3.82it/s]\u001b[A\u001b[A\n",
      "\n",
      " 77%|███████▋  | 226/292 [00:59<00:17,  3.83it/s]\u001b[A\u001b[A\n",
      "\n",
      " 78%|███████▊  | 227/292 [01:00<00:16,  3.87it/s]\u001b[A\u001b[A\n",
      "\n",
      " 78%|███████▊  | 228/292 [01:00<00:16,  3.84it/s]\u001b[A\u001b[A\n",
      "\n",
      " 78%|███████▊  | 229/292 [01:00<00:16,  3.83it/s]\u001b[A\u001b[A\n",
      "\n",
      " 79%|███████▉  | 230/292 [01:00<00:16,  3.82it/s]\u001b[A\u001b[A\n",
      "\n",
      " 79%|███████▉  | 231/292 [01:01<00:15,  3.83it/s]\u001b[A\u001b[A\n",
      "\n",
      " 79%|███████▉  | 232/292 [01:01<00:15,  3.81it/s]\u001b[A\u001b[A\n",
      "\n",
      " 80%|███████▉  | 233/292 [01:01<00:15,  3.80it/s]\u001b[A\u001b[A\n",
      "\n",
      " 80%|████████  | 234/292 [01:01<00:15,  3.82it/s]\u001b[A\u001b[A\n",
      "\n",
      " 80%|████████  | 235/292 [01:02<00:14,  3.83it/s]\u001b[A\u001b[A\n",
      "\n",
      " 81%|████████  | 236/292 [01:02<00:14,  3.83it/s]\u001b[A\u001b[A\n",
      "\n",
      " 81%|████████  | 237/292 [01:02<00:14,  3.84it/s]\u001b[A\u001b[A\n",
      "\n",
      " 82%|████████▏ | 238/292 [01:02<00:14,  3.84it/s]\u001b[A\u001b[A\n",
      "\n",
      " 82%|████████▏ | 239/292 [01:03<00:13,  3.84it/s]\u001b[A\u001b[A\n",
      "\n",
      " 82%|████████▏ | 240/292 [01:03<00:13,  3.84it/s]\u001b[A\u001b[A\n",
      "\n",
      " 83%|████████▎ | 241/292 [01:03<00:13,  3.81it/s]\u001b[A\u001b[A\n",
      "\n",
      " 83%|████████▎ | 242/292 [01:03<00:13,  3.84it/s]\u001b[A\u001b[A\n",
      "\n",
      " 83%|████████▎ | 243/292 [01:04<00:12,  3.85it/s]\u001b[A\u001b[A\n",
      "\n",
      " 84%|████████▎ | 244/292 [01:04<00:12,  3.81it/s]\u001b[A\u001b[A\n",
      "\n",
      " 84%|████████▍ | 245/292 [01:04<00:12,  3.78it/s]\u001b[A\u001b[A\n",
      "\n",
      " 84%|████████▍ | 246/292 [01:04<00:12,  3.81it/s]\u001b[A\u001b[A\n",
      "\n",
      " 85%|████████▍ | 247/292 [01:05<00:11,  3.78it/s]\u001b[A\u001b[A\n",
      "\n",
      " 85%|████████▍ | 248/292 [01:05<00:11,  3.80it/s]\u001b[A\u001b[A\n",
      "\n",
      " 85%|████████▌ | 249/292 [01:05<00:11,  3.83it/s]\u001b[A\u001b[A\n",
      "\n",
      " 86%|████████▌ | 250/292 [01:06<00:10,  3.83it/s]\u001b[A\u001b[A\n",
      "\n",
      " 86%|████████▌ | 251/292 [01:06<00:10,  3.84it/s]\u001b[A\u001b[A\n",
      "\n",
      " 86%|████████▋ | 252/292 [01:06<00:10,  3.85it/s]\u001b[A\u001b[A\n",
      "\n",
      " 87%|████████▋ | 253/292 [01:06<00:10,  3.81it/s]\u001b[A\u001b[A\n",
      "\n",
      " 87%|████████▋ | 254/292 [01:07<00:09,  3.82it/s]\u001b[A\u001b[A\n",
      "\n",
      " 87%|████████▋ | 255/292 [01:07<00:09,  3.83it/s]\u001b[A\u001b[A\n",
      "\n",
      " 88%|████████▊ | 256/292 [01:07<00:09,  3.82it/s]\u001b[A\u001b[A\n",
      "\n",
      " 88%|████████▊ | 257/292 [01:07<00:09,  3.82it/s]\u001b[A\u001b[A\n",
      "\n",
      " 88%|████████▊ | 258/292 [01:08<00:08,  3.83it/s]\u001b[A\u001b[A\n",
      "\n",
      " 89%|████████▊ | 259/292 [01:08<00:08,  3.83it/s]\u001b[A\u001b[A\n",
      "\n",
      " 89%|████████▉ | 260/292 [01:08<00:08,  3.83it/s]\u001b[A\u001b[A\n",
      "\n",
      " 89%|████████▉ | 261/292 [01:08<00:08,  3.82it/s]\u001b[A\u001b[A\n",
      "\n",
      " 90%|████████▉ | 262/292 [01:09<00:07,  3.83it/s]\u001b[A\u001b[A\n",
      "\n",
      " 90%|█████████ | 263/292 [01:09<00:07,  3.84it/s]\u001b[A\u001b[A\n",
      "\n",
      " 90%|█████████ | 264/292 [01:09<00:07,  3.82it/s]\u001b[A\u001b[A\n",
      "\n",
      " 91%|█████████ | 265/292 [01:09<00:07,  3.82it/s]\u001b[A\u001b[A\n",
      "\n",
      " 91%|█████████ | 266/292 [01:10<00:06,  3.86it/s]\u001b[A\u001b[A\n",
      "\n",
      " 91%|█████████▏| 267/292 [01:10<00:06,  3.88it/s]\u001b[A\u001b[A\n",
      "\n",
      " 92%|█████████▏| 268/292 [01:10<00:06,  3.85it/s]\u001b[A\u001b[A\n",
      "\n",
      " 92%|█████████▏| 269/292 [01:10<00:05,  3.84it/s]\u001b[A\u001b[A\n",
      "\n",
      " 92%|█████████▏| 270/292 [01:11<00:05,  3.83it/s]\u001b[A\u001b[A\n",
      "\n",
      " 93%|█████████▎| 271/292 [01:11<00:05,  3.84it/s]\u001b[A\u001b[A\n",
      "\n",
      " 93%|█████████▎| 272/292 [01:11<00:05,  3.83it/s]\u001b[A\u001b[A\n",
      "\n",
      " 93%|█████████▎| 273/292 [01:12<00:04,  3.80it/s]\u001b[A\u001b[A\n",
      "\n",
      " 94%|█████████▍| 274/292 [01:12<00:04,  3.80it/s]\u001b[A\u001b[A\n",
      "\n",
      " 94%|█████████▍| 275/292 [01:12<00:04,  3.78it/s]\u001b[A\u001b[A\n",
      "\n",
      " 95%|█████████▍| 276/292 [01:12<00:04,  3.78it/s]\u001b[A\u001b[A\n",
      "\n",
      " 95%|█████████▍| 277/292 [01:13<00:03,  3.78it/s]\u001b[A\u001b[A\n",
      "\n",
      " 95%|█████████▌| 278/292 [01:13<00:03,  3.75it/s]\u001b[A\u001b[A\n",
      "\n",
      " 96%|█████████▌| 279/292 [01:13<00:03,  3.74it/s]\u001b[A\u001b[A\n",
      "\n",
      " 96%|█████████▌| 280/292 [01:13<00:03,  3.76it/s]\u001b[A\u001b[A\n",
      "\n",
      " 96%|█████████▌| 281/292 [01:14<00:02,  3.81it/s]\u001b[A\u001b[A\n",
      "\n",
      " 97%|█████████▋| 282/292 [01:14<00:02,  3.82it/s]\u001b[A\u001b[A\n",
      "\n",
      " 97%|█████████▋| 283/292 [01:14<00:02,  3.79it/s]\u001b[A\u001b[A\n",
      "\n",
      " 97%|█████████▋| 284/292 [01:14<00:02,  3.77it/s]\u001b[A\u001b[A\n",
      "\n",
      " 98%|█████████▊| 285/292 [01:15<00:01,  3.82it/s]\u001b[A\u001b[A\n",
      "\n",
      " 98%|█████████▊| 286/292 [01:15<00:01,  3.84it/s]\u001b[A\u001b[A\n",
      "\n",
      " 98%|█████████▊| 287/292 [01:15<00:01,  3.85it/s]\u001b[A\u001b[A\n",
      "\n",
      " 99%|█████████▊| 288/292 [01:15<00:01,  3.84it/s]\u001b[A\u001b[A\n",
      "\n",
      " 99%|█████████▉| 289/292 [01:16<00:00,  3.83it/s]\u001b[A\u001b[A\n",
      "\n",
      " 99%|█████████▉| 290/292 [01:16<00:00,  3.83it/s]\u001b[A\u001b[A\n",
      "\n",
      "100%|█████████▉| 291/292 [01:16<00:00,  3.79it/s]\u001b[A\u001b[A\n",
      "\n",
      "\u001b[A\u001b[A"
     ]
    },
    {
     "data": {
      "text/plain": [
       "<radial.batchflow.batchflow.pipeline.Pipeline at 0x7fc4a0eaac88>"
      ]
     },
     "execution_count": 112,
     "metadata": {},
     "output_type": "execute_result"
    }
   ],
   "source": [
    "# for i in tqdm(range(500)):\n",
    "train_pipeline.run(16, shuffle=True, n_epochs=15, drop_last=False, bar=True)\n",
    "test_pipeline.run(16, shuffle=True, n_epochs=15, drop_last=False, bar=True)"
   ]
  },
  {
   "cell_type": "code",
   "execution_count": 113,
   "metadata": {},
   "outputs": [
    {
     "data": {
      "text/plain": [
       "[<matplotlib.lines.Line2D at 0x7fc48240de48>]"
      ]
     },
     "execution_count": 113,
     "metadata": {},
     "output_type": "execute_result"
    },
    {
     "data": {
      "image/png": "[encoded data removed]",
      "text/plain": [
       "<Figure size 432x288 with 1 Axes>"
      ]
     },
     "metadata": {},
     "output_type": "display_data"
    }
   ],
   "source": [
    "plt.plot((np.array(train_pipeline.get_variable('loss_history'))))"
   ]
  },
  {
   "cell_type": "code",
   "execution_count": 72,
   "metadata": {},
   "outputs": [
    {
     "data": {
      "text/plain": [
       "[<matplotlib.lines.Line2D at 0x7fc4c00bcfd0>]"
      ]
     },
     "execution_count": 72,
     "metadata": {},
     "output_type": "execute_result"
    },
    {
     "data": {
      "image/png": "[encoded data removed]",
      "text/plain": [
       "<Figure size 432x288 with 1 Axes>"
      ]
     },
     "metadata": {},
     "output_type": "display_data"
    }
   ],
   "source": [
    "plt.plot((np.array(train_pipeline.get_variable('loss_history')))[-100:])"
   ]
  },
  {
   "cell_type": "code",
   "execution_count": 114,
   "metadata": {},
   "outputs": [
    {
     "data": {
      "text/plain": [
       "[<matplotlib.lines.Line2D at 0x7fc4824017f0>]"
      ]
     },
     "execution_count": 114,
     "metadata": {},
     "output_type": "execute_result"
    },
    {
     "data": {
      "image/png": "[encoded data removed]",
      "text/plain": [
       "<Figure size 432x288 with 1 Axes>"
      ]
     },
     "metadata": {},
     "output_type": "display_data"
    }
   ],
   "source": [
    "plt.plot((np.array(test_pipeline.get_variable('loss_history'))))"
   ]
  },
  {
   "cell_type": "code",
   "execution_count": 115,
   "metadata": {},
   "outputs": [
    {
     "data": {
      "text/plain": [
       "292"
      ]
     },
     "execution_count": 115,
     "metadata": {},
     "output_type": "execute_result"
    }
   ],
   "source": [
    "len(train_pipeline.get_variable('loss_history'))"
   ]
  },
  {
   "cell_type": "code",
   "execution_count": null,
   "metadata": {},
   "outputs": [],
   "source": []
  },
  {
   "cell_type": "code",
   "execution_count": 116,
   "metadata": {},
   "outputs": [],
   "source": [
    "predict_pipeline = (Pipeline()\n",
    "                        .denormalize(src='predictions', dst='denorm_predictions',\n",
    "                                               src_range='derivative_range')\n",
    "                   )"
   ]
  },
  {
   "cell_type": "code",
   "execution_count": 117,
   "metadata": {},
   "outputs": [],
   "source": [
    "predict_pipeline = test_pipeline + predict_pipeline"
   ]
  },
  {
   "cell_type": "code",
   "execution_count": 118,
   "metadata": {},
   "outputs": [
    {
     "name": "stderr",
     "output_type": "stream",
     "text": [
      "\n",
      "\n",
      "  0%|          | 0/9223372036854775807 [00:00<?, ?it/s]\u001b[A\u001b[A"
     ]
    }
   ],
   "source": [
    "btch = predict_pipeline.next_batch(len(test_set.indices), shuffle=True, n_epochs=None, drop_last=False, bar=True)"
   ]
  },
  {
   "cell_type": "code",
   "execution_count": 119,
   "metadata": {},
   "outputs": [],
   "source": [
    "# btch.denorm_predictions"
   ]
  },
  {
   "cell_type": "code",
   "execution_count": 120,
   "metadata": {},
   "outputs": [],
   "source": [
    "metrics = np.abs(btch.denorm_predictions.reshape(-1) - btch.log_target.reshape(-1)) / btch.log_target.reshape(-1)\n",
    "metrics = metrics.astype(np.float32)"
   ]
  },
  {
   "cell_type": "code",
   "execution_count": 121,
   "metadata": {},
   "outputs": [
    {
     "data": {
      "text/plain": [
       "0.3865308"
      ]
     },
     "execution_count": 121,
     "metadata": {},
     "output_type": "execute_result"
    }
   ],
   "source": [
    "np.mean(metrics)"
   ]
  },
  {
   "cell_type": "code",
   "execution_count": 122,
   "metadata": {},
   "outputs": [
    {
     "data": {
      "text/plain": [
       "0.6752103567123413"
      ]
     },
     "execution_count": 122,
     "metadata": {},
     "output_type": "execute_result"
    }
   ],
   "source": [
    "np.percentile(metrics, q=90)"
   ]
  },
  {
   "cell_type": "code",
   "execution_count": 123,
   "metadata": {},
   "outputs": [
    {
     "data": {
      "text/plain": [
       "(array([15., 43., 63., 54., 42., 30., 20., 20.,  6.,  8.]),\n",
       " array([0.0016857 , 0.09154868, 0.18141165, 0.27127463, 0.36113761,\n",
       "        0.45100058, 0.54086356, 0.63072653, 0.72058951, 0.81045249,\n",
       "        0.90031546]),\n",
       " <a list of 10 Patch objects>)"
      ]
     },
     "execution_count": 123,
     "metadata": {},
     "output_type": "execute_result"
    },
    {
     "data": {
      "image/png": "[encoded data removed]",
      "text/plain": [
       "<Figure size 432x288 with 1 Axes>"
      ]
     },
     "metadata": {},
     "output_type": "display_data"
    }
   ],
   "source": [
    "plt.hist(np.sort(metrics)[:-10])"
   ]
  },
  {
   "cell_type": "code",
   "execution_count": 124,
   "metadata": {},
   "outputs": [
    {
     "data": {
      "text/plain": [
       "(array([1., 0., 4., 1., 2., 0., 0., 0., 0., 2.]),\n",
       " array([1.02271521, 1.10736458, 1.19201396, 1.27666333, 1.3613127 ,\n",
       "        1.44596207, 1.53061144, 1.61526082, 1.69991019, 1.78455956,\n",
       "        1.86920893]),\n",
       " <a list of 10 Patch objects>)"
      ]
     },
     "execution_count": 124,
     "metadata": {},
     "output_type": "execute_result"
    },
    {
     "data": {
      "image/png": "[encoded data removed]",
      "text/plain": [
       "<Figure size 432x288 with 1 Axes>"
      ]
     },
     "metadata": {},
     "output_type": "display_data"
    }
   ],
   "source": [
    "plt.hist(np.sort(metrics)[-10:])"
   ]
  },
  {
   "cell_type": "code",
   "execution_count": 125,
   "metadata": {},
   "outputs": [
    {
     "data": {
      "text/plain": [
       "44.37299035369775"
      ]
     },
     "execution_count": 125,
     "metadata": {},
     "output_type": "execute_result"
    }
   ],
   "source": [
    "np.mean(metrics < 0.3)*100"
   ]
  },
  {
   "cell_type": "markdown",
   "metadata": {},
   "source": [
    "Well that is not quite stable"
   ]
  },
  {
   "cell_type": "code",
   "execution_count": 93,
   "metadata": {},
   "outputs": [
    {
     "data": {
      "text/plain": [
       "69.45337620578779"
      ]
     },
     "execution_count": 93,
     "metadata": {},
     "output_type": "execute_result"
    }
   ],
   "source": [
    "np.mean(metrics < 0.3)*100"
   ]
  },
  {
   "cell_type": "code",
   "execution_count": 49,
   "metadata": {},
   "outputs": [
    {
     "data": {
      "text/plain": [
       "90.9967845659164"
      ]
     },
     "execution_count": 49,
     "metadata": {},
     "output_type": "execute_result"
    }
   ],
   "source": [
    "np.mean(metrics < 0.3)*100"
   ]
  },
  {
   "cell_type": "markdown",
   "metadata": {},
   "source": [
    "    'body': dict(layout='cpna cpna cpna cpna cpna cpna cpna', filters=[16, 16, 16, 32, 64, 128, 128],\n",
    "                 strides=1, pool_strides=2, kernel_size=[22, 22, 11, 9, 7, 3, 3], dilation_rate=[2, 2, 1, 1, 1, 1, 1]),\n"
   ]
  },
  {
   "cell_type": "code",
   "execution_count": 41,
   "metadata": {},
   "outputs": [
    {
     "data": {
      "text/plain": [
       "81.9935691318328"
      ]
     },
     "execution_count": 41,
     "metadata": {},
     "output_type": "execute_result"
    }
   ],
   "source": [
    "np.mean(metrics < 0.3)*100"
   ]
  },
  {
   "cell_type": "markdown",
   "metadata": {},
   "source": [
    "best result so far 53.37 large_kernel_size, dilation_rate=1:"
   ]
  },
  {
   "cell_type": "code",
   "execution_count": 101,
   "metadata": {},
   "outputs": [
    {
     "data": {
      "text/plain": [
       "53.37620578778135"
      ]
     },
     "execution_count": 101,
     "metadata": {},
     "output_type": "execute_result"
    }
   ],
   "source": [
    "np.mean(metrics < 0.3)*100\n"
   ]
  },
  {
   "cell_type": "code",
   "execution_count": 105,
   "metadata": {},
   "outputs": [
    {
     "data": {
      "text/plain": [
       "33.762057877813504"
      ]
     },
     "execution_count": 105,
     "metadata": {},
     "output_type": "execute_result"
    }
   ],
   "source": [
    "np.mean(metrics < 0.3)*100\n"
   ]
  },
  {
   "cell_type": "code",
   "execution_count": 77,
   "metadata": {},
   "outputs": [],
   "source": [
    "ix = np.argsort(metrics)"
   ]
  },
  {
   "cell_type": "code",
   "execution_count": 78,
   "metadata": {},
   "outputs": [
    {
     "data": {
      "text/plain": [
       "array([1.44679303e-04, 1.49443396e-04, 3.18469305e-04, 3.56872188e-04,\n",
       "       3.73706687e-04, 3.91858543e-04, 4.85584314e-04, 5.31797821e-04,\n",
       "       7.35672249e-04, 1.02308206e-03, 1.02318986e-03, 1.02630514e-03,\n",
       "       1.08922750e-03, 1.25436357e-03, 1.36602402e-03, 1.42794068e-03,\n",
       "       1.55274989e-03, 1.64531800e-03, 1.78255769e-03, 1.79392297e-03,\n",
       "       1.96085195e-03, 2.00646394e-03, 2.04662560e-03, 2.11637118e-03,\n",
       "       2.18123710e-03, 2.31928937e-03, 2.38665030e-03, 2.52047600e-03,\n",
       "       2.52212561e-03, 2.57688412e-03, 2.79134349e-03, 2.89372751e-03,\n",
       "       2.99748778e-03, 3.58217652e-03, 3.77475657e-03, 3.82977445e-03,\n",
       "       3.83719895e-03, 3.87215614e-03, 4.08074819e-03, 4.12893062e-03,\n",
       "       4.38760687e-03, 4.60888166e-03, 4.63429280e-03, 4.93269367e-03,\n",
       "       5.00543742e-03, 5.05829602e-03, 5.19590080e-03, 5.30359941e-03,\n",
       "       5.45764109e-03, 5.52074611e-03, 5.67780854e-03, 5.84768457e-03,\n",
       "       5.86629659e-03, 6.05823798e-03, 6.46197656e-03, 6.67932909e-03,\n",
       "       6.88067265e-03, 6.93493476e-03, 7.13289157e-03, 7.31478259e-03,\n",
       "       7.35599920e-03, 7.38060987e-03, 7.59028457e-03, 7.67126167e-03,\n",
       "       7.82696530e-03, 7.91848823e-03, 7.98726920e-03, 7.98816700e-03,\n",
       "       8.03671405e-03, 8.38224776e-03, 8.43033195e-03, 8.48391932e-03,\n",
       "       8.53477325e-03, 8.60163849e-03, 8.83451197e-03, 8.87676328e-03,\n",
       "       8.96259211e-03, 8.98679812e-03, 9.33821220e-03, 9.36877541e-03,\n",
       "       9.37718060e-03, 9.55128670e-03, 9.57395416e-03, 9.80564393e-03,\n",
       "       9.86018311e-03, 9.87667590e-03, 1.02461576e-02, 1.03468932e-02,\n",
       "       1.06055960e-02, 1.06897028e-02, 1.08449599e-02, 1.09949848e-02,\n",
       "       1.11140376e-02, 1.14540514e-02, 1.15207136e-02, 1.15585718e-02,\n",
       "       1.15627414e-02, 1.18566761e-02, 1.19129615e-02, 1.20512005e-02,\n",
       "       1.20574459e-02, 1.21254325e-02, 1.22291166e-02, 1.22796716e-02,\n",
       "       1.24162333e-02, 1.27787935e-02, 1.32230725e-02, 1.33065684e-02,\n",
       "       1.33337798e-02, 1.34827690e-02, 1.35193542e-02, 1.35967787e-02,\n",
       "       1.37171745e-02, 1.37237431e-02, 1.37478346e-02, 1.38176316e-02,\n",
       "       1.40201338e-02, 1.41005516e-02, 1.42409252e-02, 1.44070648e-02,\n",
       "       1.46875717e-02, 1.48279071e-02, 1.48362359e-02, 1.49937114e-02,\n",
       "       1.50606781e-02, 1.51577741e-02, 1.52941877e-02, 1.53319724e-02,\n",
       "       1.57481190e-02, 1.59502383e-02, 1.59975961e-02, 1.63893905e-02,\n",
       "       1.64536256e-02, 1.69158578e-02, 1.71971098e-02, 1.73001047e-02,\n",
       "       1.73451994e-02, 1.74356904e-02, 1.76169351e-02, 1.77147463e-02,\n",
       "       1.79647841e-02, 1.81333032e-02, 1.82296634e-02, 1.84046067e-02,\n",
       "       1.84082650e-02, 1.84335578e-02, 1.85642540e-02, 1.87087487e-02,\n",
       "       1.92489866e-02, 1.94467083e-02, 1.94486603e-02, 1.96130536e-02,\n",
       "       1.96639225e-02, 2.00446770e-02, 2.00925712e-02, 2.03285180e-02,\n",
       "       2.04486288e-02, 2.05763001e-02, 2.08240915e-02, 2.08442360e-02,\n",
       "       2.10255180e-02, 2.11890787e-02, 2.13433877e-02, 2.13652197e-02,\n",
       "       2.14239024e-02, 2.19349507e-02, 2.19716523e-02, 2.21596733e-02,\n",
       "       2.22301334e-02, 2.25530788e-02, 2.26210337e-02, 2.26239692e-02,\n",
       "       2.28932016e-02, 2.29323599e-02, 2.29502954e-02, 2.30414830e-02,\n",
       "       2.31271479e-02, 2.33763810e-02, 2.36003101e-02, 2.36996301e-02,\n",
       "       2.37760562e-02, 2.37807650e-02, 2.40133163e-02, 2.40154210e-02,\n",
       "       2.42499840e-02, 2.42914185e-02, 2.43512131e-02, 2.44081207e-02,\n",
       "       2.44334619e-02, 2.45862696e-02, 2.46613938e-02, 2.46687364e-02,\n",
       "       2.48841438e-02, 2.49866005e-02, 2.56876461e-02, 2.59960480e-02,\n",
       "       2.62608826e-02, 2.63158977e-02, 2.69603655e-02, 2.70537473e-02,\n",
       "       2.76001766e-02, 2.80000158e-02, 2.81870198e-02, 2.82449480e-02,\n",
       "       2.83002406e-02, 2.90014390e-02, 2.90933233e-02, 2.99212206e-02,\n",
       "       3.03600747e-02, 3.06880884e-02, 3.09455190e-02, 3.13607380e-02,\n",
       "       3.14974263e-02, 3.17982547e-02, 3.23091894e-02, 3.23999040e-02,\n",
       "       3.26103568e-02, 3.27114165e-02, 3.27924564e-02, 3.27999815e-02,\n",
       "       3.36372219e-02, 3.39194052e-02, 3.39820124e-02, 3.42421383e-02,\n",
       "       3.42812538e-02, 3.49912569e-02, 3.50682251e-02, 3.52189168e-02,\n",
       "       3.52661423e-02, 3.53604369e-02, 3.59725468e-02, 3.60162817e-02,\n",
       "       3.70454043e-02, 3.81483249e-02, 3.83267887e-02, 3.84511352e-02,\n",
       "       3.89040783e-02, 4.01483439e-02, 4.10691723e-02, 4.12390418e-02,\n",
       "       4.22044732e-02, 4.23083454e-02, 4.23098542e-02, 4.29730006e-02,\n",
       "       4.30601165e-02, 4.33111340e-02, 4.33751717e-02, 4.47450802e-02,\n",
       "       4.51445766e-02, 4.57037240e-02, 4.73976806e-02, 4.74872813e-02,\n",
       "       4.88430187e-02, 5.05985916e-02, 5.08329943e-02, 5.12127765e-02,\n",
       "       5.14008962e-02, 5.18239364e-02, 5.20165339e-02, 5.35565838e-02,\n",
       "       5.41289449e-02, 5.46953902e-02, 5.61320223e-02, 5.65609597e-02,\n",
       "       5.69603331e-02, 5.75381294e-02, 5.78568429e-02, 5.89192510e-02,\n",
       "       5.93113564e-02, 5.95960803e-02, 5.96389771e-02, 5.98412678e-02,\n",
       "       6.13312349e-02, 6.24029078e-02, 6.26645386e-02, 6.48622811e-02,\n",
       "       6.49125502e-02, 6.49953783e-02, 6.91865087e-02, 6.95508718e-02,\n",
       "       7.01031089e-02, 7.01229796e-02, 7.01851919e-02, 7.15233535e-02,\n",
       "       7.23667666e-02, 7.43196160e-02, 7.44599178e-02, 7.76910111e-02,\n",
       "       7.82280937e-02, 8.03501606e-02, 8.68577957e-02, 9.62033942e-02,\n",
       "       9.63606834e-02, 9.68664363e-02, 9.71229598e-02, 1.01000458e-01,\n",
       "       1.01037718e-01, 1.05791487e-01, 1.09729595e-01, 1.09770767e-01,\n",
       "       1.14951253e-01, 1.28271997e-01, 1.31388947e-01, 1.36028096e-01,\n",
       "       1.42403021e-01, 1.42448008e-01, 1.67209476e-01, 1.83079466e-01,\n",
       "       1.89515620e-01, 1.96836635e-01, 2.43095502e-01], dtype=float32)"
      ]
     },
     "execution_count": 78,
     "metadata": {},
     "output_type": "execute_result"
    }
   ],
   "source": [
    "metrics[ix]"
   ]
  },
  {
   "cell_type": "markdown",
   "metadata": {},
   "source": [
    "Let's have a look at the worst predictions"
   ]
  },
  {
   "cell_type": "code",
   "execution_count": 79,
   "metadata": {},
   "outputs": [
    {
     "name": "stdout",
     "output_type": "stream",
     "text": [
      "target=[0.8488562], prediction=[0.9319013]\n"
     ]
    },
    {
     "data": {
      "image/png": "[encoded data removed]",
      "text/plain": [
       "<Figure size 432x288 with 1 Axes>"
      ]
     },
     "metadata": {},
     "output_type": "display_data"
    },
    {
     "name": "stdout",
     "output_type": "stream",
     "text": [
      "target=[0.7917688], prediction=[0.8729371]\n"
     ]
    },
    {
     "data": {
      "image/png": "[encoded data removed]",
      "text/plain": [
       "<Figure size 432x288 with 1 Axes>"
      ]
     },
     "metadata": {},
     "output_type": "display_data"
    },
    {
     "name": "stdout",
     "output_type": "stream",
     "text": [
      "target=[0.6266361], prediction=[0.58833003]\n"
     ]
    },
    {
     "data": {
      "image/png": "[encoded data removed]",
      "text/plain": [
       "<Figure size 432x288 with 1 Axes>"
      ]
     },
     "metadata": {},
     "output_type": "display_data"
    },
    {
     "name": "stdout",
     "output_type": "stream",
     "text": [
      "target=[0.67855746], prediction=[0.7088903]\n"
     ]
    },
    {
     "data": {
      "image/png": "[encoded data removed]",
      "text/plain": [
       "<Figure size 432x288 with 1 Axes>"
      ]
     },
     "metadata": {},
     "output_type": "display_data"
    },
    {
     "name": "stdout",
     "output_type": "stream",
     "text": [
      "target=[0.48222452], prediction=[0.5679348]\n"
     ]
    },
    {
     "data": {
      "image/png": "[encoded data removed]",
      "text/plain": [
       "<Figure size 432x288 with 1 Axes>"
      ]
     },
     "metadata": {},
     "output_type": "display_data"
    },
    {
     "name": "stdout",
     "output_type": "stream",
     "text": [
      "target=[0.5294573], prediction=[0.6078842]\n"
     ]
    },
    {
     "data": {
      "image/png": "[encoded data removed]",
      "text/plain": [
       "<Figure size 432x288 with 1 Axes>"
      ]
     },
     "metadata": {},
     "output_type": "display_data"
    },
    {
     "name": "stdout",
     "output_type": "stream",
     "text": [
      "target=[0.6468173], prediction=[0.59895486]\n"
     ]
    },
    {
     "data": {
      "image/png": "[encoded data removed]",
      "text/plain": [
       "<Figure size 432x288 with 1 Axes>"
      ]
     },
     "metadata": {},
     "output_type": "display_data"
    },
    {
     "name": "stdout",
     "output_type": "stream",
     "text": [
      "target=[0.6283737], prediction=[0.65578026]\n"
     ]
    },
    {
     "data": {
      "image/png": "[encoded data removed]",
      "text/plain": [
       "<Figure size 432x288 with 1 Axes>"
      ]
     },
     "metadata": {},
     "output_type": "display_data"
    },
    {
     "name": "stdout",
     "output_type": "stream",
     "text": [
      "target=[0.9199043], prediction=[0.8371297]\n"
     ]
    },
    {
     "data": {
      "image/png": "[encoded data removed]",
      "text/plain": [
       "<Figure size 432x288 with 1 Axes>"
      ]
     },
     "metadata": {},
     "output_type": "display_data"
    },
    {
     "name": "stdout",
     "output_type": "stream",
     "text": [
      "target=[0.42760912], prediction=[0.5165932]\n"
     ]
    },
    {
     "data": {
      "image/png": "[encoded data removed]",
      "text/plain": [
       "<Figure size 432x288 with 1 Axes>"
      ]
     },
     "metadata": {},
     "output_type": "display_data"
    },
    {
     "name": "stdout",
     "output_type": "stream",
     "text": [
      "target=[0.97731096], prediction=[0.922285]\n"
     ]
    },
    {
     "data": {
      "image/png": "[encoded data removed]",
      "text/plain": [
       "<Figure size 432x288 with 1 Axes>"
      ]
     },
     "metadata": {},
     "output_type": "display_data"
    },
    {
     "name": "stdout",
     "output_type": "stream",
     "text": [
      "target=[0.33904198], prediction=[0.40476224]\n"
     ]
    },
    {
     "data": {
      "image/png": "[encoded data removed]",
      "text/plain": [
       "<Figure size 432x288 with 1 Axes>"
      ]
     },
     "metadata": {},
     "output_type": "display_data"
    },
    {
     "name": "stdout",
     "output_type": "stream",
     "text": [
      "target=[0.3628638], prediction=[0.43202093]\n"
     ]
    },
    {
     "data": {
      "image/png": "[encoded data removed]",
      "text/plain": [
       "<Figure size 432x288 with 1 Axes>"
      ]
     },
     "metadata": {},
     "output_type": "display_data"
    },
    {
     "name": "stdout",
     "output_type": "stream",
     "text": [
      "target=[0.69086295], prediction=[0.62541515]\n"
     ]
    },
    {
     "data": {
      "image/png": "[encoded data removed]",
      "text/plain": [
       "<Figure size 432x288 with 1 Axes>"
      ]
     },
     "metadata": {},
     "output_type": "display_data"
    },
    {
     "name": "stdout",
     "output_type": "stream",
     "text": [
      "target=[1.0010998], prediction=[1.0508947]\n"
     ]
    },
    {
     "data": {
      "image/png": "[encoded data removed]",
      "text/plain": [
       "<Figure size 432x288 with 1 Axes>"
      ]
     },
     "metadata": {},
     "output_type": "display_data"
    },
    {
     "name": "stdout",
     "output_type": "stream",
     "text": [
      "target=[0.62756807], prediction=[0.711203]\n"
     ]
    },
    {
     "data": {
      "image/png": "[encoded data removed]",
      "text/plain": [
       "<Figure size 432x288 with 1 Axes>"
      ]
     },
     "metadata": {},
     "output_type": "display_data"
    },
    {
     "name": "stderr",
     "output_type": "stream",
     "text": [
      "  0%|          | 1/9223372036854775807 [35:24<5443513892707109728:42:40, 2124.67s/it]\n",
      "\n",
      "  0%|          | 1/9223372036854775807 [33:20<5126202562221820841:31:44, 2000.82s/it]\u001b[A"
     ]
    },
    {
     "name": "stdout",
     "output_type": "stream",
     "text": [
      "target=[0.5039754], prediction=[0.557402]\n"
     ]
    },
    {
     "data": {
      "image/png": "[encoded data removed]",
      "text/plain": [
       "<Figure size 432x288 with 1 Axes>"
      ]
     },
     "metadata": {},
     "output_type": "display_data"
    },
    {
     "name": "stdout",
     "output_type": "stream",
     "text": [
      "target=[0.7194286], prediction=[0.76545334]\n"
     ]
    },
    {
     "data": {
      "image/png": "[encoded data removed]",
      "text/plain": [
       "<Figure size 432x288 with 1 Axes>"
      ]
     },
     "metadata": {},
     "output_type": "display_data"
    },
    {
     "name": "stdout",
     "output_type": "stream",
     "text": [
      "target=[0.4117558], prediction=[0.36075094]\n"
     ]
    },
    {
     "data": {
      "image/png": "[encoded data removed]",
      "text/plain": [
       "<Figure size 432x288 with 1 Axes>"
      ]
     },
     "metadata": {},
     "output_type": "display_data"
    }
   ],
   "source": [
    "for i in range(1, 20):\n",
    "    plt.imshow(btch.images[ix][-i, :, :, 0])\n",
    "    print('target={}, prediction={}'.format(btch.target[ix][-i], btch.predictions[ix][-i]))\n",
    "    plt.show()"
   ]
  },
  {
   "cell_type": "code",
   "execution_count": 43,
   "metadata": {},
   "outputs": [],
   "source": [
    "train_pipeline.save_model('image_model', 'image_model_true_81')"
   ]
  },
  {
   "cell_type": "markdown",
   "metadata": {},
   "source": [
    "# Train and test loss"
   ]
  },
  {
   "cell_type": "code",
   "execution_count": 62,
   "metadata": {},
   "outputs": [
    {
     "data": {
      "image/png": "[encoded data removed]",
      "text/plain": [
       "<Figure size 432x288 with 1 Axes>"
      ]
     },
     "metadata": {},
     "output_type": "display_data"
    },
    {
     "data": {
      "image/png": "[encoded data removed]",
      "text/plain": [
       "<Figure size 432x288 with 1 Axes>"
      ]
     },
     "metadata": {},
     "output_type": "display_data"
    }
   ],
   "source": [
    "plt.plot(train_pipeline.get_variable('loss_history')[-50:])\n",
    "plt.show()\n",
    "\n",
    "plt.plot(test_pipeline.get_variable('loss_history'))\n",
    "plt.show()"
   ]
  },
  {
   "cell_type": "markdown",
   "metadata": {},
   "source": [
    "looks pretty much the same as the non-image models"
   ]
  }
 ],
 "metadata": {
  "kernelspec": {
   "display_name": "Python 3",
   "language": "python",
   "name": "python3"
  },
  "language_info": {
   "codemirror_mode": {
    "name": "ipython",
    "version": 3
   },
   "file_extension": ".py",
   "mimetype": "text/x-python",
   "name": "python",
   "nbconvert_exporter": "python",
   "pygments_lexer": "ipython3",
   "version": "3.5.2"
  }
 },
 "nbformat": 4,
 "nbformat_minor": 2
}
