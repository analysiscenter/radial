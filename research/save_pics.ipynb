{
 "cells": [
  {
   "cell_type": "code",
   "execution_count": 1,
   "metadata": {},
   "outputs": [],
   "source": [
    "import sys\n",
    "sys.path.append('..')\n",
    "\n",
    "import numpy as np\n",
    "import pandas as pd\n",
    "import matplotlib.pyplot as plt\n",
    "from tqdm import tqdm_notebook as tqdm\n",
    "\n",
    "from radial.batchflow import Dataset, FilesIndex, Pipeline, action, inbatch_parallel, B, V, C\n",
    "import radial.batchflow as ds\n",
    "from radial.batchflow.models.tf import TFModel, VGG7\n",
    "from radial import RadialBatch"
   ]
  },
  {
   "cell_type": "code",
   "execution_count": 2,
   "metadata": {},
   "outputs": [],
   "source": [
    "train_index = FilesIndex(path='../data/reconsidered/train_npz/*.npz', no_ext=True)\n",
    "test_index = FilesIndex(path='../data/reconsidered/test_npz/*.npz', no_ext=True)\n",
    "\n",
    "train_set = Dataset(train_index, batch_class=RadialBatch)\n",
    "test_set = Dataset(test_index, batch_class=RadialBatch)"
   ]
  },
  {
   "cell_type": "code",
   "execution_count": 3,
   "metadata": {},
   "outputs": [],
   "source": [
    "norm_ppl = (Pipeline()\n",
    "            .load(fmt='npz', components=['time', 'derivative', 'rig_type', 'target'])\n",
    "            .drop_negative()\n",
    "            .normalize(src=['time', 'derivative'], dst=['norm_time', 'norm_derivative'],\\\n",
    "                       dst_range=[None, 'derivative_range'])\n",
    "            .normalize(src='target', dst='norm_target', src_range='derivative_range')\n",
    "           )\n",
    "\n",
    "draw_ppl = norm_ppl << train_set"
   ]
  },
  {
   "cell_type": "markdown",
   "metadata": {},
   "source": [
    "# save images"
   ]
  },
  {
   "cell_type": "code",
   "execution_count": null,
   "metadata": {},
   "outputs": [],
   "source": [
    "for i in range(len(train_set.indices)):\n",
    "    btch = draw_ppl.next_batch(1)\n",
    "    plt.figure(figsize=(15, 10))\n",
    "    plt.scatter(btch.norm_time[0], btch.norm_derivative[0], s=20)\n",
    "    plt.savefig('./train_images/'+ btch.indices[0] + '.png', dpi=100, bbox_inches='tight')"
   ]
  },
  {
   "cell_type": "code",
   "execution_count": 5,
   "metadata": {},
   "outputs": [],
   "source": [
    "plt.ioff()"
   ]
  },
  {
   "cell_type": "code",
   "execution_count": 6,
   "metadata": {},
   "outputs": [],
   "source": [
    "draw_ppl = norm_ppl << test_set\n",
    "\n",
    "for i in range(len(test_set.indices)):\n",
    "    btch = draw_ppl.next_batch(1)\n",
    "    plt.figure(figsize=(15, 10))\n",
    "    plt.scatter(btch.norm_time[0], btch.norm_derivative[0], s=20)\n",
    "    plt.savefig('./test_images/'+ btch.indices[0] + '.png', dpi=100, bbox_inches='tight')"
   ]
  },
  {
   "cell_type": "markdown",
   "metadata": {},
   "source": [
    "# save labels"
   ]
  },
  {
   "cell_type": "code",
   "execution_count": 20,
   "metadata": {},
   "outputs": [],
   "source": [
    "draw_ppl = norm_ppl << test_set\n",
    "draw_ppl.reset_iter()\n",
    "btch = draw_ppl.next_batch(len(test_set.indices))\n",
    "\n",
    "table1 = pd.DataFrame(np.vstack([btch.indices, btch.norm_target]).T, columns=['index', 'target'])\n",
    "# table.to_csv('test_targets.csv', index=False)"
   ]
  },
  {
   "cell_type": "code",
   "execution_count": 21,
   "metadata": {},
   "outputs": [],
   "source": [
    "draw_ppl = norm_ppl << train_set\n",
    "\n",
    "draw_ppl.reset_iter()\n",
    "btch = draw_ppl.next_batch(len(train_set.indices))\n",
    "\n",
    "table2 = pd.DataFrame(np.vstack([btch.indices, btch.norm_target]).T, columns=['index', 'target'])\n",
    "# table.to_csv('train_targets.csv', index=False)"
   ]
  },
  {
   "cell_type": "code",
   "execution_count": 23,
   "metadata": {},
   "outputs": [
    {
     "data": {
      "text/plain": [
       "90"
      ]
     },
     "execution_count": 23,
     "metadata": {},
     "output_type": "execute_result"
    }
   ],
   "source": [
    "len(table1)"
   ]
  },
  {
   "cell_type": "code",
   "execution_count": 32,
   "metadata": {},
   "outputs": [],
   "source": [
    "table3 = pd.concat([table1, table2], axis=0, join='outer')"
   ]
  },
  {
   "cell_type": "code",
   "execution_count": 33,
   "metadata": {},
   "outputs": [
    {
     "data": {
      "text/plain": [
       "401"
      ]
     },
     "execution_count": 33,
     "metadata": {},
     "output_type": "execute_result"
    }
   ],
   "source": [
    "len(table3)"
   ]
  },
  {
   "cell_type": "code",
   "execution_count": 39,
   "metadata": {},
   "outputs": [],
   "source": [
    "table3.to_csv('all_targets.csv', index=False)"
   ]
  },
  {
   "cell_type": "markdown",
   "metadata": {},
   "source": [
    "# convert to greyscale:"
   ]
  },
  {
   "cell_type": "code",
   "execution_count": 43,
   "metadata": {},
   "outputs": [],
   "source": [
    "import os\n",
    "from PIL import Image\n",
    "\n",
    "for item in os.listdir('test_images/'):\n",
    "    Image.open('test_images/' + item).convert('L').save('bw_test_images/' + item)"
   ]
  }
 ],
 "metadata": {
  "kernelspec": {
   "display_name": "Python 3",
   "language": "python",
   "name": "python3"
  },
  "language_info": {
   "codemirror_mode": {
    "name": "ipython",
    "version": 3
   },
   "file_extension": ".py",
   "mimetype": "text/x-python",
   "name": "python",
   "nbconvert_exporter": "python",
   "pygments_lexer": "ipython3",
   "version": "3.6.5"
  }
 },
 "nbformat": 4,
 "nbformat_minor": 2
}
