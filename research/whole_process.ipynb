{
 "cells": [
  {
   "cell_type": "markdown",
   "metadata": {},
   "source": [
    "# Whole process\n",
    "This notebook shows the process of finding point of radial mode."
   ]
  },
  {
   "cell_type": "code",
   "execution_count": 1,
   "metadata": {},
   "outputs": [],
   "source": [
    "import warnings\n",
    "warnings.filterwarnings(\"ignore\")"
   ]
  },
  {
   "cell_type": "code",
   "execution_count": 2,
   "metadata": {},
   "outputs": [],
   "source": [
    "import os\n",
    "import sys\n",
    "import xlrd\n",
    "\n",
    "import numpy as np\n",
    "import matplotlib.pyplot as plt\n",
    "\n",
    "from tqdm import tqdm\n",
    "from collections import defaultdict\n",
    "from sklearn.ensemble import IsolationForest\n",
    "\n",
    "sys.path.insert(0, os.path.join('..'))\n",
    "\n",
    "from radial import calculate_metrics\n",
    "\n",
    "from radial.batchflow import Dataset, FilesIndex, Pipeline, B\n",
    "from radial.batchflow.models.tf import ResNet\n",
    "\n",
    "from radial.core import RadialBatch\n",
    "from radial.core import calculate_results\n",
    "from radial.pipelines import create_preprocess_pipeline,\\\n",
    "                             create_train_pipeline,\\\n",
    "                             create_predict_pipeline\n",
    "from radial.preprocessing import drop_outliers, xls_to_npz\n",
    "\n",
    "plt.style.use('ggplot')\n",
    "%matplotlib inline"
   ]
  },
  {
   "cell_type": "markdown",
   "metadata": {},
   "source": [
    "## 1. Preprocessing.\n",
    "#### 1.1. Raw data to NPZ."
   ]
  },
  {
   "cell_type": "markdown",
   "metadata": {},
   "source": [
    "Files with train/test split"
   ]
  },
  {
   "cell_type": "code",
   "execution_count": 3,
   "metadata": {},
   "outputs": [
    {
     "name": "stdout",
     "output_type": "stream",
     "text": [
      "Done!\n"
     ]
    }
   ],
   "source": [
    "xls_to_npz(path_from=['./test_90.xlsx', './train_311.xlsx'],\n",
    "           path_to=['./data_splited/test', './data_splited/train'])"
   ]
  },
  {
   "cell_type": "markdown",
   "metadata": {},
   "source": [
    "The same files without splitting"
   ]
  },
  {
   "cell_type": "code",
   "execution_count": 4,
   "metadata": {},
   "outputs": [
    {
     "name": "stdout",
     "output_type": "stream",
     "text": [
      "Done!\n"
     ]
    }
   ],
   "source": [
    "xls_to_npz(path_from=['./test_90.xlsx', './train_311.xlsx'],\n",
    "           path_to=['./data'])"
   ]
  },
  {
   "cell_type": "markdown",
   "metadata": {},
   "source": [
    "## 1.2. Removing outliers from data using Isolation Forest."
   ]
  },
  {
   "cell_type": "markdown",
   "metadata": {},
   "source": [
    "Applying the method to data for training and testing"
   ]
  },
  {
   "cell_type": "code",
   "execution_count": 5,
   "metadata": {},
   "outputs": [
    {
     "name": "stderr",
     "output_type": "stream",
     "text": [
      "100%|██████████| 311/311 [00:37<00:00,  8.32it/s]\n",
      "100%|██████████| 90/90 [00:10<00:00,  8.36it/s]"
     ]
    },
    {
     "name": "stdout",
     "output_type": "stream",
     "text": [
      "Done!\n"
     ]
    },
    {
     "name": "stderr",
     "output_type": "stream",
     "text": [
      "\n"
     ]
    }
   ],
   "source": [
    "drop_outliers(path_from=['data_splited/train', 'data_splited/test'],\n",
    "              path_to=['data_splited/train_isol', 'data_splited/test_isol'], rewrite=True)"
   ]
  },
  {
   "cell_type": "markdown",
   "metadata": {},
   "source": [
    "## 2. Training process\n",
    "\n",
    "Config creation:"
   ]
  },
  {
   "cell_type": "code",
   "execution_count": 6,
   "metadata": {},
   "outputs": [],
   "source": [
    "N_SAMPLES = 100\n",
    "\n",
    "model_config = {\n",
    "    'inputs': dict(points=dict(shape=(N_SAMPLES, 2)),\n",
    "                   targets=dict(name='target', shape=1)),\n",
    "    'initial_block/inputs': 'points',\n",
    "    'head': dict(layout='f',\n",
    "                 units=1),\n",
    "    'body/num_blocks': [1, 1, 1],\n",
    "    'body/filters': [4, 8, 16],\n",
    "    'initial_block/filters': 4,\n",
    "    'loss': 'mse',\n",
    "    'optimizer': 'Adam'\n",
    "}"
   ]
  },
  {
   "cell_type": "markdown",
   "metadata": {},
   "source": [
    "Load the data and create Dataset objects."
   ]
  },
  {
   "cell_type": "code",
   "execution_count": 7,
   "metadata": {},
   "outputs": [],
   "source": [
    "ds_train = Dataset(FilesIndex(path=\"./data_splited/train_isol/*\"), batch_class=RadialBatch)\n",
    "ds_test = Dataset(FilesIndex(path=\"./data_splited/test_isol/*\"), batch_class=RadialBatch)"
   ]
  },
  {
   "cell_type": "markdown",
   "metadata": {},
   "source": [
    "Create two pipelines and run training process"
   ]
  },
  {
   "cell_type": "code",
   "execution_count": 8,
   "metadata": {},
   "outputs": [],
   "source": [
    "prep_pipeline = create_preprocess_pipeline(N_SAMPLES, np.random.random)\n",
    "train_pipeline = create_train_pipeline(ResNet, model_config, prep_pipeline) << ds_train"
   ]
  },
  {
   "cell_type": "code",
   "execution_count": 9,
   "metadata": {},
   "outputs": [
    {
     "name": "stderr",
     "output_type": "stream",
     "text": [
      "100%|██████████| 1800/1800 [04:22<00:00,  6.89it/s]\n"
     ]
    },
    {
     "data": {
      "text/plain": [
       "<radial.batchflow.batchflow.pipeline.Pipeline at 0x1198d9ef0>"
      ]
     },
     "execution_count": 9,
     "metadata": {},
     "output_type": "execute_result"
    }
   ],
   "source": [
    "train_pipeline.run(50, n_epochs=300, drop_last=True, shuffle=True, bar=True)"
   ]
  },
  {
   "cell_type": "markdown",
   "metadata": {},
   "source": [
    "## 3. Evaluation\n",
    "Firstly create a predict pipeline and run it"
   ]
  },
  {
   "cell_type": "code",
   "execution_count": 10,
   "metadata": {},
   "outputs": [],
   "source": [
    "test_pipeline = create_predict_pipeline(prep_pipeline, train_pipeline) << ds_test"
   ]
  },
  {
   "cell_type": "code",
   "execution_count": 11,
   "metadata": {},
   "outputs": [
    {
     "name": "stderr",
     "output_type": "stream",
     "text": [
      "100%|█████████▉| 899/900 [00:07<00:00, 127.57it/s]\n"
     ]
    },
    {
     "data": {
      "text/plain": [
       "<radial.batchflow.batchflow.pipeline.Pipeline at 0x1118b2240>"
      ]
     },
     "execution_count": 11,
     "metadata": {},
     "output_type": "execute_result"
    }
   ],
   "source": [
    "test_pipeline.run(1, n_epochs=10, drop_last=True, bar=True)"
   ]
  },
  {
   "cell_type": "markdown",
   "metadata": {},
   "source": [
    "Calculate statistics and plot the histogram of MAPE error."
   ]
  },
  {
   "cell_type": "code",
   "execution_count": 12,
   "metadata": {},
   "outputs": [],
   "source": [
    "results, _ = calculate_results(test_pipeline)"
   ]
  },
  {
   "cell_type": "code",
   "execution_count": 13,
   "metadata": {},
   "outputs": [],
   "source": [
    "true = []\n",
    "pred = []\n",
    "for key in results.keys():\n",
    "    results[key]['pred'] = np.mean(results[key]['pred'])\n",
    "    true.append(results[key]['true'][0])\n",
    "    pred.append(results[key]['pred'])"
   ]
  },
  {
   "cell_type": "code",
   "execution_count": 14,
   "metadata": {},
   "outputs": [
    {
     "name": "stdout",
     "output_type": "stream",
     "text": [
      "MAE: 0.178\n",
      "MAPE: 0.1133\n",
      "Percentage of error less than 30%: 93.33%\n"
     ]
    },
    {
     "data": {
      "image/png": "[encoded data removed]",
      "text/plain": [
       "<Figure size 576x432 with 1 Axes>"
      ]
     },
     "metadata": {
      "needs_background": "light"
     },
     "output_type": "display_data"
    }
   ],
   "source": [
    "calculate_metrics(np.array(true), np.array(pred), 50)"
   ]
  }
 ],
 "metadata": {
  "kernelspec": {
   "display_name": "Python 3",
   "language": "python",
   "name": "python3"
  },
  "language_info": {
   "codemirror_mode": {
    "name": "ipython",
    "version": 3
   },
   "file_extension": ".py",
   "mimetype": "text/x-python",
   "name": "python",
   "nbconvert_exporter": "python",
   "pygments_lexer": "ipython3",
   "version": "3.6.6"
  }
 },
 "nbformat": 4,
 "nbformat_minor": 2
}
