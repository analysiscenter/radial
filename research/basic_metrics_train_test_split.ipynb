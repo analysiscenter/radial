{
 "cells": [
  {
   "cell_type": "markdown",
   "metadata": {},
   "source": [
    "# Метрики на предсказаниях прошлого алгоритма"
   ]
  },
  {
   "cell_type": "code",
   "execution_count": 9,
   "metadata": {},
   "outputs": [],
   "source": [
    "import os\n",
    "import sys\n",
    "sys.path.insert(0, os.path.join('..'))\n",
    "\n",
    "import numpy as np\n",
    "import matplotlib.pyplot as plt\n",
    "from sklearn.metrics import mean_absolute_error as mae\n",
    "\n",
    "from radial.batchflow import FilesIndex\n",
    "%matplotlib inline\n",
    "plt.style.use('ggplot')"
   ]
  },
  {
   "cell_type": "code",
   "execution_count": 10,
   "metadata": {},
   "outputs": [],
   "source": [
    "ix_test = FilesIndex(path='./test_npz/*')\n",
    "\n",
    "z = []\n",
    "for i, name in enumerate(ix_test.indices):\n",
    "    test = dict(np.load('./test_npz/'+name))\n",
    "    z.append([test['target'], test['predictions']])\n",
    "test_target = np.array(z)[:,0]\n",
    "test_pred = np.array(z)[:,1]\n",
    "\n",
    "log_target = np.log10(np.array(z)[:,0])\n",
    "log_pred = np.log10(np.array(z)[:,1])\n",
    "\n",
    "def metrics(target, pred, bins=10):\n",
    "    print('MAE: {:.6}'.format(mae(target, pred)))\n",
    "    mape = np.abs(target-pred)/target\n",
    "    print('MAPE: {:.6}'.format(np.mean(mape)))\n",
    "    print('30th percentile:{:.6}'.format(np.percentile(mape, q=30)))\n",
    "    print('90th percentile:{:.6}'.format(np.percentile(mape, q=90)))\n",
    "    sort_mape = np.argsort(mape)\n",
    "    plt.hist(mape, bins=bins)\n",
    "    plt.title('MAPE hist')\n",
    "    print('Percentage of error more than 30% {:.3}'.format(np.sum(mape>0.3)/len(mape)))"
   ]
  },
  {
   "cell_type": "code",
   "execution_count": 11,
   "metadata": {},
   "outputs": [
    {
     "name": "stdout",
     "output_type": "stream",
     "text": [
      "MAE: 49.6132\n",
      "MAPE: 0.619261\n",
      "30th percentile:0.241389\n",
      "90th percentile:1.00388\n",
      "Percentage of error more than 30% 0.611\n"
     ]
    },
    {
     "data": {
      "image/png": "[encoded data removed]",
      "text/plain": [
       "<Figure size 432x288 with 1 Axes>"
      ]
     },
     "metadata": {},
     "output_type": "display_data"
    }
   ],
   "source": [
    "metrics(test_target, test_pred, 50)"
   ]
  },
  {
   "cell_type": "markdown",
   "metadata": {},
   "source": [
    "Данные в логарифмической шкале"
   ]
  },
  {
   "cell_type": "code",
   "execution_count": 12,
   "metadata": {},
   "outputs": [
    {
     "name": "stdout",
     "output_type": "stream",
     "text": [
      "MAE: 49.6132\n",
      "MAPE: 0.619261\n",
      "30th percentile:0.241389\n",
      "90th percentile:1.00388\n",
      "Percentage of error more than 30% 0.611\n"
     ]
    },
    {
     "data": {
      "image/png": "[encoded data removed]",
      "text/plain": [
       "<Figure size 432x288 with 1 Axes>"
      ]
     },
     "metadata": {},
     "output_type": "display_data"
    }
   ],
   "source": [
    "log_target = np.array(test_target)\n",
    "log_pred= np.array(test_pred)\n",
    "metrics(log_target, log_pred, 50)"
   ]
  },
  {
   "cell_type": "markdown",
   "metadata": {},
   "source": [
    "# Создание разбиения на train/test согласно разбиению данных для обучения прошлого алгоритма"
   ]
  },
  {
   "cell_type": "code",
   "execution_count": 304,
   "metadata": {},
   "outputs": [
    {
     "name": "stdout",
     "output_type": "stream",
     "text": [
      "1 2 3 4 5 6 7 8 9 10 11 12 13 14 15 16 17 18 19 20 21 22 23 24 25 26 27 28 29 30 31 32 33 34 35 36 37 38 39 40 41 42 43 44 45 46 47 48 49 50 51 52 53 54 55 56 57 58 59 60 61 62 63 64 65 66 67 68 69 70 71 72 73 74 75 76 77 78 79 80 81 82 83 84 85 86 87 88 89 90 "
     ]
    }
   ],
   "source": [
    "test_dataset = []\n",
    "test = ix_test.indices\n",
    "train = FilesIndex(path='./data/*').indices\n",
    "for i, name in enumerate(test):\n",
    "    t = dict(np.load('./test_npz/'+name))\n",
    "    for n in train:\n",
    "        s = dict(np.load('./data/'+n))\n",
    "        if t['target'] == s['target'] and len(t['time']) == len(s['time']):\n",
    "            test_dataset.append(n)\n",
    "            break\n",
    "    print(len(test_dataset),end=' ')"
   ]
  },
  {
   "cell_type": "code",
   "execution_count": 348,
   "metadata": {},
   "outputs": [],
   "source": [
    "for name in test_dataset:\n",
    "    os.rename('./data/'+name, './data/test/'+name)\n",
    "for train in os.listdir('./data/'):\n",
    "    if train[-4:] == '.npz':\n",
    "        os.rename('./data/'+train, './data/train/'+train)"
   ]
  }
 ],
 "metadata": {
  "kernelspec": {
   "display_name": "Python 3",
   "language": "python",
   "name": "python3"
  },
  "language_info": {
   "codemirror_mode": {
    "name": "ipython",
    "version": 3
   },
   "file_extension": ".py",
   "mimetype": "text/x-python",
   "name": "python",
   "nbconvert_exporter": "python",
   "pygments_lexer": "ipython3",
   "version": "3.6.6"
  }
 },
 "nbformat": 4,
 "nbformat_minor": 2
}
