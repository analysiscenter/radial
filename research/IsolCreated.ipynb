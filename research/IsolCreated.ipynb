{
 "cells": [
  {
   "cell_type": "code",
   "execution_count": 2,
   "metadata": {},
   "outputs": [],
   "source": [
    "import os\n",
    "\n",
    "import numpy as np\n",
    "import matplotlib.pyplot as plt\n",
    "\n",
    "from tqdm import tqdm\n",
    "from sklearn.ensemble import IsolationForest\n",
    "\n",
    "%matplotlib inline"
   ]
  },
  {
   "cell_type": "code",
   "execution_count": 26,
   "metadata": {},
   "outputs": [],
   "source": [
    "def load(name):\n",
    "    d = dict(np.load(name))\n",
    "    return d['time'], d['derivative'], d['target'], d['rig_type']\n",
    "\n",
    "def save_isol_res(data, pathto='isol', contam=0.1):\n",
    "    data_names = os.listdir(data)\n",
    "    if os.path.isdir(pathto):\n",
    "            raise FileExistsError(\"Directory with name `{}` already exists\".format(pathto))\n",
    "    else:\n",
    "        os.makedirs(pathto)\n",
    "    \n",
    "    for name in tqdm(data_names):\n",
    "        file_name = os.path.join(data, name)\n",
    "        time, derivative, target, rig_type = load(file_name)\n",
    "        X = np.array([derivative]).T\n",
    "        isol = IsolationForest(contamination=contam).fit(X)\n",
    "        pred = isol.predict(X)\n",
    "        np.savez(os.path.join(pathto, name), \n",
    "                 time = time[pred == 1],\n",
    "                 derivative = derivative[pred == 1],\n",
    "                 rig_type = rig_type,\n",
    "                 target = target\n",
    "        )"
   ]
  },
  {
   "cell_type": "code",
   "execution_count": 27,
   "metadata": {},
   "outputs": [
    {
     "name": "stderr",
     "output_type": "stream",
     "text": [
      "100%|██████████| 311/311 [00:52<00:00,  5.95it/s]\n"
     ]
    }
   ],
   "source": [
    "save_isol_res('data_splited/train', pathto='data_splited/train_isol')"
   ]
  },
  {
   "cell_type": "code",
   "execution_count": 28,
   "metadata": {},
   "outputs": [
    {
     "name": "stderr",
     "output_type": "stream",
     "text": [
      "100%|██████████| 90/90 [00:15<00:00,  5.66it/s]\n"
     ]
    }
   ],
   "source": [
    "save_isol_res('data_splited/test', pathto='data_splited/test_isol')"
   ]
  }
 ],
 "metadata": {
  "kernelspec": {
   "display_name": "Python 3",
   "language": "python",
   "name": "python3"
  },
  "language_info": {
   "codemirror_mode": {
    "name": "ipython",
    "version": 3
   },
   "file_extension": ".py",
   "mimetype": "text/x-python",
   "name": "python",
   "nbconvert_exporter": "python",
   "pygments_lexer": "ipython3",
   "version": "3.5.2"
  }
 },
 "nbformat": 4,
 "nbformat_minor": 2
}
