{
 "cells": [
  {
   "cell_type": "code",
   "execution_count": 1,
   "metadata": {},
   "outputs": [
    {
     "name": "stdout",
     "output_type": "stream",
     "text": [
      "Tue Dec 18 15:36:54 2018       \n",
      "+-----------------------------------------------------------------------------+\n",
      "| NVIDIA-SMI 410.78       Driver Version: 410.78       CUDA Version: 10.0     |\n",
      "|-------------------------------+----------------------+----------------------+\n",
      "| GPU  Name        Persistence-M| Bus-Id        Disp.A | Volatile Uncorr. ECC |\n",
      "| Fan  Temp  Perf  Pwr:Usage/Cap|         Memory-Usage | GPU-Util  Compute M. |\n",
      "|===============================+======================+======================|\n",
      "|   0  GeForce GTX 1080    Off  | 00000000:03:00.0 Off |                  N/A |\n",
      "| 22%   31C    P0    38W / 180W |      0MiB /  8119MiB |      0%      Default |\n",
      "+-------------------------------+----------------------+----------------------+\n",
      "|   1  GeForce GTX 1080    Off  | 00000000:04:00.0 Off |                  N/A |\n",
      "| 22%   32C    P0    39W / 180W |      0MiB /  8119MiB |      0%      Default |\n",
      "+-------------------------------+----------------------+----------------------+\n",
      "|   2  GeForce GTX 1080    Off  | 00000000:07:00.0 Off |                  N/A |\n",
      "| 22%   31C    P0    38W / 180W |      0MiB /  8119MiB |      0%      Default |\n",
      "+-------------------------------+----------------------+----------------------+\n",
      "|   3  GeForce GTX 1080    Off  | 00000000:08:00.0 Off |                  N/A |\n",
      "| 21%   30C    P0    39W / 180W |      0MiB /  8119MiB |      0%      Default |\n",
      "+-------------------------------+----------------------+----------------------+\n",
      "|   4  GeForce GTX 1080    Off  | 00000000:83:00.0 Off |                  N/A |\n",
      "| 21%   30C    P0    39W / 180W |      0MiB /  8119MiB |      0%      Default |\n",
      "+-------------------------------+----------------------+----------------------+\n",
      "|   5  GeForce GTX 1080    Off  | 00000000:84:00.0 Off |                  N/A |\n",
      "| 20%   31C    P0    39W / 180W |      0MiB /  8119MiB |      0%      Default |\n",
      "+-------------------------------+----------------------+----------------------+\n",
      "|   6  GeForce GTX 1080    Off  | 00000000:87:00.0 Off |                  N/A |\n",
      "| 18%   30C    P0    39W / 180W |      0MiB /  8119MiB |      0%      Default |\n",
      "+-------------------------------+----------------------+----------------------+\n",
      "|   7  GeForce GTX 1080    Off  | 00000000:88:00.0 Off |                  N/A |\n",
      "| 20%   32C    P0    39W / 180W |      0MiB /  8119MiB |      2%      Default |\n",
      "+-------------------------------+----------------------+----------------------+\n",
      "                                                                               \n",
      "+-----------------------------------------------------------------------------+\n",
      "| Processes:                                                       GPU Memory |\n",
      "|  GPU       PID   Type   Process name                             Usage      |\n",
      "|=============================================================================|\n",
      "|  No running processes found                                                 |\n",
      "+-----------------------------------------------------------------------------+\n"
     ]
    }
   ],
   "source": [
    "!nvidia-smi"
   ]
  },
  {
   "cell_type": "code",
   "execution_count": 2,
   "metadata": {},
   "outputs": [
    {
     "name": "stdout",
     "output_type": "stream",
     "text": [
      "env: CUDA_VISIBLE_DEVICES=0\n"
     ]
    }
   ],
   "source": [
    "%env CUDA_VISIBLE_DEVICES=0"
   ]
  },
  {
   "cell_type": "code",
   "execution_count": 34,
   "metadata": {},
   "outputs": [],
   "source": [
    "import sys\n",
    "sys.path.append('..')\n",
    "\n",
    "import tensorflow as tf\n",
    "import numpy as np\n",
    "import matplotlib.pyplot as plt\n",
    "from tqdm import tqdm_notebook as tqdm\n",
    "\n",
    "from radial.batchflow import Dataset, FilesIndex, Pipeline, action, inbatch_parallel, B, V, C, ImagesBatch, DatasetIndex\n",
    "import radial.batchflow as ds\n",
    "from radial.batchflow.models.tf import TFModel, VGG7\n",
    "from radial import RadialBatch"
   ]
  },
  {
   "cell_type": "code",
   "execution_count": 4,
   "metadata": {},
   "outputs": [],
   "source": [
    "a = dict(a=1, b=0, c=-1)\n",
    "\n",
    "sorted_by_value = sorted(a.items(), key=lambda kv: kv[1])"
   ]
  },
  {
   "cell_type": "code",
   "execution_count": 5,
   "metadata": {},
   "outputs": [
    {
     "data": {
      "text/plain": [
       "[('c', -1), ('b', 0), ('a', 1)]"
      ]
     },
     "execution_count": 5,
     "metadata": {},
     "output_type": "execute_result"
    }
   ],
   "source": [
    "sorted_by_value"
   ]
  },
  {
   "cell_type": "code",
   "execution_count": 29,
   "metadata": {},
   "outputs": [],
   "source": [
    "import random"
   ]
  },
  {
   "cell_type": "code",
   "execution_count": 32,
   "metadata": {},
   "outputs": [
    {
     "data": {
      "text/plain": [
       "array([1, 0, 6, 4, 5, 7, 8, 3, 2])"
      ]
     },
     "execution_count": 32,
     "metadata": {},
     "output_type": "execute_result"
    }
   ],
   "source": [
    "a = np.arange(9)\n",
    "random.shuffle(a)\n",
    "a"
   ]
  },
  {
   "cell_type": "code",
   "execution_count": null,
   "metadata": {},
   "outputs": [],
   "source": []
  },
  {
   "cell_type": "code",
   "execution_count": 35,
   "metadata": {},
   "outputs": [],
   "source": [
    "batch = ImagesBatch(DatasetIndex(['1', '2']))"
   ]
  },
  {
   "cell_type": "code",
   "execution_count": 36,
   "metadata": {},
   "outputs": [
    {
     "data": {
      "text/plain": [
       "array(['1', '2'], dtype='<U1')"
      ]
     },
     "execution_count": 36,
     "metadata": {},
     "output_type": "execute_result"
    }
   ],
   "source": [
    "batch.indices"
   ]
  },
  {
   "cell_type": "code",
   "execution_count": 40,
   "metadata": {},
   "outputs": [
    {
     "data": {
      "text/plain": [
       "{'rr_189': 0.2, 'rr_298': 0.0, 'rr_356': 0.1}"
      ]
     },
     "execution_count": 40,
     "metadata": {},
     "output_type": "execute_result"
    }
   ],
   "source": [
    "loss_history_dict = {'rr_298':0.0, 'rr_356':0.1, 'rr_189':0.2}\n",
    "loss_history_dict"
   ]
  },
  {
   "cell_type": "code",
   "execution_count": null,
   "metadata": {},
   "outputs": [],
   "source": [
    "ixs = np.array(['1.3.6.1.4.1.14519.5.2.1.6279.6001.219618492426142913407827034169',\n",
    "                '1.3.6.1.4.1.14519.5.2.1.6279.6001.185154482385982570363528682299'])\n",
    "two_scans_dataset = Dataset(index=luna_index.create_subset(ixs), batch_class=CTImagesMaskedBatch)\n"
   ]
  },
  {
   "cell_type": "code",
   "execution_count": 60,
   "metadata": {},
   "outputs": [
    {
     "data": {
      "text/plain": [
       "[1, 3, 'f', 's']"
      ]
     },
     "execution_count": 60,
     "metadata": {},
     "output_type": "execute_result"
    }
   ],
   "source": [
    "[1, 3] + ['f', 's']"
   ]
  },
  {
   "cell_type": "code",
   "execution_count": 186,
   "metadata": {},
   "outputs": [
    {
     "data": {
      "text/plain": [
       "True"
      ]
     },
     "execution_count": 186,
     "metadata": {},
     "output_type": "execute_result"
    }
   ],
   "source": [
    "type(dict(zip(a, b))) == dict"
   ]
  },
  {
   "cell_type": "code",
   "execution_count": 250,
   "metadata": {},
   "outputs": [],
   "source": [
    "import random\n",
    "\n",
    "class TmpBatch(ImagesBatch):\n",
    "    @action\n",
    "    def hard_negative_sampling(self, statistics_name=None, fraction=0.5):\n",
    "        btch_size = len(self.indices)\n",
    "#         print('self index ', len(self.index))\n",
    "#         print('self indices ', len(self.indices))\n",
    "#         print('self ', self.index.get_fullpath(self.indices[0]))\n",
    "#         print(' global index ', len(self.pipeline.dataset.index))\n",
    "        if statistics_name and type(self.pipeline.get_variable(statistics_name)) == dict:\n",
    "            loss_history_dict = self.pipeline.get_variable(statistics_name)\n",
    "\n",
    "#             loss_history_dict = {'rr_298':0.0, 'rr_356':0.1, 'rr_189':0.2}\n",
    "            sorted_by_value = sorted(loss_history_dict.items(), key=lambda kv: kv[1])\n",
    "            hard_count = int(btch_size * fraction)\n",
    "            hard_indices = sorted_by_value[:hard_count]\n",
    "            new_index = list(self.indices[: btch_size - hard_count]) + [x[0] for x in hard_indices]\n",
    "            random.shuffle(new_index)\n",
    "            print('before {}, after {}'.format(self.indices, new_index))\n",
    "            batch = TmpBatch(index=self.pipeline.dataset.index.create_subset(new_index))\n",
    "#             print(batch.indices)\n",
    "#             print(batch.index.get_fullpath(batch.indices[0]))\n",
    "#             batch.load(fmt='image', components='images')\n",
    "#             batch.load(fmt='csv', src='all_targets.csv', components='target', index_col='index')\n",
    "\n",
    "#             batch = ImagesBatch(DatasetIndex())\n",
    "#             batch.load()\n",
    "\n",
    "#             batch.target = self.labels.reshape(-1)\n",
    "#             batch.images = self.cropped_images.reshape(-1, *new_size)\n",
    "\n",
    "            return batch\n",
    "        else:\n",
    "            return self\n",
    "\n",
    "\n",
    "    @action\n",
    "    def update_loss_history_dict(self, src='loss_history', dst='loss_history_dict'):\n",
    "        self.pipeline.update_variable(dst, dict(zip(self.index.indices, self.pipeline.get_variable(src))))\n",
    "        return self\n",
    "\n",
    "    @action\n",
    "    def expand_dims(self, components=None):\n",
    "        setattr(self, components, getattr(self, components).reshape((-1, 1)))\n",
    "        return self"
   ]
  },
  {
   "cell_type": "code",
   "execution_count": 251,
   "metadata": {},
   "outputs": [
    {
     "data": {
      "text/plain": [
       "{'a': 1, 'b': 2, 'c': 3}"
      ]
     },
     "execution_count": 251,
     "metadata": {},
     "output_type": "execute_result"
    }
   ],
   "source": [
    "a = ['a', 'b', 'c']\n",
    "b = [1, 2, 3]\n",
    "\n",
    "dict(zip(a, b))"
   ]
  },
  {
   "cell_type": "code",
   "execution_count": 252,
   "metadata": {},
   "outputs": [],
   "source": [
    "train_index = FilesIndex(path='bw_train_images/*.png', no_ext=True)\n",
    "test_index = FilesIndex(path='bw_test_images/*.png', no_ext=True)\n",
    "\n",
    "train_set = Dataset(train_index, batch_class=TmpBatch)\n",
    "test_set = Dataset(test_index, batch_class=TmpBatch)"
   ]
  },
  {
   "cell_type": "code",
   "execution_count": 253,
   "metadata": {},
   "outputs": [],
   "source": [
    "load_ppl = (Pipeline()\n",
    "                .init_variable('loss_history_dict', init_on_each_run=list)\n",
    "                .hard_negative_sampling(statistics_name='loss_history_dict')\n",
    "                .load(fmt='image', components='images')\n",
    "                .resize((300, 200))\n",
    "                .crop(origin='center', shape=(270, 180))\n",
    "                .to_array()\n",
    "                .multiply(1/255.)\n",
    "                .load(fmt='csv', src='all_targets.csv', components='target', index_col='index')\n",
    "                .expand_dims(components='target')\n",
    "           )"
   ]
  },
  {
   "cell_type": "code",
   "execution_count": 254,
   "metadata": {},
   "outputs": [],
   "source": [
    "img = (load_ppl << train_set).next_batch(2).images"
   ]
  },
  {
   "cell_type": "code",
   "execution_count": 255,
   "metadata": {},
   "outputs": [
    {
     "data": {
      "text/plain": [
       "(2, 180, 270, 1)"
      ]
     },
     "execution_count": 255,
     "metadata": {},
     "output_type": "execute_result"
    }
   ],
   "source": [
    "img.shape"
   ]
  },
  {
   "cell_type": "code",
   "execution_count": 256,
   "metadata": {},
   "outputs": [
    {
     "data": {
      "image/png": "[encoded data removed]",
      "text/plain": [
       "<Figure size 432x288 with 1 Axes>"
      ]
     },
     "metadata": {},
     "output_type": "display_data"
    }
   ],
   "source": [
    "plt.imshow(img[1, :, :, 0],  cmap=\"gray\")\n",
    "plt.show()"
   ]
  },
  {
   "cell_type": "code",
   "execution_count": 257,
   "metadata": {},
   "outputs": [],
   "source": [
    "model_config = {\n",
    "    'inputs': dict(images=dict(shape=B('image_shape')),\n",
    "                             labels={'shape': (1), 'name': 'targets'}),\n",
    "    'body': dict(layout='cpna cpna cpna cpna', filters=[16, 32, 64, 128],\n",
    "                 strides=2, pool_strides=2, kernel_size=3),\n",
    "    'head': dict(layout='Pf', units=1),\n",
    "    'initial_block/inputs': 'images',\n",
    "    'loss': 'mse',\n",
    "    \n",
    "    'optimizer': ('Momentum', {'use_nesterov': True, 'learning_rate': 0.01, 'momentum': 0.5})}"
   ]
  },
  {
   "cell_type": "code",
   "execution_count": 258,
   "metadata": {},
   "outputs": [],
   "source": [
    "# train_template = (Pipeline()\n",
    "#                   .init_variable('loss_history', init_on_each_run=list)\n",
    "#                   .init_model('dynamic', TFModel, 'image_model', config=model_config)\n",
    "#                   .to_array()\n",
    "#                   .train_model('image_model', fetches='loss',\n",
    "#                                feed_dict={'images': B('images'),\n",
    "#                                           'labels': B('target')}, \n",
    "#                                save_to=V('loss_history'), mode='a'))\n",
    "\n",
    "# train_pipeline = (load_ppl + train_template) << train_set\n",
    "\n",
    "# test_template = (Pipeline()\n",
    "#                   .init_variable('loss', init_on_each_run=0)\n",
    "#                   .init_variable('loss_history', init_on_each_run=list)\n",
    "#                   .import_model('image_model', train_pipeline)\n",
    "#                   .to_array()\n",
    "#                   .train_model('image_model', fetches=['loss', 'predictions'],\n",
    "#                                feed_dict={'images': B('images'),\n",
    "#                                           'labels': B('target')}, \n",
    "#                                save_to=[V('loss'), B('predictions')], mode='w')\n",
    "#                   .update_variable('loss_history', V('loss'), mode='a'))"
   ]
  },
  {
   "cell_type": "code",
   "execution_count": 259,
   "metadata": {},
   "outputs": [],
   "source": [
    "train_template = (Pipeline()\n",
    "                  .init_variable('loss_history', init_on_each_run=list)\n",
    "                  .init_model('dynamic', TFModel, 'image_model', config=model_config)\n",
    "                  .to_array()\n",
    "                  .train_model('image_model', fetches='TFModel/mean_squared_error/SquaredDifference:0',\n",
    "                               feed_dict={'images': B('images'),\n",
    "                                          'labels': B('target')}, \n",
    "                               save_to=V('loss_history'), mode='a')\n",
    "                  .update_loss_history_dict())\n",
    "\n",
    "train_pipeline = (load_ppl + train_template) << train_set\n",
    "\n",
    "test_template = (Pipeline()\n",
    "                  .init_variable('loss', init_on_each_run=0)\n",
    "                  .init_variable('loss_history', init_on_each_run=list)\n",
    "                  .import_model('image_model', train_pipeline)\n",
    "                  .to_array()\n",
    "                  .train_model('image_model', fetches=['loss', 'predictions'],\n",
    "                               feed_dict={'images': B('images'),\n",
    "                                          'labels': B('target')}, \n",
    "                               save_to=[V('loss'), B('predictions')], mode='w')\n",
    "                  .update_variable('loss_history', V('loss'), mode='a'))"
   ]
  },
  {
   "cell_type": "code",
   "execution_count": 260,
   "metadata": {
    "scrolled": false
   },
   "outputs": [],
   "source": [
    "test_pipeline = (load_ppl + test_template) << test_set"
   ]
  },
  {
   "cell_type": "code",
   "execution_count": 261,
   "metadata": {},
   "outputs": [
    {
     "name": "stderr",
     "output_type": "stream",
     "text": [
      "\n",
      "\n",
      "\n",
      "\n",
      "\n",
      "\n",
      "\n",
      "  0%|          | 0/195 [00:00<?, ?it/s]\u001b[A\u001b[A\u001b[A\u001b[A\u001b[A\u001b[A\u001b[A\n",
      "\n",
      "\n",
      "\n",
      "\n",
      "\n",
      "\n",
      "  1%|          | 2/195 [00:01<02:04,  1.55it/s]\u001b[A\u001b[A\u001b[A\u001b[A\u001b[A\u001b[A\u001b[A"
     ]
    },
    {
     "name": "stdout",
     "output_type": "stream",
     "text": [
      "before ['rr_286' 'rr_266' 'rr_230' 'rr_379' 'rr_364' 'rr_193' 'rr_322' 'rr_222'\n",
      " 'rr_217' 'rr_228' 'rr_256' 'rr_357' 'rr_298' 'rr_141' 'rr_350' 'rr_133'], after ['rr_322', 'rr_230', 'rr_222', 'rr_286', 'rr_379', 'rr_193', 'rr_266', 'rr_254', 'rr_364']\n"
     ]
    },
    {
     "data": {
      "text/plain": [
       "<__main__.TmpBatch at 0x7f88281052e8>"
      ]
     },
     "execution_count": 261,
     "metadata": {},
     "output_type": "execute_result"
    }
   ],
   "source": [
    "train_pipeline.next_batch(16, shuffle=True, n_epochs=10, drop_last=False, bar=True)\n",
    "train_pipeline.next_batch(16, shuffle=True, n_epochs=10, drop_last=False, bar=True)\n"
   ]
  },
  {
   "cell_type": "code",
   "execution_count": 262,
   "metadata": {},
   "outputs": [
    {
     "data": {
      "text/plain": [
       "{'rr_230': array([[ 1.1198589 ],\n",
       "        [ 6.6461263 ],\n",
       "        [12.382321  ],\n",
       "        [11.165186  ],\n",
       "        [ 0.19394444],\n",
       "        [ 4.1692014 ],\n",
       "        [ 1.1098679 ],\n",
       "        [15.137536  ],\n",
       "        [15.515944  ]], dtype=float32), 'rr_322': array([[3.7577052e+00],\n",
       "        [4.6302481e+00],\n",
       "        [3.5151083e+00],\n",
       "        [1.7970303e+00],\n",
       "        [7.2910577e-02],\n",
       "        [4.6198019e-01],\n",
       "        [8.2448912e+00],\n",
       "        [3.0802155e-02],\n",
       "        [9.5913863e-01],\n",
       "        [9.8366652e+00],\n",
       "        [1.3907053e+00],\n",
       "        [8.8872337e-01],\n",
       "        [7.3707223e-01],\n",
       "        [7.9253620e-01],\n",
       "        [1.6676658e-03],\n",
       "        [2.3728285e+00]], dtype=float32)}"
      ]
     },
     "execution_count": 262,
     "metadata": {},
     "output_type": "execute_result"
    }
   ],
   "source": [
    "(train_pipeline.get_variable('loss_history_dict'))"
   ]
  },
  {
   "cell_type": "code",
   "execution_count": 238,
   "metadata": {},
   "outputs": [
    {
     "data": {
      "text/plain": [
       "2"
      ]
     },
     "execution_count": 238,
     "metadata": {},
     "output_type": "execute_result"
    }
   ],
   "source": [
    "len(train_pipeline.get_variable('loss_history'))"
   ]
  },
  {
   "cell_type": "code",
   "execution_count": 151,
   "metadata": {},
   "outputs": [
    {
     "data": {
      "text/plain": [
       "<tf.Tensor 'TFModel/mean_squared_error/SquaredDifference:0' shape=(?, 1) dtype=float32>"
      ]
     },
     "execution_count": 151,
     "metadata": {},
     "output_type": "execute_result"
    }
   ],
   "source": [
    "train_pipeline.get_model_by_name('image_model').graph.get_tensor_by_name('TFModel/mean_squared_error/SquaredDifference:0')"
   ]
  },
  {
   "cell_type": "code",
   "execution_count": 60,
   "metadata": {},
   "outputs": [
    {
     "name": "stderr",
     "output_type": "stream",
     "text": [
      "\n",
      "  0%|          | 0/195 [00:00<?, ?it/s]\u001b[A\n",
      "  1%|          | 2/195 [00:01<02:23,  1.35it/s]\u001b[A\n",
      "  2%|▏         | 3/195 [00:01<01:50,  1.73it/s]\u001b[A\n",
      "  2%|▏         | 4/195 [00:01<01:27,  2.18it/s]\u001b[A\n",
      "  3%|▎         | 5/195 [00:02<01:10,  2.69it/s]\u001b[A\n",
      "  3%|▎         | 6/195 [00:02<00:58,  3.24it/s]\u001b[A\n",
      "  4%|▎         | 7/195 [00:02<00:51,  3.68it/s]\u001b[A\n",
      "  4%|▍         | 8/195 [00:02<00:45,  4.09it/s]\u001b[A\n",
      "  5%|▍         | 9/195 [00:02<00:41,  4.50it/s]\u001b[A\n",
      "  5%|▌         | 10/195 [00:02<00:38,  4.76it/s]\u001b[A\n",
      "  6%|▌         | 11/195 [00:03<00:36,  5.03it/s]\u001b[A\n",
      "  6%|▌         | 12/195 [00:03<00:34,  5.31it/s]\u001b[A\n",
      "  7%|▋         | 13/195 [00:03<00:32,  5.52it/s]\u001b[A\n",
      "  7%|▋         | 14/195 [00:03<00:32,  5.61it/s]\u001b[A\n",
      "  8%|▊         | 15/195 [00:03<00:32,  5.61it/s]\u001b[A\n",
      "  8%|▊         | 16/195 [00:03<00:31,  5.63it/s]\u001b[A\n",
      "  9%|▊         | 17/195 [00:04<00:30,  5.75it/s]\u001b[A\n",
      "  9%|▉         | 18/195 [00:04<00:30,  5.71it/s]\u001b[A\n",
      " 10%|▉         | 19/195 [00:04<00:30,  5.72it/s]\u001b[A\n",
      " 10%|█         | 20/195 [00:04<00:30,  5.69it/s]\u001b[A\n",
      " 11%|█         | 21/195 [00:04<00:30,  5.68it/s]\u001b[A\n",
      " 11%|█▏        | 22/195 [00:04<00:30,  5.71it/s]\u001b[A\n",
      " 12%|█▏        | 23/195 [00:05<00:30,  5.65it/s]\u001b[A\n",
      " 12%|█▏        | 24/195 [00:05<00:29,  5.74it/s]\u001b[A\n",
      " 13%|█▎        | 25/195 [00:05<00:29,  5.72it/s]\u001b[A\n",
      " 13%|█▎        | 26/195 [00:05<00:29,  5.72it/s]\u001b[A\n",
      " 14%|█▍        | 27/195 [00:05<00:29,  5.70it/s]\u001b[A\n",
      " 14%|█▍        | 28/195 [00:06<00:29,  5.61it/s]\u001b[A\n",
      " 15%|█▍        | 29/195 [00:06<00:29,  5.64it/s]\u001b[A\n",
      " 15%|█▌        | 30/195 [00:06<00:29,  5.63it/s]\u001b[A\n",
      " 16%|█▌        | 31/195 [00:06<00:28,  5.66it/s]\u001b[A\n",
      " 16%|█▋        | 32/195 [00:06<00:27,  5.89it/s]\u001b[A\n",
      " 17%|█▋        | 33/195 [00:06<00:28,  5.68it/s]\u001b[A\n",
      " 17%|█▋        | 34/195 [00:07<00:28,  5.73it/s]\u001b[A\n",
      " 18%|█▊        | 35/195 [00:07<00:28,  5.71it/s]\u001b[A\n",
      " 18%|█▊        | 36/195 [00:07<00:27,  5.81it/s]\u001b[A\n",
      " 19%|█▉        | 37/195 [00:07<00:27,  5.72it/s]\u001b[A\n",
      " 19%|█▉        | 38/195 [00:07<00:27,  5.70it/s]\u001b[A\n",
      " 20%|██        | 39/195 [00:07<00:27,  5.61it/s]\u001b[A\n",
      " 21%|██        | 40/195 [00:08<00:27,  5.70it/s]\u001b[A\n",
      " 21%|██        | 41/195 [00:08<00:27,  5.69it/s]\u001b[A\n",
      " 22%|██▏       | 42/195 [00:08<00:27,  5.65it/s]\u001b[A\n",
      " 22%|██▏       | 43/195 [00:08<00:26,  5.80it/s]\u001b[A\n",
      " 23%|██▎       | 44/195 [00:08<00:26,  5.68it/s]\u001b[A\n",
      " 23%|██▎       | 45/195 [00:09<00:25,  5.80it/s]\u001b[A\n",
      " 24%|██▎       | 46/195 [00:09<00:25,  5.76it/s]\u001b[A\n",
      " 24%|██▍       | 47/195 [00:09<00:25,  5.73it/s]\u001b[A\n",
      " 25%|██▍       | 48/195 [00:09<00:25,  5.72it/s]\u001b[A\n",
      " 25%|██▌       | 49/195 [00:09<00:25,  5.76it/s]\u001b[A\n",
      " 26%|██▌       | 50/195 [00:09<00:25,  5.78it/s]\u001b[A\n",
      " 26%|██▌       | 51/195 [00:10<00:24,  5.83it/s]\u001b[A\n",
      " 27%|██▋       | 52/195 [00:10<00:24,  5.79it/s]\u001b[A\n",
      " 27%|██▋       | 53/195 [00:10<00:24,  5.76it/s]\u001b[A\n",
      " 28%|██▊       | 54/195 [00:10<00:24,  5.77it/s]\u001b[A\n",
      " 28%|██▊       | 55/195 [00:10<00:23,  5.84it/s]\u001b[A\n",
      " 29%|██▊       | 56/195 [00:10<00:23,  5.86it/s]\u001b[A\n",
      " 29%|██▉       | 57/195 [00:11<00:23,  5.83it/s]\u001b[A\n",
      " 30%|██▉       | 58/195 [00:11<00:23,  5.72it/s]\u001b[A\n",
      " 30%|███       | 59/195 [00:11<00:23,  5.75it/s]\u001b[A\n",
      " 31%|███       | 60/195 [00:11<00:23,  5.68it/s]\u001b[A\n",
      " 31%|███▏      | 61/195 [00:11<00:23,  5.73it/s]\u001b[A\n",
      " 32%|███▏      | 62/195 [00:11<00:22,  5.79it/s]\u001b[A\n",
      " 32%|███▏      | 63/195 [00:12<00:22,  5.85it/s]\u001b[A\n",
      " 33%|███▎      | 64/195 [00:12<00:22,  5.86it/s]\u001b[A\n",
      " 33%|███▎      | 65/195 [00:12<00:22,  5.89it/s]\u001b[A\n",
      " 34%|███▍      | 66/195 [00:12<00:22,  5.83it/s]\u001b[A\n",
      " 34%|███▍      | 67/195 [00:12<00:22,  5.78it/s]\u001b[A\n",
      " 35%|███▍      | 68/195 [00:12<00:22,  5.64it/s]\u001b[A\n",
      " 35%|███▌      | 69/195 [00:13<00:22,  5.51it/s]\u001b[A\n",
      " 36%|███▌      | 70/195 [00:13<00:21,  5.68it/s]\u001b[A\n",
      " 36%|███▋      | 71/195 [00:13<00:21,  5.74it/s]\u001b[A\n",
      " 37%|███▋      | 72/195 [00:13<00:22,  5.53it/s]\u001b[A\n",
      " 37%|███▋      | 73/195 [00:13<00:22,  5.35it/s]\u001b[A\n",
      " 38%|███▊      | 74/195 [00:14<00:22,  5.42it/s]\u001b[A\n",
      " 38%|███▊      | 75/195 [00:14<00:21,  5.49it/s]\u001b[A\n",
      " 39%|███▉      | 76/195 [00:14<00:20,  5.85it/s]\u001b[A\n",
      " 39%|███▉      | 77/195 [00:14<00:20,  5.84it/s]\u001b[A\n",
      " 40%|████      | 78/195 [00:14<00:19,  5.92it/s]\u001b[A\n",
      " 41%|████      | 79/195 [00:14<00:19,  5.96it/s]\u001b[A\n",
      " 41%|████      | 80/195 [00:15<00:19,  5.89it/s]\u001b[A\n",
      " 42%|████▏     | 81/195 [00:15<00:19,  5.74it/s]\u001b[A\n",
      " 42%|████▏     | 82/195 [00:15<00:19,  5.85it/s]\u001b[A\n",
      " 43%|████▎     | 83/195 [00:15<00:19,  5.77it/s]\u001b[A\n",
      " 43%|████▎     | 84/195 [00:15<00:19,  5.82it/s]\u001b[A\n",
      " 44%|████▎     | 85/195 [00:15<00:18,  5.80it/s]\u001b[A\n",
      " 44%|████▍     | 86/195 [00:16<00:18,  5.92it/s]\u001b[A\n",
      " 45%|████▍     | 87/195 [00:16<00:18,  5.81it/s]\u001b[A\n",
      " 45%|████▌     | 88/195 [00:16<00:19,  5.61it/s]\u001b[A\n",
      " 46%|████▌     | 89/195 [00:16<00:18,  5.60it/s]\u001b[A\n",
      " 46%|████▌     | 90/195 [00:16<00:18,  5.58it/s]\u001b[A\n",
      " 47%|████▋     | 91/195 [00:17<00:18,  5.58it/s]\u001b[A\n",
      " 47%|████▋     | 92/195 [00:17<00:17,  5.92it/s]\u001b[A\n",
      " 48%|████▊     | 93/195 [00:17<00:17,  5.72it/s]\u001b[A\n",
      " 48%|████▊     | 94/195 [00:17<00:17,  5.66it/s]\u001b[A\n",
      " 49%|████▊     | 95/195 [00:17<00:17,  5.62it/s]\u001b[A\n",
      " 49%|████▉     | 96/195 [00:17<00:17,  5.69it/s]\u001b[A\n",
      " 50%|████▉     | 97/195 [00:18<00:17,  5.67it/s]\u001b[A\n",
      " 50%|█████     | 98/195 [00:18<00:17,  5.63it/s]\u001b[A\n",
      " 51%|█████     | 99/195 [00:18<00:16,  5.67it/s]\u001b[A\n",
      " 51%|█████▏    | 100/195 [00:18<00:15,  6.00it/s]\u001b[A\n",
      " 52%|█████▏    | 101/195 [00:18<00:15,  5.93it/s]\u001b[A\n",
      " 52%|█████▏    | 102/195 [00:18<00:15,  5.97it/s]\u001b[A\n",
      " 53%|█████▎    | 103/195 [00:19<00:15,  5.98it/s]\u001b[A\n",
      " 53%|█████▎    | 104/195 [00:19<00:15,  5.89it/s]\u001b[A\n",
      " 54%|█████▍    | 105/195 [00:19<00:15,  5.91it/s]\u001b[A\n",
      " 54%|█████▍    | 106/195 [00:19<00:15,  5.87it/s]\u001b[A\n",
      " 55%|█████▍    | 107/195 [00:19<00:14,  5.92it/s]\u001b[A\n",
      " 55%|█████▌    | 108/195 [00:19<00:14,  5.84it/s]\u001b[A\n",
      " 56%|█████▌    | 109/195 [00:20<00:14,  5.76it/s]\u001b[A\n",
      " 56%|█████▋    | 110/195 [00:20<00:14,  5.79it/s]\u001b[A\n",
      " 57%|█████▋    | 111/195 [00:20<00:13,  6.08it/s]\u001b[A\n",
      " 57%|█████▋    | 112/195 [00:20<00:13,  5.97it/s]\u001b[A\n",
      " 58%|█████▊    | 113/195 [00:20<00:14,  5.77it/s]\u001b[A\n",
      " 58%|█████▊    | 114/195 [00:20<00:14,  5.72it/s]\u001b[A\n",
      " 59%|█████▉    | 115/195 [00:21<00:14,  5.50it/s]\u001b[A\n",
      " 59%|█████▉    | 116/195 [00:21<00:14,  5.58it/s]\u001b[A\n",
      " 60%|██████    | 117/195 [00:21<00:14,  5.39it/s]\u001b[A\n",
      " 61%|██████    | 118/195 [00:21<00:14,  5.48it/s]\u001b[A\n",
      " 61%|██████    | 119/195 [00:21<00:13,  5.70it/s]\u001b[A\n",
      " 62%|██████▏   | 120/195 [00:22<00:13,  5.74it/s]\u001b[A\n",
      " 62%|██████▏   | 121/195 [00:22<00:12,  5.74it/s]\u001b[A\n",
      " 63%|██████▎   | 122/195 [00:22<00:12,  5.62it/s]\u001b[A\n",
      " 63%|██████▎   | 123/195 [00:22<00:12,  5.62it/s]\u001b[A\n",
      " 64%|██████▎   | 124/195 [00:22<00:12,  5.68it/s]\u001b[A\n",
      " 64%|██████▍   | 125/195 [00:22<00:12,  5.73it/s]\u001b[A\n",
      " 65%|██████▍   | 126/195 [00:23<00:12,  5.74it/s]\u001b[A\n",
      " 65%|██████▌   | 127/195 [00:23<00:11,  5.68it/s]\u001b[A\n",
      " 66%|██████▌   | 128/195 [00:23<00:11,  5.73it/s]\u001b[A\n",
      " 66%|██████▌   | 129/195 [00:23<00:11,  5.77it/s]\u001b[A\n",
      " 67%|██████▋   | 130/195 [00:23<00:11,  5.67it/s]\u001b[A\n",
      " 67%|██████▋   | 131/195 [00:23<00:11,  5.71it/s]\u001b[A\n",
      " 68%|██████▊   | 132/195 [00:24<00:11,  5.69it/s]\u001b[A\n",
      " 68%|██████▊   | 133/195 [00:24<00:11,  5.63it/s]\u001b[A\n",
      " 69%|██████▊   | 134/195 [00:24<00:11,  5.52it/s]\u001b[A\n",
      " 69%|██████▉   | 135/195 [00:24<00:10,  5.58it/s]\u001b[A\n",
      " 70%|██████▉   | 136/195 [00:24<00:10,  5.65it/s]\u001b[A\n",
      " 70%|███████   | 137/195 [00:25<00:10,  5.48it/s]\u001b[A\n",
      " 71%|███████   | 138/195 [00:25<00:10,  5.34it/s]\u001b[A\n",
      " 71%|███████▏  | 139/195 [00:25<00:10,  5.52it/s]\u001b[A\n",
      " 72%|███████▏  | 140/195 [00:25<00:09,  5.59it/s]\u001b[A\n",
      " 72%|███████▏  | 141/195 [00:25<00:09,  5.58it/s]\u001b[A\n",
      " 73%|███████▎  | 142/195 [00:25<00:09,  5.62it/s]\u001b[A\n",
      " 73%|███████▎  | 143/195 [00:26<00:09,  5.63it/s]\u001b[A\n",
      " 74%|███████▍  | 144/195 [00:26<00:09,  5.61it/s]\u001b[A\n",
      " 74%|███████▍  | 145/195 [00:26<00:08,  5.71it/s]\u001b[A\n",
      " 75%|███████▍  | 146/195 [00:26<00:08,  5.67it/s]\u001b[A\n",
      " 75%|███████▌  | 147/195 [00:26<00:08,  5.80it/s]\u001b[A\n",
      " 76%|███████▌  | 148/195 [00:27<00:08,  5.80it/s]\u001b[A\n",
      " 76%|███████▋  | 149/195 [00:27<00:08,  5.71it/s]\u001b[A\n",
      " 77%|███████▋  | 150/195 [00:27<00:08,  5.55it/s]\u001b[A\n",
      " 77%|███████▋  | 151/195 [00:27<00:07,  5.57it/s]\u001b[A\n",
      " 78%|███████▊  | 152/195 [00:27<00:07,  5.56it/s]\u001b[A\n",
      " 78%|███████▊  | 153/195 [00:27<00:07,  5.59it/s]\u001b[A\n",
      " 79%|███████▉  | 154/195 [00:28<00:07,  5.41it/s]\u001b[A\n",
      " 79%|███████▉  | 155/195 [00:28<00:07,  5.49it/s]\u001b[A\n",
      " 80%|████████  | 156/195 [00:28<00:07,  5.44it/s]\u001b[A\n",
      " 81%|████████  | 157/195 [00:28<00:06,  5.52it/s]\u001b[A\n",
      " 81%|████████  | 158/195 [00:28<00:06,  5.48it/s]\u001b[A\n",
      " 82%|████████▏ | 159/195 [00:29<00:06,  5.58it/s]\u001b[A\n",
      " 82%|████████▏ | 160/195 [00:29<00:06,  5.61it/s]\u001b[A\n",
      " 83%|████████▎ | 161/195 [00:29<00:06,  5.63it/s]\u001b[A\n",
      " 83%|████████▎ | 162/195 [00:29<00:05,  5.68it/s]\u001b[A\n",
      " 84%|████████▎ | 163/195 [00:29<00:05,  5.65it/s]\u001b[A\n",
      " 84%|████████▍ | 164/195 [00:29<00:05,  5.65it/s]\u001b[A\n",
      " 85%|████████▍ | 165/195 [00:30<00:05,  5.74it/s]\u001b[A\n",
      " 85%|████████▌ | 166/195 [00:30<00:04,  5.90it/s]\u001b[A\n",
      " 86%|████████▌ | 167/195 [00:30<00:04,  5.96it/s]\u001b[A\n",
      " 86%|████████▌ | 168/195 [00:30<00:04,  5.64it/s]\u001b[A\n",
      " 87%|████████▋ | 169/195 [00:30<00:04,  5.63it/s]\u001b[A\n",
      " 87%|████████▋ | 170/195 [00:30<00:04,  5.48it/s]\u001b[A\n",
      " 88%|████████▊ | 171/195 [00:31<00:04,  5.62it/s]\u001b[A\n",
      " 88%|████████▊ | 172/195 [00:31<00:04,  5.63it/s]\u001b[A\n",
      " 89%|████████▊ | 173/195 [00:31<00:03,  5.60it/s]\u001b[A\n",
      " 89%|████████▉ | 174/195 [00:31<00:03,  5.64it/s]\u001b[A\n",
      " 90%|████████▉ | 175/195 [00:31<00:03,  5.71it/s]\u001b[A\n",
      " 90%|█████████ | 176/195 [00:31<00:03,  5.79it/s]\u001b[A\n",
      " 91%|█████████ | 177/195 [00:32<00:03,  5.71it/s]\u001b[A\n",
      " 91%|█████████▏| 178/195 [00:32<00:03,  5.66it/s]\u001b[A\n",
      " 92%|█████████▏| 179/195 [00:32<00:02,  5.81it/s]\u001b[A\n",
      " 92%|█████████▏| 180/195 [00:32<00:02,  5.76it/s]\u001b[A\n",
      " 93%|█████████▎| 181/195 [00:32<00:02,  5.71it/s]\u001b[A\n",
      " 93%|█████████▎| 182/195 [00:33<00:02,  5.69it/s]\u001b[A\n",
      " 94%|█████████▍| 183/195 [00:33<00:02,  5.74it/s]\u001b[A\n",
      " 94%|█████████▍| 184/195 [00:33<00:01,  5.75it/s]\u001b[A\n",
      " 95%|█████████▍| 185/195 [00:33<00:01,  5.75it/s]\u001b[A\n",
      " 95%|█████████▌| 186/195 [00:33<00:01,  5.68it/s]\u001b[A\n",
      " 96%|█████████▌| 187/195 [00:33<00:01,  5.85it/s]\u001b[A\n",
      " 96%|█████████▋| 188/195 [00:34<00:01,  5.88it/s]\u001b[A\n",
      " 97%|█████████▋| 189/195 [00:34<00:01,  5.85it/s]\u001b[A\n",
      " 97%|█████████▋| 190/195 [00:34<00:00,  5.81it/s]\u001b[A\n",
      " 98%|█████████▊| 191/195 [00:34<00:00,  5.47it/s]\u001b[A\n",
      " 98%|█████████▊| 192/195 [00:34<00:00,  5.48it/s]\u001b[A\n",
      " 99%|█████████▉| 193/195 [00:34<00:00,  5.59it/s]\u001b[A\n",
      " 99%|█████████▉| 194/195 [00:35<00:00,  5.47it/s]\u001b[A\n",
      "\u001b[A\n",
      "  0%|          | 0/57 [00:00<?, ?it/s]\u001b[A\n",
      "  4%|▎         | 2/57 [00:00<00:09,  5.75it/s]\u001b[A\n",
      "  5%|▌         | 3/57 [00:00<00:09,  5.63it/s]\u001b[A\n",
      "  7%|▋         | 4/57 [00:00<00:09,  5.72it/s]\u001b[A\n",
      "  9%|▉         | 5/57 [00:00<00:09,  5.77it/s]\u001b[A\n",
      " 11%|█         | 6/57 [00:01<00:08,  5.74it/s]\u001b[A\n",
      " 12%|█▏        | 7/57 [00:01<00:08,  5.73it/s]\u001b[A\n",
      " 14%|█▍        | 8/57 [00:01<00:08,  5.70it/s]\u001b[A\n",
      " 16%|█▌        | 9/57 [00:01<00:08,  5.74it/s]\u001b[A\n",
      " 18%|█▊        | 10/57 [00:01<00:08,  5.61it/s]\u001b[A\n",
      " 19%|█▉        | 11/57 [00:01<00:08,  5.68it/s]\u001b[A\n",
      " 21%|██        | 12/57 [00:02<00:07,  5.67it/s]\u001b[A\n",
      " 23%|██▎       | 13/57 [00:02<00:07,  5.71it/s]\u001b[A\n",
      " 25%|██▍       | 14/57 [00:02<00:07,  5.63it/s]\u001b[A\n",
      " 26%|██▋       | 15/57 [00:02<00:07,  5.59it/s]\u001b[A\n",
      " 28%|██▊       | 16/57 [00:02<00:06,  5.90it/s]\u001b[A\n",
      " 30%|██▉       | 17/57 [00:02<00:06,  5.80it/s]\u001b[A\n",
      " 32%|███▏      | 18/57 [00:03<00:06,  5.76it/s]\u001b[A\n",
      " 33%|███▎      | 19/57 [00:03<00:06,  5.74it/s]\u001b[A\n",
      " 35%|███▌      | 20/57 [00:03<00:06,  5.75it/s]\u001b[A\n",
      " 37%|███▋      | 21/57 [00:03<00:06,  5.68it/s]\u001b[A\n",
      " 39%|███▊      | 22/57 [00:03<00:06,  5.66it/s]\u001b[A\n",
      " 40%|████      | 23/57 [00:04<00:06,  5.59it/s]\u001b[A\n",
      " 42%|████▏     | 24/57 [00:04<00:05,  5.61it/s]\u001b[A\n",
      " 44%|████▍     | 25/57 [00:04<00:05,  5.92it/s]\u001b[A\n",
      " 46%|████▌     | 26/57 [00:04<00:05,  5.77it/s]\u001b[A\n",
      " 47%|████▋     | 27/57 [00:04<00:05,  5.79it/s]\u001b[A\n",
      " 49%|████▉     | 28/57 [00:04<00:05,  5.73it/s]\u001b[A\n",
      " 51%|█████     | 29/57 [00:05<00:04,  5.89it/s]\u001b[A\n",
      " 53%|█████▎    | 30/57 [00:05<00:04,  5.82it/s]\u001b[A\n",
      " 54%|█████▍    | 31/57 [00:05<00:04,  5.84it/s]\u001b[A\n",
      " 56%|█████▌    | 32/57 [00:05<00:04,  5.85it/s]\u001b[A\n",
      " 58%|█████▊    | 33/57 [00:05<00:04,  5.96it/s]\u001b[A\n",
      " 60%|█████▉    | 34/57 [00:05<00:03,  5.91it/s]\u001b[A\n",
      " 61%|██████▏   | 35/57 [00:06<00:03,  5.91it/s]\u001b[A\n",
      " 63%|██████▎   | 36/57 [00:06<00:03,  5.91it/s]\u001b[A\n",
      " 65%|██████▍   | 37/57 [00:06<00:03,  6.03it/s]\u001b[A\n",
      " 67%|██████▋   | 38/57 [00:06<00:03,  5.90it/s]\u001b[A\n",
      " 68%|██████▊   | 39/57 [00:06<00:03,  5.96it/s]\u001b[A\n",
      " 70%|███████   | 40/57 [00:06<00:02,  5.76it/s]\u001b[A\n",
      " 72%|███████▏  | 41/57 [00:07<00:02,  6.03it/s]\u001b[A\n",
      " 74%|███████▎  | 42/57 [00:07<00:02,  5.98it/s]\u001b[A\n",
      " 75%|███████▌  | 43/57 [00:07<00:02,  5.95it/s]\u001b[A\n",
      " 77%|███████▋  | 44/57 [00:07<00:02,  5.92it/s]\u001b[A\n",
      " 79%|███████▉  | 45/57 [00:07<00:02,  5.90it/s]\u001b[A\n",
      " 81%|████████  | 46/57 [00:07<00:01,  5.98it/s]\u001b[A\n",
      " 82%|████████▏ | 47/57 [00:08<00:01,  5.79it/s]\u001b[A\n",
      " 84%|████████▍ | 48/57 [00:08<00:01,  5.76it/s]\u001b[A\n",
      " 86%|████████▌ | 49/57 [00:08<00:01,  5.79it/s]\u001b[A\n",
      " 88%|████████▊ | 50/57 [00:08<00:01,  6.00it/s]\u001b[A\n",
      " 89%|████████▉ | 51/57 [00:08<00:01,  5.96it/s]\u001b[A\n",
      " 91%|█████████ | 52/57 [00:08<00:00,  5.94it/s]\u001b[A\n",
      " 93%|█████████▎| 53/57 [00:09<00:00,  5.80it/s]\u001b[A\n",
      " 95%|█████████▍| 54/57 [00:09<00:00,  5.75it/s]\u001b[A\n",
      " 96%|█████████▋| 55/57 [00:09<00:00,  5.71it/s]\u001b[A\n",
      " 98%|█████████▊| 56/57 [00:09<00:00,  5.79it/s]\u001b[A\n",
      "\u001b[A"
     ]
    },
    {
     "data": {
      "text/plain": [
       "<radial.batchflow.batchflow.pipeline.Pipeline at 0x7fdff066ef98>"
      ]
     },
     "execution_count": 60,
     "metadata": {},
     "output_type": "execute_result"
    }
   ],
   "source": [
    "# for i in tqdm(range(500)):\n",
    "train_pipeline.run(16, shuffle=True, n_epochs=10, drop_last=False, bar=True)\n",
    "test_pipeline.run(16, shuffle=True, n_epochs=10, drop_last=False, bar=True)"
   ]
  },
  {
   "cell_type": "code",
   "execution_count": 64,
   "metadata": {},
   "outputs": [
    {
     "name": "stderr",
     "output_type": "stream",
     "text": [
      "\n",
      "\n",
      "  0%|          | 0/9223372036854775807 [00:00<?, ?it/s]\u001b[A\u001b[A"
     ]
    }
   ],
   "source": [
    "btch = test_pipeline.next_batch(len(test_set.indices), shuffle=True, n_epochs=None, drop_last=False, bar=True)"
   ]
  },
  {
   "cell_type": "code",
   "execution_count": 66,
   "metadata": {},
   "outputs": [],
   "source": [
    "metrics = np.abs(btch.predictions.reshape(-1) - btch.target.reshape(-1)) / btch.target.reshape(-1)\n",
    "metrics = metrics.astype(np.float32)"
   ]
  },
  {
   "cell_type": "code",
   "execution_count": 67,
   "metadata": {},
   "outputs": [
    {
     "data": {
      "text/plain": [
       "1.211188"
      ]
     },
     "execution_count": 67,
     "metadata": {},
     "output_type": "execute_result"
    }
   ],
   "source": [
    "np.mean(metrics)"
   ]
  },
  {
   "cell_type": "code",
   "execution_count": 68,
   "metadata": {},
   "outputs": [
    {
     "data": {
      "text/plain": [
       "1.6934712529182434"
      ]
     },
     "execution_count": 68,
     "metadata": {},
     "output_type": "execute_result"
    }
   ],
   "source": [
    "np.percentile(metrics, q=90)"
   ]
  },
  {
   "cell_type": "code",
   "execution_count": 70,
   "metadata": {},
   "outputs": [
    {
     "data": {
      "text/plain": [
       "(array([42., 22.,  6.,  6.,  0.,  2.,  0.,  0.,  1.,  1.]),\n",
       " array([0.00222824, 0.17049473, 0.33876122, 0.50702771, 0.6752942 ,\n",
       "        0.84356069, 1.01182717, 1.18009366, 1.34836015, 1.51662664,\n",
       "        1.68489313]),\n",
       " <a list of 10 Patch objects>)"
      ]
     },
     "execution_count": 70,
     "metadata": {},
     "output_type": "execute_result"
    },
    {
     "data": {
      "image/png": "[encoded data removed]",
      "text/plain": [
       "<Figure size 432x288 with 1 Axes>"
      ]
     },
     "metadata": {},
     "output_type": "display_data"
    }
   ],
   "source": [
    "plt.hist(np.sort(metrics)[:-10])"
   ]
  },
  {
   "cell_type": "code",
   "execution_count": 71,
   "metadata": {},
   "outputs": [
    {
     "data": {
      "text/plain": [
       "(array([9., 0., 0., 0., 0., 0., 0., 0., 0., 1.]),\n",
       " array([ 1.69254255,  7.80386004, 13.91517754, 20.02649503, 26.13781252,\n",
       "        32.24913001, 38.3604475 , 44.47176499, 50.58308249, 56.69439998,\n",
       "        62.80571747]),\n",
       " <a list of 10 Patch objects>)"
      ]
     },
     "execution_count": 71,
     "metadata": {},
     "output_type": "execute_result"
    },
    {
     "data": {
      "image/png": "[encoded data removed]",
      "text/plain": [
       "<Figure size 432x288 with 1 Axes>"
      ]
     },
     "metadata": {},
     "output_type": "display_data"
    }
   ],
   "source": [
    "plt.hist(np.sort(metrics)[-10:])"
   ]
  },
  {
   "cell_type": "code",
   "execution_count": 84,
   "metadata": {},
   "outputs": [],
   "source": [
    "ix = np.argsort(metrics)"
   ]
  },
  {
   "cell_type": "markdown",
   "metadata": {},
   "source": [
    "Let's have a look at the worst predictions"
   ]
  },
  {
   "cell_type": "code",
   "execution_count": 85,
   "metadata": {},
   "outputs": [
    {
     "name": "stdout",
     "output_type": "stream",
     "text": [
      "target=[0.0029142], prediction=[0.18594268]\n"
     ]
    },
    {
     "data": {
      "image/png": "[encoded data removed]",
      "text/plain": [
       "<Figure size 432x288 with 1 Axes>"
      ]
     },
     "metadata": {},
     "output_type": "display_data"
    },
    {
     "name": "stdout",
     "output_type": "stream",
     "text": [
      "target=[0.02871019], prediction=[0.19995946]\n"
     ]
    },
    {
     "data": {
      "image/png": "[encoded data removed]",
      "text/plain": [
       "<Figure size 432x288 with 1 Axes>"
      ]
     },
     "metadata": {},
     "output_type": "display_data"
    },
    {
     "name": "stdout",
     "output_type": "stream",
     "text": [
      "target=[0.0199481], prediction=[0.11976636]\n"
     ]
    },
    {
     "data": {
      "image/png": "[encoded data removed]",
      "text/plain": [
       "<Figure size 432x288 with 1 Axes>"
      ]
     },
     "metadata": {},
     "output_type": "display_data"
    },
    {
     "name": "stdout",
     "output_type": "stream",
     "text": [
      "target=[0.01342052], prediction=[-0.03695702]\n"
     ]
    },
    {
     "data": {
      "image/png": "[encoded data removed]",
      "text/plain": [
       "<Figure size 432x288 with 1 Axes>"
      ]
     },
     "metadata": {},
     "output_type": "display_data"
    },
    {
     "name": "stdout",
     "output_type": "stream",
     "text": [
      "target=[0.04836037], prediction=[-0.09613595]\n"
     ]
    },
    {
     "data": {
      "image/png": "[encoded data removed]",
      "text/plain": [
       "<Figure size 432x288 with 1 Axes>"
      ]
     },
     "metadata": {},
     "output_type": "display_data"
    },
    {
     "name": "stdout",
     "output_type": "stream",
     "text": [
      "target=[0.03468613], prediction=[0.10359547]\n"
     ]
    },
    {
     "data": {
      "image/png": "[encoded data removed]",
      "text/plain": [
       "<Figure size 432x288 with 1 Axes>"
      ]
     },
     "metadata": {},
     "output_type": "display_data"
    },
    {
     "name": "stdout",
     "output_type": "stream",
     "text": [
      "target=[0.0363825], prediction=[0.10751855]\n"
     ]
    },
    {
     "data": {
      "image/png": "[encoded data removed]",
      "text/plain": [
       "<Figure size 432x288 with 1 Axes>"
      ]
     },
     "metadata": {},
     "output_type": "display_data"
    },
    {
     "name": "stdout",
     "output_type": "stream",
     "text": [
      "target=[0.04358268], prediction=[-0.03974568]\n"
     ]
    },
    {
     "data": {
      "image/png": "[encoded data removed]",
      "text/plain": [
       "<Figure size 432x288 with 1 Axes>"
      ]
     },
     "metadata": {},
     "output_type": "display_data"
    },
    {
     "name": "stdout",
     "output_type": "stream",
     "text": [
      "target=[0.00776829], prediction=[0.02098861]\n"
     ]
    },
    {
     "data": {
      "image/png": "[encoded data removed]",
      "text/plain": [
       "<Figure size 432x288 with 1 Axes>"
      ]
     },
     "metadata": {},
     "output_type": "display_data"
    },
    {
     "name": "stdout",
     "output_type": "stream",
     "text": [
      "target=[0.05298849], prediction=[0.14267376]\n"
     ]
    },
    {
     "data": {
      "image/png": "[encoded data removed]",
      "text/plain": [
       "<Figure size 432x288 with 1 Axes>"
      ]
     },
     "metadata": {},
     "output_type": "display_data"
    },
    {
     "name": "stdout",
     "output_type": "stream",
     "text": [
      "target=[0.0255464], prediction=[0.06858936]\n"
     ]
    },
    {
     "data": {
      "image/png": "[encoded data removed]",
      "text/plain": [
       "<Figure size 432x288 with 1 Axes>"
      ]
     },
     "metadata": {},
     "output_type": "display_data"
    },
    {
     "name": "stdout",
     "output_type": "stream",
     "text": [
      "target=[0.06140565], prediction=[0.1481391]\n"
     ]
    },
    {
     "data": {
      "image/png": "[encoded data removed]",
      "text/plain": [
       "<Figure size 432x288 with 1 Axes>"
      ]
     },
     "metadata": {},
     "output_type": "display_data"
    },
    {
     "name": "stdout",
     "output_type": "stream",
     "text": [
      "target=[0.05978367], prediction=[0.11400279]\n"
     ]
    },
    {
     "data": {
      "image/png": "[encoded data removed]",
      "text/plain": [
       "<Figure size 432x288 with 1 Axes>"
      ]
     },
     "metadata": {},
     "output_type": "display_data"
    },
    {
     "name": "stdout",
     "output_type": "stream",
     "text": [
      "target=[0.04559509], prediction=[0.00705211]\n"
     ]
    },
    {
     "data": {
      "image/png": "[encoded data removed]",
      "text/plain": [
       "<Figure size 432x288 with 1 Axes>"
      ]
     },
     "metadata": {},
     "output_type": "display_data"
    },
    {
     "name": "stdout",
     "output_type": "stream",
     "text": [
      "target=[0.1712788], prediction=[0.28139693]\n"
     ]
    },
    {
     "data": {
      "image/png": "[encoded data removed]",
      "text/plain": [
       "<Figure size 432x288 with 1 Axes>"
      ]
     },
     "metadata": {},
     "output_type": "display_data"
    },
    {
     "name": "stdout",
     "output_type": "stream",
     "text": [
      "target=[0.09789339], prediction=[0.16061169]\n"
     ]
    },
    {
     "data": {
      "image/png": "[encoded data removed]",
      "text/plain": [
       "<Figure size 432x288 with 1 Axes>"
      ]
     },
     "metadata": {},
     "output_type": "display_data"
    },
    {
     "name": "stdout",
     "output_type": "stream",
     "text": [
      "target=[0.19161868], prediction=[0.30408525]\n"
     ]
    },
    {
     "data": {
      "image/png": "[encoded data removed]",
      "text/plain": [
       "<Figure size 432x288 with 1 Axes>"
      ]
     },
     "metadata": {},
     "output_type": "display_data"
    },
    {
     "name": "stdout",
     "output_type": "stream",
     "text": [
      "target=[0.08091825], prediction=[0.12662035]\n"
     ]
    },
    {
     "data": {
      "image/png": "[encoded data removed]",
      "text/plain": [
       "<Figure size 432x288 with 1 Axes>"
      ]
     },
     "metadata": {},
     "output_type": "display_data"
    },
    {
     "name": "stdout",
     "output_type": "stream",
     "text": [
      "target=[0.15144314], prediction=[0.06863426]\n"
     ]
    },
    {
     "data": {
      "image/png": "[encoded data removed]",
      "text/plain": [
       "<Figure size 432x288 with 1 Axes>"
      ]
     },
     "metadata": {},
     "output_type": "display_data"
    }
   ],
   "source": [
    "for i in range(1, 20):\n",
    "    plt.imshow(btch.images[ix][-i, :, :, 0])\n",
    "    print('target={}, prediction={}'.format(btch.target[ix][-i], btch.predictions[ix][-i]))\n",
    "    plt.show()"
   ]
  },
  {
   "cell_type": "markdown",
   "metadata": {},
   "source": [
    "# Train and test loss"
   ]
  },
  {
   "cell_type": "code",
   "execution_count": 62,
   "metadata": {},
   "outputs": [
    {
     "data": {
      "image/png": "[encoded data removed]",
      "text/plain": [
       "<Figure size 432x288 with 1 Axes>"
      ]
     },
     "metadata": {},
     "output_type": "display_data"
    },
    {
     "data": {
      "image/png": "[encoded data removed]",
      "text/plain": [
       "<Figure size 432x288 with 1 Axes>"
      ]
     },
     "metadata": {},
     "output_type": "display_data"
    }
   ],
   "source": [
    "plt.plot(train_pipeline.get_variable('loss_history')[-50:])\n",
    "plt.show()\n",
    "\n",
    "plt.plot(test_pipeline.get_variable('loss_history'))\n",
    "plt.show()"
   ]
  },
  {
   "cell_type": "markdown",
   "metadata": {},
   "source": [
    "looks pretty much the same as the non-image models"
   ]
  }
 ],
 "metadata": {
  "kernelspec": {
   "display_name": "Python 3",
   "language": "python",
   "name": "python3"
  },
  "language_info": {
   "codemirror_mode": {
    "name": "ipython",
    "version": 3
   },
   "file_extension": ".py",
   "mimetype": "text/x-python",
   "name": "python",
   "nbconvert_exporter": "python",
   "pygments_lexer": "ipython3",
   "version": "3.5.2"
  }
 },
 "nbformat": 4,
 "nbformat_minor": 2
}
