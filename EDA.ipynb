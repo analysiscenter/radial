{
 "cells": [
  {
   "cell_type": "code",
   "execution_count": 1,
   "metadata": {},
   "outputs": [],
   "source": [
    "import pandas as pd\n",
    "import xlrd\n",
    "\n",
    "from matplotlib import pyplot as plt"
   ]
  },
  {
   "cell_type": "markdown",
   "metadata": {},
   "source": [
    "# Real data"
   ]
  },
  {
   "cell_type": "markdown",
   "metadata": {},
   "source": [
    "## Loading"
   ]
  },
  {
   "cell_type": "markdown",
   "metadata": {},
   "source": [
    "Reading xlsx files:"
   ]
  },
  {
   "cell_type": "code",
   "execution_count": 2,
   "metadata": {},
   "outputs": [
    {
     "name": "stdout",
     "output_type": "stream",
     "text": [
      "Train sheets: 311\n",
      "Test sheets: 90\n"
     ]
    }
   ],
   "source": [
    "train_xls = xlrd.open_workbook('./ignore/data/Real/train_311.xlsx')\n",
    "test_xls = xlrd.open_workbook('./ignore/data/Real/test_90.xlsx')\n",
    "\n",
    "# Check that number of sheets is right\n",
    "print(\"Train sheets: {}\".format(train_xls.nsheets))\n",
    "print(\"Test sheets: {}\".format(test_xls.nsheets))"
   ]
  },
  {
   "cell_type": "markdown",
   "metadata": {},
   "source": [
    "Putting everything in dict, making some preprocessing on the fly:"
   ]
  },
  {
   "cell_type": "code",
   "execution_count": 3,
   "metadata": {},
   "outputs": [],
   "source": [
    "data = dict(time = [],\n",
    "            pressure = [],\n",
    "            derivative = [],\n",
    "            rig_type = [],\n",
    "            target = []\n",
    "           )\n",
    "\n",
    "for shnum in range(test_xls.nsheets):\n",
    "    sheet = test_xls.sheet_by_index(shnum)\n",
    "    data['time'].append([val for val in sheet.col_values(0)[2:] if val!=''])\n",
    "    data['pressure'].append([val for val in sheet.col_values(1)[2:] if val!=''])\n",
    "    data['derivative'].append([val for val in sheet.col_values(2)[2:] if val !=''])\n",
    "    data['rig_type'].append(sheet.col_values(4)[2])\n",
    "    data['target'].append(sheet.col_values(6)[2])\n",
    "\n",
    "for shnum in range(train_xls.nsheets):\n",
    "    sheet = train_xls.sheet_by_index(shnum)\n",
    "    data['time'].append([val for val in sheet.col_values(0)[2:] if val!=''])\n",
    "    data['pressure'].append([val for val in sheet.col_values(1)[2:] if val!=''])\n",
    "    data['derivative'].append([val for val in sheet.col_values(2)[2:] if val !=''])\n",
    "    data['rig_type'].append(sheet.col_values(4)[2])\n",
    "    data['target'].append(sheet.col_values(6)[2])"
   ]
  },
  {
   "cell_type": "markdown",
   "metadata": {},
   "source": [
    "## EDA"
   ]
  },
  {
   "cell_type": "markdown",
   "metadata": {},
   "source": [
    "Making a DataFrame from dict:"
   ]
  },
  {
   "cell_type": "code",
   "execution_count": 4,
   "metadata": {},
   "outputs": [],
   "source": [
    "rad = pd.DataFrame.from_dict(data)"
   ]
  },
  {
   "cell_type": "markdown",
   "metadata": {},
   "source": [
    "Check that lenght of arrays are the same:"
   ]
  },
  {
   "cell_type": "code",
   "execution_count": 5,
   "metadata": {},
   "outputs": [],
   "source": [
    "assert [len(t) for t in rad.time] == [len(p) for p in rad.pressure]\n",
    "assert [len(t) for t in rad.time] == [len(d) for d in rad.derivative]"
   ]
  },
  {
   "cell_type": "markdown",
   "metadata": {},
   "source": [
    "If we plot the time series, we can see that time values are not strictly increasing!"
   ]
  },
  {
   "cell_type": "code",
   "execution_count": 6,
   "metadata": {},
   "outputs": [
    {
     "data": {
      "text/plain": [
       "[<matplotlib.lines.Line2D at 0x7f4d4516d898>]"
      ]
     },
     "execution_count": 6,
     "metadata": {},
     "output_type": "execute_result"
    },
    {
     "data": {
      "image/png": "[encoded data removed]",
      "text/plain": [
       "<Figure size 432x288 with 1 Axes>"
      ]
     },
     "metadata": {},
     "output_type": "display_data"
    }
   ],
   "source": [
    "plt.plot(rad.time[0])"
   ]
  },
  {
   "cell_type": "markdown",
   "metadata": {},
   "source": [
    "Here is an example:"
   ]
  },
  {
   "cell_type": "code",
   "execution_count": 7,
   "metadata": {},
   "outputs": [
    {
     "data": {
      "text/plain": [
       "[649.669450075801,\n",
       " 622.964279822927,\n",
       " 595.317695750304,\n",
       " 938.260672921478,\n",
       " 217.814474463996,\n",
       " 136.536202462726,\n",
       " 176.059091496719,\n",
       " 192.252938728972,\n",
       " 215.095659606503,\n",
       " 240.703954012804]"
      ]
     },
     "execution_count": 7,
     "metadata": {},
     "output_type": "execute_result"
    }
   ],
   "source": [
    "rad.time[0][190:200]"
   ]
  },
  {
   "cell_type": "code",
   "execution_count": 11,
   "metadata": {},
   "outputs": [],
   "source": [
    "# Some plotting"
   ]
  },
  {
   "cell_type": "code",
   "execution_count": 8,
   "metadata": {},
   "outputs": [],
   "source": [
    "def plot_real(index, df, P=False):\n",
    "    \"\"\"\n",
    "    Simple function to plot pressure and its derivative vs time.\n",
    "    \"\"\"\n",
    "    f = plt.figure(figsize=(12,6))\n",
    "    ax = f.add_subplot(111)\n",
    "    ax.plot(df.time[index], df.derivative[index])\n",
    "    if P:\n",
    "        ax.plot(df.time[index], df.pressure[index])\n",
    "    ax.hlines(df.target[index], 0, max(df.time[index]), 'r')\n",
    "    ax.grid(True)\n",
    "    ax.set_yscale('log')\n",
    "    ax.set_xscale('log')\n",
    "    plt.show()"
   ]
  },
  {
   "cell_type": "markdown",
   "metadata": {},
   "source": [
    "At 58th observation from test set we can see that in several moments derivative is equal to 0, while pressure grows. This might be "
   ]
  },
  {
   "cell_type": "code",
   "execution_count": 9,
   "metadata": {},
   "outputs": [
    {
     "data": {
      "image/png": "[encoded data removed]",
      "text/plain": [
       "<Figure size 864x432 with 1 Axes>"
      ]
     },
     "metadata": {},
     "output_type": "display_data"
    }
   ],
   "source": [
    "plot_real(58, rad, True)"
   ]
  },
  {
   "cell_type": "markdown",
   "metadata": {},
   "source": [
    "# Synthetic data"
   ]
  },
  {
   "cell_type": "markdown",
   "metadata": {},
   "source": [
    "## Loading"
   ]
  },
  {
   "cell_type": "code",
   "execution_count": 12,
   "metadata": {},
   "outputs": [],
   "source": [
    "grp = pd.read_csv('./ignore/data/Synthetic/GRP.csv', sep=';')"
   ]
  },
  {
   "cell_type": "code",
   "execution_count": 18,
   "metadata": {},
   "outputs": [
    {
     "data": {
      "text/html": [
       "<div>\n",
       "<style scoped>\n",
       "    .dataframe tbody tr th:only-of-type {\n",
       "        vertical-align: middle;\n",
       "    }\n",
       "\n",
       "    .dataframe tbody tr th {\n",
       "        vertical-align: top;\n",
       "    }\n",
       "\n",
       "    .dataframe thead th {\n",
       "        text-align: right;\n",
       "    }\n",
       "</style>\n",
       "<table border=\"1\" class=\"dataframe\">\n",
       "  <thead>\n",
       "    <tr style=\"text-align: right;\">\n",
       "      <th></th>\n",
       "      <th>dPrad</th>\n",
       "      <th>Flag</th>\n",
       "      <th>t1</th>\n",
       "      <th>t2</th>\n",
       "      <th>t3</th>\n",
       "      <th>t4</th>\n",
       "      <th>t5</th>\n",
       "      <th>t6</th>\n",
       "      <th>t7</th>\n",
       "      <th>t8</th>\n",
       "      <th>...</th>\n",
       "      <th>p26</th>\n",
       "      <th>p27</th>\n",
       "      <th>p28</th>\n",
       "      <th>p29</th>\n",
       "      <th>p30</th>\n",
       "      <th>p31</th>\n",
       "      <th>p32</th>\n",
       "      <th>p33</th>\n",
       "      <th>p34</th>\n",
       "      <th>p35</th>\n",
       "    </tr>\n",
       "  </thead>\n",
       "  <tbody>\n",
       "    <tr>\n",
       "      <th>0</th>\n",
       "      <td>4.964700</td>\n",
       "      <td>1</td>\n",
       "      <td>0.142302</td>\n",
       "      <td>0.201008</td>\n",
       "      <td>0.283931</td>\n",
       "      <td>0.401063</td>\n",
       "      <td>0.566516</td>\n",
       "      <td>0.800226</td>\n",
       "      <td>1.130349</td>\n",
       "      <td>1.596660</td>\n",
       "      <td>...</td>\n",
       "      <td>4.843167</td>\n",
       "      <td>4.869824</td>\n",
       "      <td>4.885403</td>\n",
       "      <td>4.905776</td>\n",
       "      <td>4.918480</td>\n",
       "      <td>4.944263</td>\n",
       "      <td>4.964698</td>\n",
       "      <td>4.966755</td>\n",
       "      <td>4.972298</td>\n",
       "      <td>4.981056</td>\n",
       "    </tr>\n",
       "    <tr>\n",
       "      <th>1</th>\n",
       "      <td>9.603391</td>\n",
       "      <td>1</td>\n",
       "      <td>0.142640</td>\n",
       "      <td>0.201485</td>\n",
       "      <td>0.284605</td>\n",
       "      <td>0.402015</td>\n",
       "      <td>0.567862</td>\n",
       "      <td>0.802126</td>\n",
       "      <td>1.133033</td>\n",
       "      <td>1.600451</td>\n",
       "      <td>...</td>\n",
       "      <td>8.197295</td>\n",
       "      <td>8.559702</td>\n",
       "      <td>8.872169</td>\n",
       "      <td>9.118807</td>\n",
       "      <td>9.239828</td>\n",
       "      <td>9.341486</td>\n",
       "      <td>9.503876</td>\n",
       "      <td>9.566713</td>\n",
       "      <td>9.603391</td>\n",
       "      <td>9.635922</td>\n",
       "    </tr>\n",
       "    <tr>\n",
       "      <th>2</th>\n",
       "      <td>99.234300</td>\n",
       "      <td>1</td>\n",
       "      <td>0.200000</td>\n",
       "      <td>0.300000</td>\n",
       "      <td>0.400000</td>\n",
       "      <td>0.600000</td>\n",
       "      <td>0.800000</td>\n",
       "      <td>1.133033</td>\n",
       "      <td>1.600451</td>\n",
       "      <td>2.260698</td>\n",
       "      <td>...</td>\n",
       "      <td>93.912665</td>\n",
       "      <td>95.586075</td>\n",
       "      <td>96.750701</td>\n",
       "      <td>97.112031</td>\n",
       "      <td>97.658911</td>\n",
       "      <td>98.355972</td>\n",
       "      <td>98.933263</td>\n",
       "      <td>99.127890</td>\n",
       "      <td>99.366391</td>\n",
       "      <td>99.622634</td>\n",
       "    </tr>\n",
       "    <tr>\n",
       "      <th>3</th>\n",
       "      <td>0.995000</td>\n",
       "      <td>1</td>\n",
       "      <td>0.500000</td>\n",
       "      <td>1.000000</td>\n",
       "      <td>1.500000</td>\n",
       "      <td>2.000000</td>\n",
       "      <td>3.000000</td>\n",
       "      <td>4.000000</td>\n",
       "      <td>5.665164</td>\n",
       "      <td>8.002257</td>\n",
       "      <td>...</td>\n",
       "      <td>0.979080</td>\n",
       "      <td>0.982906</td>\n",
       "      <td>0.985387</td>\n",
       "      <td>0.986238</td>\n",
       "      <td>0.987033</td>\n",
       "      <td>0.989083</td>\n",
       "      <td>0.991247</td>\n",
       "      <td>0.994639</td>\n",
       "      <td>0.994921</td>\n",
       "      <td>0.996324</td>\n",
       "    </tr>\n",
       "    <tr>\n",
       "      <th>4</th>\n",
       "      <td>0.199220</td>\n",
       "      <td>1</td>\n",
       "      <td>0.127128</td>\n",
       "      <td>0.160045</td>\n",
       "      <td>0.201485</td>\n",
       "      <td>0.253654</td>\n",
       "      <td>0.319332</td>\n",
       "      <td>0.402015</td>\n",
       "      <td>0.506107</td>\n",
       "      <td>0.637151</td>\n",
       "      <td>...</td>\n",
       "      <td>0.195222</td>\n",
       "      <td>0.195461</td>\n",
       "      <td>0.196087</td>\n",
       "      <td>0.196434</td>\n",
       "      <td>0.197363</td>\n",
       "      <td>0.198113</td>\n",
       "      <td>0.198730</td>\n",
       "      <td>0.199220</td>\n",
       "      <td>0.199638</td>\n",
       "      <td>0.199813</td>\n",
       "    </tr>\n",
       "  </tbody>\n",
       "</table>\n",
       "<p>5 rows × 72 columns</p>\n",
       "</div>"
      ],
      "text/plain": [
       "       dPrad  Flag        t1        t2        t3        t4        t5  \\\n",
       "0   4.964700     1  0.142302  0.201008  0.283931  0.401063  0.566516   \n",
       "1   9.603391     1  0.142640  0.201485  0.284605  0.402015  0.567862   \n",
       "2  99.234300     1  0.200000  0.300000  0.400000  0.600000  0.800000   \n",
       "3   0.995000     1  0.500000  1.000000  1.500000  2.000000  3.000000   \n",
       "4   0.199220     1  0.127128  0.160045  0.201485  0.253654  0.319332   \n",
       "\n",
       "         t6        t7        t8    ...            p26        p27        p28  \\\n",
       "0  0.800226  1.130349  1.596660    ...       4.843167   4.869824   4.885403   \n",
       "1  0.802126  1.133033  1.600451    ...       8.197295   8.559702   8.872169   \n",
       "2  1.133033  1.600451  2.260698    ...      93.912665  95.586075  96.750701   \n",
       "3  4.000000  5.665164  8.002257    ...       0.979080   0.982906   0.985387   \n",
       "4  0.402015  0.506107  0.637151    ...       0.195222   0.195461   0.196087   \n",
       "\n",
       "         p29        p30        p31        p32        p33        p34        p35  \n",
       "0   4.905776   4.918480   4.944263   4.964698   4.966755   4.972298   4.981056  \n",
       "1   9.118807   9.239828   9.341486   9.503876   9.566713   9.603391   9.635922  \n",
       "2  97.112031  97.658911  98.355972  98.933263  99.127890  99.366391  99.622634  \n",
       "3   0.986238   0.987033   0.989083   0.991247   0.994639   0.994921   0.996324  \n",
       "4   0.196434   0.197363   0.198113   0.198730   0.199220   0.199638   0.199813  \n",
       "\n",
       "[5 rows x 72 columns]"
      ]
     },
     "execution_count": 18,
     "metadata": {},
     "output_type": "execute_result"
    }
   ],
   "source": [
    "grp.head()"
   ]
  },
  {
   "cell_type": "code",
   "execution_count": 32,
   "metadata": {},
   "outputs": [],
   "source": [
    "def plot_synthetic(index, df):\n",
    "    f = plt.figure(figsize=(12,6))\n",
    "    ax = f.add_subplot(111)\n",
    "    ax.plot(grp.iloc[index, 2:37], grp.iloc[index, 37:])\n",
    "    ax.hlines(grp.iloc[index, 0], 0, grp.iloc[index, 36])\n",
    "    ax.grid(True)\n",
    "    ax.set_yscale('log')\n",
    "    ax.set_xscale('log')\n",
    "    plt.show()"
   ]
  },
  {
   "cell_type": "code",
   "execution_count": 43,
   "metadata": {},
   "outputs": [
    {
     "data": {
      "image/png": "[encoded data removed]",
      "text/plain": [
       "<Figure size 864x432 with 1 Axes>"
      ]
     },
     "metadata": {},
     "output_type": "display_data"
    }
   ],
   "source": [
    "plot_synthetic(66, grp)"
   ]
  },
  {
   "cell_type": "markdown",
   "metadata": {},
   "source": [
    "# Questions"
   ]
  },
  {
   "cell_type": "markdown",
   "metadata": {},
   "source": [
    "Как считается производная?\n",
    "\n",
    "В этих данных выбросы уже удалены?\n",
    "\n",
    "В данных есть отрицательные давления, это нормально? Что с ними делать?\n",
    "\n",
    "Во многих наблюдениях время не строго возрастающее. Надо отсортировать? Или это несет в себе смысл? (тест, лист 1)\n",
    "\n",
    "В некоторых налюдениях производная равна 0, а давление растёт в точке - это ошибка / выброс? (тест, лист 59)\n",
    "\n",
    "В синтетических данных dPrad - значение радиального режима. В реальных данных такой столбец тоже\n",
    "присутствует, что он отображает? Нормально ли, что он не равен t (target)?"
   ]
  }
 ],
 "metadata": {
  "kernelspec": {
   "display_name": "Python 3",
   "language": "python",
   "name": "python3"
  },
  "language_info": {
   "codemirror_mode": {
    "name": "ipython",
    "version": 3
   },
   "file_extension": ".py",
   "mimetype": "text/x-python",
   "name": "python",
   "nbconvert_exporter": "python",
   "pygments_lexer": "ipython3",
   "version": "3.6.5"
  }
 },
 "nbformat": 4,
 "nbformat_minor": 2
}
